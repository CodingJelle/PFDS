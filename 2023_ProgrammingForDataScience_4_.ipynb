{
 "cells": [
  {
   "attachments": {},
   "cell_type": "markdown",
   "id": "8d2837bc",
   "metadata": {},
   "source": [
    "# Masterclass Programming for Data science\n",
    "\n",
    "## Masterclass 4\n",
    "\n",
    "### Tuesday, 23 May 2023"
   ]
  },
  {
   "attachments": {},
   "cell_type": "markdown",
   "id": "9acd7837",
   "metadata": {},
   "source": [
    "---"
   ]
  },
  {
   "attachments": {},
   "cell_type": "markdown",
   "id": "dff760c4",
   "metadata": {},
   "source": [
    "## Agenda for today\n",
    "\n",
    "**4.0 Recap previous class and homework** \n",
    "\n",
    "**4.1 Object-oriented programming & Classes**\n",
    "\n",
    "**4.2 NumPy & Vectorization**\n",
    "\n",
    "**4.3 Your own project**"
   ]
  },
  {
   "attachments": {},
   "cell_type": "markdown",
   "id": "6a679216",
   "metadata": {},
   "source": [
    "---"
   ]
  },
  {
   "attachments": {},
   "cell_type": "markdown",
   "id": "09614d0e",
   "metadata": {},
   "source": [
    "# 4.0 Recap\n",
    "\n",
    "## Topics previous class\n",
    "**3.1 Data-wrangling I: data acquisition**\n",
    "\n",
    "**3.2 Data-wrangling II: data transformation**\n"
   ]
  },
  {
   "attachments": {},
   "cell_type": "markdown",
   "id": "bda7e1c3",
   "metadata": {},
   "source": [
    "# 4.1 Object-oriented programming & Classes"
   ]
  },
  {
   "attachments": {},
   "cell_type": "markdown",
   "id": "f56a4111",
   "metadata": {},
   "source": [
    "Primitive data structures—like numbers, strings, and lists—are designed to represent simple pieces of information, such as the cost of an apple, the name of a poem, or your favorite colors, respectively. What if you want to represent something more complex?\n",
    "\n",
    "For example, let’s say you want to track employees in an organization. You need to store some basic information about each employee, such as their name, age, position, and the year they started working.\n",
    "\n",
    "You can store them all in lists, dictionaries or whatever way you can think of, but here is where Classes come in."
   ]
  },
  {
   "attachments": {},
   "cell_type": "markdown",
   "id": "0d760078",
   "metadata": {},
   "source": [
    "### Classes versus instances"
   ]
  },
  {
   "attachments": {},
   "cell_type": "markdown",
   "id": "1df9ca02",
   "metadata": {},
   "source": [
    "Classes are used to create user-defined data structures. Classes define functions called methods, which identify the behaviors and actions that an object created from the class can perform with its data.\n",
    "\n",
    "In this tutorial, you’ll create a Dog class that stores some information about the characteristics and behaviors that an individual dog can have.\n",
    "\n",
    "A class is a blueprint for how something should be defined. It doesn’t actually contain any data. The Dog class specifies that a name and an age are necessary for defining a dog, but it doesn’t contain the name or age of any specific dog.\n",
    "\n",
    "While the class is the blueprint, an instance is an object that is built from a class and contains real data. An instance of the Dog class is not a blueprint anymore. It’s an actual dog with a name, like Miles, who’s four years old.\n",
    "\n",
    "Put another way, a class is like a form or questionnaire. An instance is like a form that has been filled out with information. Just like many people can fill out the same form with their own unique information, many instances can be created from a single class."
   ]
  },
  {
   "attachments": {},
   "cell_type": "markdown",
   "id": "c8edfd01",
   "metadata": {},
   "source": [
    "## Defining a Class"
   ]
  },
  {
   "attachments": {},
   "cell_type": "markdown",
   "id": "12523d76",
   "metadata": {},
   "source": [
    "Let's start by defining a class directly. A class always starts with the class-keyword, followed by the name of the class and ending it with a semicolon."
   ]
  },
  {
   "cell_type": "code",
   "execution_count": 1,
   "id": "577d7695",
   "metadata": {},
   "outputs": [],
   "source": [
    "class Dog:\n",
    "    pass"
   ]
  },
  {
   "attachments": {},
   "cell_type": "markdown",
   "id": "d7a08e9e",
   "metadata": {},
   "source": [
    "The Dog-class above isn't very spectacular though. Let's give it some more body.\n",
    "\n",
    "The properties that all Dog objects must have are defined in a method called .__init__(). Every time a new Dog object is created, .__init__() sets the initial state of the object by assigning the values of the object’s properties. That is, .__init__() initializes each new instance of the class.\n",
    "\n",
    "You can give .__init__() any number of parameters, but the first parameter will always be a variable called self. When a new class instance is created, the instance is automatically passed to the self parameter in .__init__() so that new attributes can be defined on the object.\n",
    "\n",
    "Let’s update the Dog class with an .__init__() method that creates .name and .age attributes:"
   ]
  },
  {
   "cell_type": "code",
   "execution_count": 2,
   "id": "24f206a4",
   "metadata": {},
   "outputs": [],
   "source": [
    "class Dog:\n",
    "    def __init__(self, name, age):\n",
    "        # instance attributes\n",
    "        self.name = name\n",
    "        self.age = age"
   ]
  },
  {
   "attachments": {},
   "cell_type": "markdown",
   "id": "38ad2026",
   "metadata": {},
   "source": [
    "In the body of .__init__(), there are two statements using the self variable:\n",
    "\n",
    "1. self.name = name creates an attribute called name and assigns to it the value of the name parameter.\n",
    "2. self.age = age creates an attribute called age and assigns to it the value of the age parameter.\n",
    "\n",
    "Attributes created in .__init__() are called instance attributes. An instance attribute’s value is specific to a particular instance of the class. All Dog objects have a name and an age, but the values for the name and age attributes will vary depending on the Dog instance.\n",
    "\n",
    "On the other hand, class attributes are attributes that have the same value for all class instances. You can define a class attribute by assigning a value to a variable name outside of .__init__().\n",
    "\n",
    "Let's add a species to the Dog-class."
   ]
  },
  {
   "cell_type": "code",
   "execution_count": 3,
   "id": "1ce17d09",
   "metadata": {},
   "outputs": [],
   "source": [
    "class Dog:\n",
    "    # Class attribute\n",
    "    species = \"Dog\"\n",
    "\n",
    "    def __init__(self, name, age):\n",
    "        self.name = name\n",
    "        self.age = age"
   ]
  },
  {
   "attachments": {},
   "cell_type": "markdown",
   "id": "14e32a39",
   "metadata": {},
   "source": [
    "## Instantiating an object"
   ]
  },
  {
   "cell_type": "code",
   "execution_count": 4,
   "id": "5a5120fe",
   "metadata": {},
   "outputs": [],
   "source": [
    "class Dog:\n",
    "    pass"
   ]
  },
  {
   "attachments": {},
   "cell_type": "markdown",
   "id": "ef384fbd",
   "metadata": {},
   "source": [
    "Creating a new object from a class is called instantiating an object. You can instantiate a new Dog object by typing the name of the class, followed by opening and closing parentheses:"
   ]
  },
  {
   "cell_type": "code",
   "execution_count": 5,
   "id": "2f2fc7b3",
   "metadata": {},
   "outputs": [
    {
     "data": {
      "text/plain": [
       "<__main__.Dog at 0x183aa9247c0>"
      ]
     },
     "execution_count": 5,
     "metadata": {},
     "output_type": "execute_result"
    }
   ],
   "source": [
    "Dog()"
   ]
  },
  {
   "attachments": {},
   "cell_type": "markdown",
   "id": "71b6415d",
   "metadata": {},
   "source": [
    "You now have a new Dog object at 0x2a163640bc8. This string of letters and numbers is a memory address that indicates where the Dog object is stored in your computer's memory. Note that the address you see on your screen will be different."
   ]
  },
  {
   "attachments": {},
   "cell_type": "markdown",
   "id": "520f32a1",
   "metadata": {},
   "source": [
    "Let's see what happens when we instantiate another Dog-object."
   ]
  },
  {
   "cell_type": "code",
   "execution_count": 6,
   "id": "26ee8708",
   "metadata": {},
   "outputs": [
    {
     "data": {
      "text/plain": [
       "<__main__.Dog at 0x183aa9247f0>"
      ]
     },
     "execution_count": 6,
     "metadata": {},
     "output_type": "execute_result"
    }
   ],
   "source": [
    "Dog()"
   ]
  },
  {
   "attachments": {},
   "cell_type": "markdown",
   "id": "9348eed8",
   "metadata": {},
   "source": [
    "The new Dog instance is located at a different memory address. That’s because it’s an entirely new instance and is completely unique from the first Dog object that you instantiated."
   ]
  },
  {
   "cell_type": "code",
   "execution_count": 7,
   "id": "cca9eb55",
   "metadata": {},
   "outputs": [
    {
     "data": {
      "text/plain": [
       "False"
      ]
     },
     "execution_count": 7,
     "metadata": {},
     "output_type": "execute_result"
    }
   ],
   "source": [
    "bo = Dog()\n",
    "diesel = Dog()\n",
    "\n",
    "bo == diesel"
   ]
  },
  {
   "cell_type": "code",
   "execution_count": 8,
   "id": "8e6901e9",
   "metadata": {
    "scrolled": true
   },
   "outputs": [
    {
     "data": {
      "text/plain": [
       "__main__.Dog"
      ]
     },
     "execution_count": 8,
     "metadata": {},
     "output_type": "execute_result"
    }
   ],
   "source": [
    "bo = Dog()\n",
    "\n",
    "type(bo)"
   ]
  },
  {
   "attachments": {},
   "cell_type": "markdown",
   "id": "5160258d",
   "metadata": {},
   "source": [
    "## Class and Instance attributes"
   ]
  },
  {
   "attachments": {},
   "cell_type": "markdown",
   "id": "dba04a2f",
   "metadata": {},
   "source": [
    "Let's create a new Dog class with a class attribute called .species and two instance attributes called .name and .age:"
   ]
  },
  {
   "cell_type": "code",
   "execution_count": 9,
   "id": "61a369dd",
   "metadata": {},
   "outputs": [],
   "source": [
    "class Dog:\n",
    "    # class attribute\n",
    "    species = \"Dog\"\n",
    "    def __init__(self, name, age):\n",
    "        # instance attributes\n",
    "        self.name = name\n",
    "        self.age = age"
   ]
  },
  {
   "attachments": {},
   "cell_type": "markdown",
   "id": "c83e98e7",
   "metadata": {},
   "source": [
    "To instantiate objects of this Dog class, you need to provide values for the name and age. If you don’t, then Python raises a TypeError:"
   ]
  },
  {
   "cell_type": "code",
   "execution_count": 10,
   "id": "f1fae2e0",
   "metadata": {
    "scrolled": true
   },
   "outputs": [
    {
     "ename": "TypeError",
     "evalue": "__init__() missing 2 required positional arguments: 'name' and 'age'",
     "output_type": "error",
     "traceback": [
      "\u001b[1;31m---------------------------------------------------------------------------\u001b[0m",
      "\u001b[1;31mTypeError\u001b[0m                                 Traceback (most recent call last)",
      "Cell \u001b[1;32mIn[10], line 1\u001b[0m\n\u001b[1;32m----> 1\u001b[0m Dog()\n",
      "\u001b[1;31mTypeError\u001b[0m: __init__() missing 2 required positional arguments: 'name' and 'age'"
     ]
    }
   ],
   "source": [
    "Dog()"
   ]
  },
  {
   "attachments": {},
   "cell_type": "markdown",
   "id": "ef24b15e",
   "metadata": {},
   "source": [
    "To pass arguments to the name and age parameters, put values into the parentheses after the class name:"
   ]
  },
  {
   "cell_type": "code",
   "execution_count": 11,
   "id": "4b174d5e",
   "metadata": {},
   "outputs": [],
   "source": [
    "bo = Dog(name = 'Bo', age = 6)\n",
    "diesel = Dog('Diesel', 11)"
   ]
  },
  {
   "attachments": {},
   "cell_type": "markdown",
   "id": "a27a9ba2",
   "metadata": {},
   "source": [
    "To get the values of the attributes, just type a dot after the instance with the attribute name after the dot. Just like below:"
   ]
  },
  {
   "cell_type": "code",
   "execution_count": 12,
   "id": "03975c4f",
   "metadata": {},
   "outputs": [
    {
     "name": "stdout",
     "output_type": "stream",
     "text": [
      "Bo\n",
      "6\n",
      "Diesel\n",
      "11\n"
     ]
    }
   ],
   "source": [
    "print(bo.name)\n",
    "print(bo.age)\n",
    "\n",
    "print(diesel.name)\n",
    "print(diesel.age)"
   ]
  },
  {
   "attachments": {},
   "cell_type": "markdown",
   "id": "60c26ee0",
   "metadata": {},
   "source": [
    "You can access the class attribute the same way:"
   ]
  },
  {
   "cell_type": "code",
   "execution_count": 13,
   "id": "66739fa0",
   "metadata": {},
   "outputs": [
    {
     "data": {
      "text/plain": [
       "'Dog'"
      ]
     },
     "execution_count": 13,
     "metadata": {},
     "output_type": "execute_result"
    }
   ],
   "source": [
    "bo.species"
   ]
  },
  {
   "attachments": {},
   "cell_type": "markdown",
   "id": "333485b2",
   "metadata": {},
   "source": [
    "The attribute of an created object can be changed later on as well. Let's see how that works below."
   ]
  },
  {
   "cell_type": "code",
   "execution_count": 14,
   "id": "2aa48cbb",
   "metadata": {},
   "outputs": [
    {
     "data": {
      "text/plain": [
       "1"
      ]
     },
     "execution_count": 14,
     "metadata": {},
     "output_type": "execute_result"
    }
   ],
   "source": [
    "bo.age = 1\n",
    "bo.age"
   ]
  },
  {
   "cell_type": "code",
   "execution_count": 15,
   "id": "574f4243",
   "metadata": {},
   "outputs": [
    {
     "data": {
      "text/plain": [
       "'Cat'"
      ]
     },
     "execution_count": 15,
     "metadata": {},
     "output_type": "execute_result"
    }
   ],
   "source": [
    "bo.species = 'Cat'\n",
    "bo.species"
   ]
  },
  {
   "attachments": {},
   "cell_type": "markdown",
   "id": "5f3b904a",
   "metadata": {},
   "source": [
    "Suddenly, the 6-year old dog Bo has become a 1-year old kitten. In this case it sounds strange, but in Python this is possible.\n",
    "\n",
    "The most important thing to remember here is that custom objects are mutable by default. An object is mutable if it can be altered dynamically."
   ]
  },
  {
   "attachments": {},
   "cell_type": "markdown",
   "id": "95b9e38b",
   "metadata": {},
   "source": [
    "## Instance methods"
   ]
  },
  {
   "attachments": {},
   "cell_type": "markdown",
   "id": "a02d05f4",
   "metadata": {},
   "source": [
    "Instance methods are functions that are defined inside a class and can only be called from an instance of that class. Just like .__init__(), an instance method’s first parameter is always self."
   ]
  },
  {
   "cell_type": "code",
   "execution_count": 17,
   "id": "6623c61a",
   "metadata": {},
   "outputs": [],
   "source": [
    "class Dog:\n",
    "    species = \"Dog\"\n",
    "\n",
    "    def __init__ (self, name, age):\n",
    "        self.name = name\n",
    "        self.age = age\n",
    "\n",
    "    # Instance method\n",
    "    def description (self):\n",
    "        return f\"{self.name} is {self.age} years old.\"\n",
    "\n",
    "    # Another instance method\n",
    "    def speak (self, sound):\n",
    "        return f\"{self.name} says {sound}.\"\n",
    "    \n",
    "    def bark (self):\n",
    "        return f\"Woof!\""
   ]
  },
  {
   "attachments": {},
   "cell_type": "markdown",
   "id": "c65b1779",
   "metadata": {},
   "source": [
    "This Dog class has 3 instance methods:\n",
    "1. .description() returns a string displaying the name and age of the dog.\n",
    "2. .speak() has one parameter called sound and returns a string containing the dog’s name and the sound the dog makes.\n",
    "3. .bark() returns the default barking sound of a dog."
   ]
  },
  {
   "cell_type": "code",
   "execution_count": 18,
   "id": "72335b38",
   "metadata": {},
   "outputs": [],
   "source": [
    "diesel = Dog('Diesel', 8)"
   ]
  },
  {
   "cell_type": "code",
   "execution_count": 19,
   "id": "88d773c4",
   "metadata": {},
   "outputs": [
    {
     "data": {
      "text/plain": [
       "<bound method Dog.description of <__main__.Dog object at 0x00000183ABBA6BE0>>"
      ]
     },
     "execution_count": 19,
     "metadata": {},
     "output_type": "execute_result"
    }
   ],
   "source": [
    "diesel.description"
   ]
  },
  {
   "cell_type": "code",
   "execution_count": 20,
   "id": "9e45688c",
   "metadata": {},
   "outputs": [
    {
     "data": {
      "text/plain": [
       "'Diesel is 8 years old.'"
      ]
     },
     "execution_count": 20,
     "metadata": {},
     "output_type": "execute_result"
    }
   ],
   "source": [
    "diesel.description()"
   ]
  },
  {
   "attachments": {},
   "cell_type": "markdown",
   "id": "cd5b8b3d",
   "metadata": {},
   "source": [
    "As you can see in the output above, we need the parentheses when we call an instance method. Only the name of the instance method is not enough."
   ]
  },
  {
   "cell_type": "code",
   "execution_count": 21,
   "id": "47d91d22",
   "metadata": {},
   "outputs": [
    {
     "data": {
      "text/plain": [
       "'Diesel says woof.'"
      ]
     },
     "execution_count": 21,
     "metadata": {},
     "output_type": "execute_result"
    }
   ],
   "source": [
    "diesel.speak('woof')"
   ]
  },
  {
   "cell_type": "code",
   "execution_count": 22,
   "id": "43ee6719",
   "metadata": {
    "scrolled": true
   },
   "outputs": [
    {
     "data": {
      "text/plain": [
       "'Woof!'"
      ]
     },
     "execution_count": 22,
     "metadata": {},
     "output_type": "execute_result"
    }
   ],
   "source": [
    "diesel.bark()"
   ]
  },
  {
   "attachments": {},
   "cell_type": "markdown",
   "id": "5e4b5ce1",
   "metadata": {},
   "source": [
    "Rembember the message when you run the line below? It is a cryptic looking message telling you that diesel is a Dog object at the memory address after main.Dog at. This message isn’t very helpful. But you can change what gets printed by defining a special instance method called .str()."
   ]
  },
  {
   "cell_type": "code",
   "execution_count": 23,
   "id": "ab9eec4f",
   "metadata": {
    "scrolled": true
   },
   "outputs": [
    {
     "name": "stdout",
     "output_type": "stream",
     "text": [
      "<__main__.Dog object at 0x00000183ABBA6BE0>\n"
     ]
    }
   ],
   "source": [
    "print(diesel)"
   ]
  },
  {
   "cell_type": "code",
   "execution_count": 24,
   "id": "3fe468bc",
   "metadata": {},
   "outputs": [],
   "source": [
    "class Dog:\n",
    "    species = \"Dog\"\n",
    "\n",
    "    def __init__ (self, name, age):\n",
    "        self.name = name\n",
    "        self.age = age\n",
    "\n",
    "    # Instance method\n",
    "    def __str__ (self):\n",
    "        return f\"{self.name} is {self.age} years old.\"\n",
    "\n",
    "    # Another instance method\n",
    "    def speak (self, sound):\n",
    "        return f\"{self.name} says {sound}.\"\n",
    "    \n",
    "    def bark (self):\n",
    "        return f\"Woof!\""
   ]
  },
  {
   "cell_type": "code",
   "execution_count": 25,
   "id": "e5875339",
   "metadata": {
    "scrolled": true
   },
   "outputs": [
    {
     "name": "stdout",
     "output_type": "stream",
     "text": [
      "Diesel is 8 years old.\n"
     ]
    }
   ],
   "source": [
    "diesel = Dog('Diesel', 8)\n",
    "print(diesel)"
   ]
  },
  {
   "attachments": {},
   "cell_type": "markdown",
   "id": "2abea7df",
   "metadata": {},
   "source": [
    "Methods like ```.__init__()``` and ```.__str__()``` are called dunder methods because they begin and end with double underscores. There are many dunder methods that you can use to customize classes in Python. These methods are an important part of object-oriented programming in Python, so dive into them if you want to master it!"
   ]
  },
  {
   "attachments": {},
   "cell_type": "markdown",
   "id": "1094f256",
   "metadata": {},
   "source": [
    "<div class=\"alert alert-success\">\n",
    "\n",
    "<h3>Exercise 1</h3>\n",
    "\n",
    "We have introduced Classes with some example code and explanation, but now it's time to write your own Class.\n",
    "\n",
    "Let's create a Car-class with at least 3 instance attributes: brand, color and mileage. In addition, write at least two instance methods: sound and a description (let's try the dunder method here).\n",
    "\n",
    "</div>"
   ]
  },
  {
   "cell_type": "code",
   "execution_count": null,
   "id": "c08077f2",
   "metadata": {},
   "outputs": [],
   "source": [
    "\n",
    "\n",
    "\n",
    "\n",
    "\n",
    "\n",
    "\n",
    "\n",
    "\n"
   ]
  },
  {
   "attachments": {},
   "cell_type": "markdown",
   "id": "809f5039",
   "metadata": {},
   "source": [
    "<div class=\"alert alert-success\">\n",
    "\n",
    "<h3>Exercise 2</h3>\n",
    "\n",
    "Let's create an Elevator-class with the attributes: num_floors, position, num_passengers and direction (-1 for going down, 0 for standing still, 1 for going up). Create methods to create Elevator instances, a method that returns whether an elevator is available, and a method that calls an elevator. When someone calls an elevator, check whether it is available. If so, change its position to the floor on which it is called. If the elevator is not available, return \"Try another elevator\".\n",
    "\n",
    "Finally, create an elevator instance and check whether it's available. Then call the elevator and print its position and its number of passengers, after it has been called.\n",
    "\n",
    "We will build on this class in the exercises at the end of this notebook!\n",
    "\n",
    "</div>"
   ]
  },
  {
   "cell_type": "code",
   "execution_count": 16,
   "id": "4a3323c7",
   "metadata": {},
   "outputs": [
    {
     "name": "stdout",
     "output_type": "stream",
     "text": [
      "[0, 0]\n",
      "[7, 4]\n"
     ]
    }
   ],
   "source": []
  },
  {
   "attachments": {},
   "cell_type": "markdown",
   "id": "0ec9b07c",
   "metadata": {},
   "source": [
    "## Inheritance from other Classes"
   ]
  },
  {
   "attachments": {},
   "cell_type": "markdown",
   "id": "042ecc38",
   "metadata": {},
   "source": [
    "Inheritance is the process by which one class takes on the attributes and methods of another. Newly formed classes are called child classes, and the classes that child classes are derived from are called parent classes."
   ]
  },
  {
   "attachments": {},
   "cell_type": "markdown",
   "id": "d92cd94c",
   "metadata": {},
   "source": [
    "Remember that we already made instances of the class Dog(), called Bo and Diesel? They are both dogs, but they are from a different breed. And different breeds make different bark sounds. We already had an instance method bark that returned the 'woof'-sound. But this can be different for every breed. Let's see how we can make this work with inheritance."
   ]
  },
  {
   "cell_type": "code",
   "execution_count": 26,
   "id": "a05315c7",
   "metadata": {},
   "outputs": [],
   "source": [
    "class Dog:\n",
    "    species = \"Dog\"\n",
    "\n",
    "    def __init__(self, name, age, breed):\n",
    "        self.name = name\n",
    "        self.age = age\n",
    "        self.breed = breed\n",
    "        \n",
    "    def bark (self):\n",
    "        return f\"Woof!\""
   ]
  },
  {
   "attachments": {},
   "cell_type": "markdown",
   "id": "7567f873",
   "metadata": {},
   "source": [
    "Probably your first thought to differentiate the breeds is to add an additional attribute breed. That's indeed an option to differ the breed, but does not change a thing about the bark method as everyt dog will still Woof!"
   ]
  },
  {
   "cell_type": "code",
   "execution_count": null,
   "id": "03be4628",
   "metadata": {},
   "outputs": [],
   "source": [
    "bo = Dog('Bo', 8, 'Labrador')\n",
    "bo.bark()"
   ]
  },
  {
   "attachments": {},
   "cell_type": "markdown",
   "id": "2527e104",
   "metadata": {},
   "source": [
    "But we are doing things differently now. Start by creating your parent class first, which can be inherited by the children-classes we make afterwards."
   ]
  },
  {
   "cell_type": "code",
   "execution_count": 2,
   "id": "b9d10acf",
   "metadata": {},
   "outputs": [],
   "source": [
    "class Dog:\n",
    "    species = \"Dog\"\n",
    "\n",
    "    def __init__ (self, name, age):\n",
    "        self.name = name\n",
    "        self.age = age\n",
    "\n",
    "    # Instance method\n",
    "    def __str__ (self):\n",
    "        return f\"{self.name} is {self.age} years old.\"\n",
    "\n",
    "    # Another instance method\n",
    "    def speak (self, sound):\n",
    "        return f\"{self.name} says {sound}.\"\n",
    "    \n",
    "    def bark (self):\n",
    "        return f\"Woof!\""
   ]
  },
  {
   "attachments": {},
   "cell_type": "markdown",
   "id": "0adb1975",
   "metadata": {},
   "source": [
    "We can create a child clas as below. Just create a class like we learned to, but add the parent class you want to inherit from between the parentheses."
   ]
  },
  {
   "cell_type": "code",
   "execution_count": 28,
   "id": "b5450114",
   "metadata": {},
   "outputs": [],
   "source": [
    "class Labrador (Dog):\n",
    "    pass"
   ]
  },
  {
   "cell_type": "code",
   "execution_count": 29,
   "id": "c56d4ab2",
   "metadata": {},
   "outputs": [],
   "source": [
    "bo = Labrador('Bo', 8)"
   ]
  },
  {
   "cell_type": "code",
   "execution_count": 30,
   "id": "a39955d9",
   "metadata": {},
   "outputs": [
    {
     "data": {
      "text/plain": [
       "__main__.Labrador"
      ]
     },
     "execution_count": 30,
     "metadata": {},
     "output_type": "execute_result"
    }
   ],
   "source": [
    "type(bo)"
   ]
  },
  {
   "attachments": {},
   "cell_type": "markdown",
   "id": "8b22d9ff",
   "metadata": {},
   "source": [
    "As we can see above, we can call the Labrador-class exactly like the parent Dog-class. Now Bo is from class Labrador instead of just a general Dog."
   ]
  },
  {
   "attachments": {},
   "cell_type": "markdown",
   "id": "c0e089e6",
   "metadata": {},
   "source": [
    "We also have a builtin-method that can check if bo is an instance of Labrador. Look at the code below:"
   ]
  },
  {
   "cell_type": "code",
   "execution_count": 31,
   "id": "e30c81bf",
   "metadata": {
    "scrolled": true
   },
   "outputs": [
    {
     "data": {
      "text/plain": [
       "True"
      ]
     },
     "execution_count": 31,
     "metadata": {},
     "output_type": "execute_result"
    }
   ],
   "source": [
    "isinstance(bo, Labrador)"
   ]
  },
  {
   "attachments": {},
   "cell_type": "markdown",
   "id": "89a38fc5",
   "metadata": {},
   "source": [
    "And is Bo also an instance of Dog? Yes, of course."
   ]
  },
  {
   "cell_type": "code",
   "execution_count": 32,
   "id": "27fd473e",
   "metadata": {},
   "outputs": [
    {
     "data": {
      "text/plain": [
       "True"
      ]
     },
     "execution_count": 32,
     "metadata": {},
     "output_type": "execute_result"
    }
   ],
   "source": [
    "isinstance(bo, Dog)"
   ]
  },
  {
   "attachments": {},
   "cell_type": "markdown",
   "id": "ea369447",
   "metadata": {},
   "source": [
    "But what happens when we create a child class Bulldog and let Diesel be a Bulldog. Is Diesel also an instance of a Labrador?"
   ]
  },
  {
   "cell_type": "code",
   "execution_count": 33,
   "id": "541d7f3c",
   "metadata": {},
   "outputs": [],
   "source": [
    "class Bulldog (Dog):\n",
    "    pass"
   ]
  },
  {
   "cell_type": "code",
   "execution_count": 34,
   "id": "6fbbcfe6",
   "metadata": {},
   "outputs": [],
   "source": [
    "diesel = Bulldog('Diesel', '6')"
   ]
  },
  {
   "cell_type": "code",
   "execution_count": 35,
   "id": "171b0a0f",
   "metadata": {},
   "outputs": [
    {
     "data": {
      "text/plain": [
       "False"
      ]
     },
     "execution_count": 35,
     "metadata": {},
     "output_type": "execute_result"
    }
   ],
   "source": [
    "isinstance(diesel, Labrador)"
   ]
  },
  {
   "attachments": {},
   "cell_type": "markdown",
   "id": "4f4f0561",
   "metadata": {},
   "source": [
    "<div class=\"alert alert-success\">\n",
    "\n",
    "<h3>Exercise 3</h3>\n",
    "    \n",
    "As you can see above, diesel is no instance of Labrador. However, Labrador and Bulldog are both instances of Dog,\n",
    "But how can we let Diesel be an instance of both Dog and Bulldog, as well as an instance of Labrador? Create the class Bulldog in such a way that each Bulldog is a Labrador.\n",
    "\n",
    "</div>\n",
    "\n"
   ]
  },
  {
   "cell_type": "code",
   "execution_count": null,
   "id": "80b1415b",
   "metadata": {},
   "outputs": [],
   "source": [
    "#Enter your code here\n",
    "\n",
    "\n",
    "\n",
    "\n",
    "\n",
    "\n",
    "\n",
    "\n",
    "\n"
   ]
  },
  {
   "attachments": {},
   "cell_type": "markdown",
   "id": "9563720c",
   "metadata": {},
   "source": [
    "## Extending functionality of parent Class"
   ]
  },
  {
   "attachments": {},
   "cell_type": "markdown",
   "id": "53ccfc00",
   "metadata": {},
   "source": [
    "Since different breeds of dogs have slightly different barks, you want to provide a default value for the sound argument of their respective .bark() methods. To do this, you need to override .bark() in the class definition for each breed.\n",
    "\n",
    "To override a method defined on the parent class, you define a method with the same name on the child class. Here’s what that looks like for the Bulldog class:"
   ]
  },
  {
   "cell_type": "code",
   "execution_count": 3,
   "id": "bf947b20",
   "metadata": {},
   "outputs": [],
   "source": [
    "class Bulldog(Dog):\n",
    "    def bark(self, sound=\"Ruff\"):\n",
    "        return f\"{sound}\""
   ]
  },
  {
   "cell_type": "code",
   "execution_count": 4,
   "id": "9a95c462",
   "metadata": {},
   "outputs": [],
   "source": [
    "diesel = Bulldog('Diesel', 8)"
   ]
  },
  {
   "cell_type": "code",
   "execution_count": 5,
   "id": "50dac54a",
   "metadata": {},
   "outputs": [
    {
     "data": {
      "text/plain": [
       "'Ruff'"
      ]
     },
     "execution_count": 5,
     "metadata": {},
     "output_type": "execute_result"
    }
   ],
   "source": [
    "diesel.bark()"
   ]
  },
  {
   "cell_type": "code",
   "execution_count": 6,
   "id": "24ba913b",
   "metadata": {},
   "outputs": [
    {
     "data": {
      "text/plain": [
       "'Woof'"
      ]
     },
     "execution_count": 6,
     "metadata": {},
     "output_type": "execute_result"
    }
   ],
   "source": [
    "diesel.bark('Woof')"
   ]
  },
  {
   "attachments": {},
   "cell_type": "markdown",
   "id": "93516adb",
   "metadata": {},
   "source": [
    "One thing to remember about inheritance is that when you change the bark-method in the Dog-class at this moment, the bark method of Bulldog won't change. That's because we have overwritten the bark-method in the Bulldog-class. Let's look at the code below."
   ]
  },
  {
   "cell_type": "code",
   "execution_count": 7,
   "id": "d61828e2",
   "metadata": {},
   "outputs": [],
   "source": [
    "class Dog:\n",
    "    species = \"Dog\"\n",
    "\n",
    "    def __init__ (self, name, age):\n",
    "        self.name = name\n",
    "        self.age = age\n",
    "\n",
    "    # Instance method\n",
    "    def __str__ (self):\n",
    "        return f\"{self.name} is {self.age} years old.\"\n",
    "\n",
    "    # Another instance method\n",
    "    def speak (self, sound):\n",
    "        return f\"{self.name} says {sound}.\"\n",
    "    \n",
    "    def bark (self, sound):\n",
    "        return f\"{self.name} says: {sound}!\""
   ]
  },
  {
   "cell_type": "code",
   "execution_count": 8,
   "id": "6a693174",
   "metadata": {},
   "outputs": [],
   "source": [
    "diesel = Bulldog('Diesel', 8)"
   ]
  },
  {
   "cell_type": "code",
   "execution_count": 9,
   "id": "f2a44223",
   "metadata": {},
   "outputs": [
    {
     "data": {
      "text/plain": [
       "'Ruff'"
      ]
     },
     "execution_count": 9,
     "metadata": {},
     "output_type": "execute_result"
    }
   ],
   "source": [
    "diesel.bark()"
   ]
  },
  {
   "attachments": {},
   "cell_type": "markdown",
   "id": "c61292df",
   "metadata": {},
   "source": [
    "However, there is a way to access the parent class from inside a method of a child class by using super():"
   ]
  },
  {
   "cell_type": "code",
   "execution_count": 10,
   "id": "e417eee1",
   "metadata": {},
   "outputs": [],
   "source": [
    "class Bulldog(Dog):\n",
    "    def bark(self, sound=\"Ruff\"):\n",
    "        return super().bark(sound)"
   ]
  },
  {
   "cell_type": "code",
   "execution_count": 11,
   "id": "0dd7c345",
   "metadata": {},
   "outputs": [],
   "source": [
    "diesel = Bulldog('Diesel', 8)"
   ]
  },
  {
   "cell_type": "code",
   "execution_count": 12,
   "id": "e9c0305a",
   "metadata": {},
   "outputs": [
    {
     "data": {
      "text/plain": [
       "'Diesel says: Woof!'"
      ]
     },
     "execution_count": 12,
     "metadata": {},
     "output_type": "execute_result"
    }
   ],
   "source": [
    "diesel.bark('Woof')"
   ]
  },
  {
   "attachments": {},
   "cell_type": "markdown",
   "id": "235bdcac",
   "metadata": {},
   "source": [
    "<div class=\"alert alert-success\">\n",
    "\n",
    "<h3>Exercise 4</h3>\n",
    "    \n",
    "Let's see if you understand the logic of inheritance. Let's continue with your earlier created Car-class and create two children classes (Electric and Non-Electric) who both make a different sound.\n",
    "\n",
    "</div>"
   ]
  },
  {
   "cell_type": "code",
   "execution_count": null,
   "id": "771c4a5f",
   "metadata": {},
   "outputs": [],
   "source": []
  },
  {
   "attachments": {},
   "cell_type": "markdown",
   "id": "dd7e5ede",
   "metadata": {},
   "source": [
    "---"
   ]
  },
  {
   "attachments": {},
   "cell_type": "markdown",
   "id": "62b34c87",
   "metadata": {},
   "source": [
    "# 4.2 NumPy & Vectorization"
   ]
  },
  {
   "attachments": {},
   "cell_type": "markdown",
   "id": "f99c783d",
   "metadata": {},
   "source": [
    "Source: https://numpy.org/devdocs/user/quickstart.html"
   ]
  },
  {
   "cell_type": "code",
   "execution_count": 28,
   "id": "f336186a",
   "metadata": {},
   "outputs": [],
   "source": [
    "import numpy as np"
   ]
  },
  {
   "attachments": {},
   "cell_type": "markdown",
   "id": "902a0ab9",
   "metadata": {},
   "source": [
    "### Creation of arrays"
   ]
  },
  {
   "attachments": {},
   "cell_type": "markdown",
   "id": "b7a6b5bb",
   "metadata": {},
   "source": [
    "There are several ways to create arrays. For example, you can create an array from a regular Python list or tuple using the array function. The type of the resulting array is deduced from the type of the elements in the sequences."
   ]
  },
  {
   "attachments": {},
   "cell_type": "markdown",
   "id": "7b8af666",
   "metadata": {},
   "source": [
    "One option is to give a Python list as an argument."
   ]
  },
  {
   "cell_type": "code",
   "execution_count": 29,
   "id": "106c5353",
   "metadata": {},
   "outputs": [
    {
     "data": {
      "text/plain": [
       "array([1, 2, 3, 4, 5])"
      ]
     },
     "execution_count": 29,
     "metadata": {},
     "output_type": "execute_result"
    }
   ],
   "source": [
    "arr = np.array([1, 2, 3, 4, 5])\n",
    "arr"
   ]
  },
  {
   "attachments": {},
   "cell_type": "markdown",
   "id": "260a22c1",
   "metadata": {},
   "source": [
    "Another option is to add one or more tuples as an argument."
   ]
  },
  {
   "cell_type": "code",
   "execution_count": 30,
   "id": "cdc53ee1",
   "metadata": {},
   "outputs": [
    {
     "data": {
      "text/plain": [
       "array([[1.8, 6. , 2.4],\n",
       "       [2. , 3.1, 7. ]])"
      ]
     },
     "execution_count": 30,
     "metadata": {},
     "output_type": "execute_result"
    }
   ],
   "source": [
    "arr2 = np.array([(1.8, 6, 2.4), (2, 3.1, 7)])\n",
    "arr2"
   ]
  },
  {
   "attachments": {},
   "cell_type": "markdown",
   "id": "7955b45f",
   "metadata": {},
   "source": [
    "And not like this:"
   ]
  },
  {
   "cell_type": "code",
   "execution_count": 31,
   "id": "1c267304",
   "metadata": {},
   "outputs": [
    {
     "ename": "TypeError",
     "evalue": "array() takes from 1 to 2 positional arguments but 5 were given",
     "output_type": "error",
     "traceback": [
      "\u001b[1;31m---------------------------------------------------------------------------\u001b[0m",
      "\u001b[1;31mTypeError\u001b[0m                                 Traceback (most recent call last)",
      "Cell \u001b[1;32mIn[31], line 1\u001b[0m\n\u001b[1;32m----> 1\u001b[0m arr \u001b[39m=\u001b[39m np\u001b[39m.\u001b[39;49marray(\u001b[39m1\u001b[39;49m, \u001b[39m2\u001b[39;49m, \u001b[39m3\u001b[39;49m, \u001b[39m4\u001b[39;49m, \u001b[39m5\u001b[39;49m)\n",
      "\u001b[1;31mTypeError\u001b[0m: array() takes from 1 to 2 positional arguments but 5 were given"
     ]
    }
   ],
   "source": [
    "arr = np.array(1, 2, 3, 4, 5)"
   ]
  },
  {
   "attachments": {},
   "cell_type": "markdown",
   "id": "f8da3697",
   "metadata": {},
   "source": [
    "When creating an array, you can also define of which data type the values should be."
   ]
  },
  {
   "cell_type": "code",
   "execution_count": 32,
   "id": "5c038c04",
   "metadata": {},
   "outputs": [
    {
     "data": {
      "text/plain": [
       "array([[1.8, 6. , 2.4],\n",
       "       [2. , 3.1, 7. ]])"
      ]
     },
     "execution_count": 32,
     "metadata": {},
     "output_type": "execute_result"
    }
   ],
   "source": [
    "arr3 = np.array([(1.8, 6, 2.4), (2, 3.1, 7)], dtype=float)\n",
    "arr3"
   ]
  },
  {
   "cell_type": "code",
   "execution_count": 33,
   "id": "1e130d4b",
   "metadata": {},
   "outputs": [
    {
     "data": {
      "text/plain": [
       "array([[1, 6, 2],\n",
       "       [2, 3, 7]])"
      ]
     },
     "execution_count": 33,
     "metadata": {},
     "output_type": "execute_result"
    }
   ],
   "source": [
    "arr4 = np.array([(1.8, 6, 2.4), (2, 3.1, 7)], dtype=int)\n",
    "arr4"
   ]
  },
  {
   "attachments": {},
   "cell_type": "markdown",
   "id": "a54f92b5",
   "metadata": {},
   "source": [
    "Often, the elements of an array are originally unknown, but its size is known. Hence, NumPy offers several functions to create arrays with initial placeholder content. These minimize the necessity of growing arrays, an expensive operation.\n",
    "\n",
    "The function zeros creates an array full of zeros, the function ones creates an array full of ones, and the function empty creates an array whose initial content is random and depends on the state of the memory. By default, the dtype of the created array is float64, but it can be specified via the key word argument dtype."
   ]
  },
  {
   "cell_type": "code",
   "execution_count": 34,
   "id": "34f2f695",
   "metadata": {},
   "outputs": [
    {
     "data": {
      "text/plain": [
       "array([[0., 0., 0., 0.],\n",
       "       [0., 0., 0., 0.],\n",
       "       [0., 0., 0., 0.]])"
      ]
     },
     "execution_count": 34,
     "metadata": {},
     "output_type": "execute_result"
    }
   ],
   "source": [
    "np.zeros((3, 4))"
   ]
  },
  {
   "cell_type": "code",
   "execution_count": 35,
   "id": "a4e29ec2",
   "metadata": {},
   "outputs": [
    {
     "data": {
      "text/plain": [
       "array([[[1, 1, 1, 1, 1],\n",
       "        [1, 1, 1, 1, 1],\n",
       "        [1, 1, 1, 1, 1],\n",
       "        [1, 1, 1, 1, 1]],\n",
       "\n",
       "       [[1, 1, 1, 1, 1],\n",
       "        [1, 1, 1, 1, 1],\n",
       "        [1, 1, 1, 1, 1],\n",
       "        [1, 1, 1, 1, 1]],\n",
       "\n",
       "       [[1, 1, 1, 1, 1],\n",
       "        [1, 1, 1, 1, 1],\n",
       "        [1, 1, 1, 1, 1],\n",
       "        [1, 1, 1, 1, 1]]])"
      ]
     },
     "execution_count": 35,
     "metadata": {},
     "output_type": "execute_result"
    }
   ],
   "source": [
    "np.ones((3, 4, 5), dtype = int)"
   ]
  },
  {
   "cell_type": "code",
   "execution_count": 36,
   "id": "36b343e5",
   "metadata": {
    "scrolled": true
   },
   "outputs": [
    {
     "data": {
      "text/plain": [
       "array([[0., 0., 0., 0.],\n",
       "       [0., 0., 0., 0.],\n",
       "       [0., 0., 0., 0.]])"
      ]
     },
     "execution_count": 36,
     "metadata": {},
     "output_type": "execute_result"
    }
   ],
   "source": [
    "np.empty((3, 4))"
   ]
  },
  {
   "attachments": {},
   "cell_type": "markdown",
   "id": "090387fd",
   "metadata": {},
   "source": [
    "If you have a case where you have an existing array and want to create a new array with the same size but filled with zeros or ones, the .zeros_like() and .ones_like()-methods are your friend. Let's see how that works."
   ]
  },
  {
   "cell_type": "code",
   "execution_count": 37,
   "id": "1eb40026",
   "metadata": {
    "scrolled": true
   },
   "outputs": [
    {
     "data": {
      "text/plain": [
       "array([[1.8, 6. , 2.4],\n",
       "       [2. , 3.1, 7. ]])"
      ]
     },
     "execution_count": 37,
     "metadata": {},
     "output_type": "execute_result"
    }
   ],
   "source": [
    "arr5 = np.array([(1.8, 6, 2.4), (2, 3.1, 7)], dtype=float)\n",
    "arr5"
   ]
  },
  {
   "cell_type": "code",
   "execution_count": 38,
   "id": "84c64620",
   "metadata": {
    "scrolled": true
   },
   "outputs": [
    {
     "data": {
      "text/plain": [
       "array([[0., 0., 0.],\n",
       "       [0., 0., 0.]])"
      ]
     },
     "execution_count": 38,
     "metadata": {},
     "output_type": "execute_result"
    }
   ],
   "source": [
    "np.zeros_like(arr5)"
   ]
  },
  {
   "cell_type": "code",
   "execution_count": 39,
   "id": "75b2e915",
   "metadata": {},
   "outputs": [
    {
     "data": {
      "text/plain": [
       "array([[1., 1., 1.],\n",
       "       [1., 1., 1.]])"
      ]
     },
     "execution_count": 39,
     "metadata": {},
     "output_type": "execute_result"
    }
   ],
   "source": [
    "np.ones_like(arr5)"
   ]
  },
  {
   "attachments": {},
   "cell_type": "markdown",
   "id": "d6627126",
   "metadata": {},
   "source": [
    "To create sequences of numbers, NumPy provides the arange function which is analogous to the Python built-in range, but returns an array."
   ]
  },
  {
   "cell_type": "code",
   "execution_count": 40,
   "id": "f1c674ee",
   "metadata": {},
   "outputs": [
    {
     "data": {
      "text/plain": [
       "array([ 0,  2,  4,  6,  8, 10, 12, 14, 16, 18, 20])"
      ]
     },
     "execution_count": 40,
     "metadata": {},
     "output_type": "execute_result"
    }
   ],
   "source": [
    "# For example with ints\n",
    "np.arange(0, 21, 2)"
   ]
  },
  {
   "cell_type": "code",
   "execution_count": 41,
   "id": "6f84ebb3",
   "metadata": {},
   "outputs": [
    {
     "data": {
      "text/plain": [
       "array([ 0. ,  1.5,  3. ,  4.5,  6. ,  7.5,  9. , 10.5, 12. , 13.5, 15. ,\n",
       "       16.5, 18. , 19.5, 21. ])"
      ]
     },
     "execution_count": 41,
     "metadata": {},
     "output_type": "execute_result"
    }
   ],
   "source": [
    "# But also possible with floats\n",
    "np.arange(0, 22, 1.5)"
   ]
  },
  {
   "attachments": {},
   "cell_type": "markdown",
   "id": "da3302f3",
   "metadata": {},
   "source": [
    "It is also possible to create an array with x-amount of values between value a and b. Here, the np.linspace()-method comes in."
   ]
  },
  {
   "cell_type": "code",
   "execution_count": 42,
   "id": "c93d4402",
   "metadata": {},
   "outputs": [
    {
     "data": {
      "text/plain": [
       "array([0.        , 0.11111111, 0.22222222, 0.33333333, 0.44444444,\n",
       "       0.55555556, 0.66666667, 0.77777778, 0.88888889, 1.        ])"
      ]
     },
     "execution_count": 42,
     "metadata": {},
     "output_type": "execute_result"
    }
   ],
   "source": [
    "np.linspace(0, 1, 10)"
   ]
  },
  {
   "attachments": {},
   "cell_type": "markdown",
   "id": "b33595f0",
   "metadata": {},
   "source": [
    "It is also possible to create arrays with random values. The random-method is very useful for this."
   ]
  },
  {
   "cell_type": "code",
   "execution_count": 45,
   "id": "1c14d48e",
   "metadata": {
    "scrolled": true
   },
   "outputs": [
    {
     "data": {
      "text/plain": [
       "array([[8, 5, 9, 4],\n",
       "       [1, 0, 3, 0],\n",
       "       [9, 7, 2, 6],\n",
       "       [2, 4, 2, 9],\n",
       "       [5, 7, 2, 3]])"
      ]
     },
     "execution_count": 45,
     "metadata": {},
     "output_type": "execute_result"
    }
   ],
   "source": [
    "np.random.randint(10, size=(5, 4))"
   ]
  },
  {
   "attachments": {},
   "cell_type": "markdown",
   "id": "d5c7eaa5",
   "metadata": {},
   "source": [
    "### Dimensions"
   ]
  },
  {
   "cell_type": "code",
   "execution_count": 46,
   "id": "7b651c37",
   "metadata": {},
   "outputs": [],
   "source": [
    "arr1 = np.array([1, 2, 3, 4, 5])"
   ]
  },
  {
   "cell_type": "code",
   "execution_count": 47,
   "id": "021397fa",
   "metadata": {},
   "outputs": [],
   "source": [
    "arr2 = np.array([[1, 2, 3], [4, 5, 6]])"
   ]
  },
  {
   "cell_type": "code",
   "execution_count": 48,
   "id": "0fba4628",
   "metadata": {},
   "outputs": [],
   "source": [
    "arr3 = np.array([[[1, 2, 3], [4, 5, 6]], [[1, 2, 3], [4, 5, 6]]])"
   ]
  },
  {
   "cell_type": "code",
   "execution_count": 49,
   "id": "40bb94a7",
   "metadata": {},
   "outputs": [
    {
     "name": "stdout",
     "output_type": "stream",
     "text": [
      "Array 1 has 1 dimension(s).\n",
      "Array 2 has 2 dimension(s).\n",
      "Array 3 has 3 dimension(s).\n"
     ]
    }
   ],
   "source": [
    "print(f'Array 1 has {arr1.ndim} dimension(s).')\n",
    "print(f'Array 2 has {arr2.ndim} dimension(s).')\n",
    "print(f'Array 3 has {arr3.ndim} dimension(s).')"
   ]
  },
  {
   "cell_type": "code",
   "execution_count": 50,
   "id": "a8cdb959",
   "metadata": {},
   "outputs": [],
   "source": [
    "arrx = np.array([1, 2, 3, 4], ndmin=6)"
   ]
  },
  {
   "cell_type": "code",
   "execution_count": 51,
   "id": "ae991198",
   "metadata": {},
   "outputs": [
    {
     "data": {
      "text/plain": [
       "6"
      ]
     },
     "execution_count": 51,
     "metadata": {},
     "output_type": "execute_result"
    }
   ],
   "source": [
    "arrx.ndim"
   ]
  },
  {
   "cell_type": "code",
   "execution_count": 52,
   "id": "b26ed429",
   "metadata": {},
   "outputs": [
    {
     "name": "stdout",
     "output_type": "stream",
     "text": [
      "[[[[[[1 2 3 4]]]]]]\n"
     ]
    }
   ],
   "source": [
    "print(arrx)"
   ]
  },
  {
   "attachments": {},
   "cell_type": "markdown",
   "id": "86f37704",
   "metadata": {},
   "source": [
    "### Basic operations"
   ]
  },
  {
   "attachments": {},
   "cell_type": "markdown",
   "id": "34179045",
   "metadata": {},
   "source": [
    "Arithmetic operators on arrays apply elementwise. A new array is created and filled with the result."
   ]
  },
  {
   "cell_type": "code",
   "execution_count": 53,
   "id": "7744fcc8",
   "metadata": {},
   "outputs": [],
   "source": [
    "a = np.array([20, 30, 40, 50])"
   ]
  },
  {
   "cell_type": "code",
   "execution_count": 54,
   "id": "9fb73a22",
   "metadata": {},
   "outputs": [
    {
     "data": {
      "text/plain": [
       "array([0, 1, 2, 3])"
      ]
     },
     "execution_count": 54,
     "metadata": {},
     "output_type": "execute_result"
    }
   ],
   "source": [
    "b = np.arange(4)\n",
    "b"
   ]
  },
  {
   "cell_type": "code",
   "execution_count": 55,
   "id": "2fb5a7a7",
   "metadata": {},
   "outputs": [
    {
     "data": {
      "text/plain": [
       "array([20, 29, 38, 47])"
      ]
     },
     "execution_count": 55,
     "metadata": {},
     "output_type": "execute_result"
    }
   ],
   "source": [
    "c = a - b\n",
    "c"
   ]
  },
  {
   "cell_type": "code",
   "execution_count": 56,
   "id": "b072b954",
   "metadata": {},
   "outputs": [
    {
     "data": {
      "text/plain": [
       "array([0, 1, 4, 9])"
      ]
     },
     "execution_count": 56,
     "metadata": {},
     "output_type": "execute_result"
    }
   ],
   "source": [
    "b**2"
   ]
  },
  {
   "cell_type": "code",
   "execution_count": 57,
   "id": "6c7edcfd",
   "metadata": {},
   "outputs": [
    {
     "data": {
      "text/plain": [
       "array([ 9.12945251, -9.88031624,  7.4511316 , -2.62374854])"
      ]
     },
     "execution_count": 57,
     "metadata": {},
     "output_type": "execute_result"
    }
   ],
   "source": [
    "10 * np.sin(a)"
   ]
  },
  {
   "cell_type": "code",
   "execution_count": 58,
   "id": "955ce670",
   "metadata": {},
   "outputs": [
    {
     "data": {
      "text/plain": [
       "array([ True,  True, False, False])"
      ]
     },
     "execution_count": 58,
     "metadata": {},
     "output_type": "execute_result"
    }
   ],
   "source": [
    "a < 35"
   ]
  },
  {
   "attachments": {},
   "cell_type": "markdown",
   "id": "f36de634",
   "metadata": {},
   "source": [
    "Unlike in many matrix languages, the product operator * operates elementwise in NumPy arrays. The matrix product can be performed using the @ operator (in python >=3.5) or the dot function or method:"
   ]
  },
  {
   "cell_type": "code",
   "execution_count": 59,
   "id": "96b275a0",
   "metadata": {},
   "outputs": [],
   "source": [
    "a = np.array([[1, 1],\n",
    "              [0, 1]])\n",
    "b = np.array([[2, 0],\n",
    "              [3, 4]])"
   ]
  },
  {
   "cell_type": "code",
   "execution_count": 60,
   "id": "fa0e5d0a",
   "metadata": {},
   "outputs": [
    {
     "data": {
      "text/plain": [
       "array([[2, 0],\n",
       "       [0, 4]])"
      ]
     },
     "execution_count": 60,
     "metadata": {},
     "output_type": "execute_result"
    }
   ],
   "source": [
    "a * b     # elementwise product"
   ]
  },
  {
   "cell_type": "code",
   "execution_count": 61,
   "id": "72f30876",
   "metadata": {},
   "outputs": [
    {
     "data": {
      "text/plain": [
       "array([[5, 4],\n",
       "       [3, 4]])"
      ]
     },
     "execution_count": 61,
     "metadata": {},
     "output_type": "execute_result"
    }
   ],
   "source": [
    "a @ b     # matrix product (see explanation below)"
   ]
  },
  {
   "attachments": {},
   "cell_type": "markdown",
   "id": "59efd61f",
   "metadata": {},
   "source": [
    "\n",
    "<img src=\"https://www.codingem.com/wp-content/uploads/2022/02/matrix-multiplication-2.png\" alt=\"NumPy multiply\" style=\"width: 500px;\" ></img>"
   ]
  },
  {
   "attachments": {},
   "cell_type": "markdown",
   "id": "c66d7609",
   "metadata": {},
   "source": [
    "You can also add NumPy arrays with a short notation. Do you recognise this from earlier in the course?"
   ]
  },
  {
   "cell_type": "code",
   "execution_count": 62,
   "id": "39c68c3f",
   "metadata": {},
   "outputs": [
    {
     "data": {
      "text/plain": [
       "array([[3, 1],\n",
       "       [3, 5]])"
      ]
     },
     "execution_count": 62,
     "metadata": {},
     "output_type": "execute_result"
    }
   ],
   "source": [
    "b += a\n",
    "b"
   ]
  },
  {
   "attachments": {},
   "cell_type": "markdown",
   "id": "7ec1c799",
   "metadata": {},
   "source": [
    "### Broadcasting"
   ]
  },
  {
   "attachments": {},
   "cell_type": "markdown",
   "id": "c1b12a19",
   "metadata": {},
   "source": [
    "The term broadcasting describes how NumPy treats arrays with different shapes during arithmetic operations. Subject to certain constraints, the smaller array is “broadcast” across the larger array so that they have compatible shapes. Broadcasting provides a means of vectorizing array operations so that looping occurs in C instead of Python. It does this without making needless copies of data and usually leads to efficient algorithm implementations. There are, however, cases where broadcasting is a bad idea because it leads to inefficient use of memory that slows computation."
   ]
  },
  {
   "cell_type": "code",
   "execution_count": 63,
   "id": "76e08e68",
   "metadata": {},
   "outputs": [],
   "source": [
    "a = np.array([1, 2, 3])\n",
    "b = np.array([2, 2, 2])\n",
    "c = 2"
   ]
  },
  {
   "cell_type": "code",
   "execution_count": 64,
   "id": "06b0d526",
   "metadata": {},
   "outputs": [
    {
     "data": {
      "text/plain": [
       "array([2, 4, 6])"
      ]
     },
     "execution_count": 64,
     "metadata": {},
     "output_type": "execute_result"
    }
   ],
   "source": [
    "a*b"
   ]
  },
  {
   "cell_type": "code",
   "execution_count": 65,
   "id": "fc7738f6",
   "metadata": {},
   "outputs": [
    {
     "data": {
      "text/plain": [
       "array([2, 4, 6])"
      ]
     },
     "execution_count": 65,
     "metadata": {},
     "output_type": "execute_result"
    }
   ],
   "source": [
    "a*c"
   ]
  },
  {
   "attachments": {},
   "cell_type": "markdown",
   "id": "a4fce0cb",
   "metadata": {},
   "source": [
    "As we can see, both operations end up with the same result. That's because in the latter case the value is stretched."
   ]
  },
  {
   "attachments": {
    "image.png": {
     "image/png": "[encoded data removed]"
    }
   },
   "cell_type": "markdown",
   "id": "24dd686b",
   "metadata": {},
   "source": [
    "![image.png](attachment:image.png)"
   ]
  },
  {
   "attachments": {},
   "cell_type": "markdown",
   "id": "5f028590",
   "metadata": {},
   "source": [
    "**Broadcasting rules**\n",
    "\n",
    "\n",
    "When operating on two arrays, NumPy compares their shapes element-wise. It starts with the trailing (i.e. rightmost) dimensions and works its way left. Two dimensions are compatible when\n",
    "\n",
    "1. they are equal, or\n",
    "2. one of them is 1\n",
    "\n",
    "If these conditions are not met, a ValueError: operands could not be broadcast together exception is thrown, indicating that the arrays have incompatible shapes. The size of the resulting array is the size that is not 1 along each axis of the inputs."
   ]
  },
  {
   "cell_type": "code",
   "execution_count": 66,
   "id": "398015c0",
   "metadata": {},
   "outputs": [
    {
     "data": {
      "text/plain": [
       "array([[ 1,  2,  3],\n",
       "       [11, 12, 13],\n",
       "       [21, 22, 23],\n",
       "       [31, 32, 33]])"
      ]
     },
     "execution_count": 66,
     "metadata": {},
     "output_type": "execute_result"
    }
   ],
   "source": [
    "a = np.array([[ 0,  0,  0],\n",
    "           [10, 10, 10],\n",
    "           [20, 20, 20],\n",
    "           [30, 30, 30]])\n",
    "b = np.array([1, 2, 3])\n",
    "a + b"
   ]
  },
  {
   "attachments": {},
   "cell_type": "markdown",
   "id": "d1f85e3a",
   "metadata": {},
   "source": [
    "A one dimensional array added to a two dimensional array results in broadcasting if number of 1-d array elements matches the number of 2-d array columns"
   ]
  },
  {
   "attachments": {
    "image.png": {
     "image/png": "[encoded data removed]"
    }
   },
   "cell_type": "markdown",
   "id": "1f812a56",
   "metadata": {},
   "source": [
    "![image.png](attachment:image.png)"
   ]
  },
  {
   "cell_type": "code",
   "execution_count": 67,
   "id": "546658e4",
   "metadata": {
    "scrolled": true
   },
   "outputs": [
    {
     "ename": "ValueError",
     "evalue": "operands could not be broadcast together with shapes (4,3) (4,) ",
     "output_type": "error",
     "traceback": [
      "\u001b[1;31m---------------------------------------------------------------------------\u001b[0m",
      "\u001b[1;31mValueError\u001b[0m                                Traceback (most recent call last)",
      "Cell \u001b[1;32mIn[67], line 2\u001b[0m\n\u001b[0;32m      1\u001b[0m b \u001b[39m=\u001b[39m np\u001b[39m.\u001b[39marray([\u001b[39m1\u001b[39m, \u001b[39m2\u001b[39m, \u001b[39m3\u001b[39m, \u001b[39m4\u001b[39m])\n\u001b[1;32m----> 2\u001b[0m a \u001b[39m+\u001b[39;49m b\n",
      "\u001b[1;31mValueError\u001b[0m: operands could not be broadcast together with shapes (4,3) (4,) "
     ]
    }
   ],
   "source": [
    "b = np.array([1, 2, 3, 4])\n",
    "a + b"
   ]
  },
  {
   "attachments": {},
   "cell_type": "markdown",
   "id": "984e48ee",
   "metadata": {},
   "source": [
    "When the trailing dimensions of the arrays are unequal, broadcasting fails because it is impossible to align the values in the rows of the 1st array with the elements of the 2nd arrays for element-by-element addition."
   ]
  },
  {
   "attachments": {
    "image.png": {
     "image/png": "[encoded data removed]"
    }
   },
   "cell_type": "markdown",
   "id": "c7be4af2",
   "metadata": {},
   "source": [
    "![image.png](attachment:image.png)"
   ]
  },
  {
   "attachments": {},
   "cell_type": "markdown",
   "id": "5bab3284",
   "metadata": {},
   "source": [
    "Due to broadcasting, the operations below work."
   ]
  },
  {
   "cell_type": "code",
   "execution_count": null,
   "id": "3338834e",
   "metadata": {},
   "outputs": [],
   "source": [
    "a = np.random.randint(100, size = (4, 3, 5))\n",
    "b = np.random.randint(100, size = (4, 1, 5))\n",
    "a + b"
   ]
  },
  {
   "cell_type": "code",
   "execution_count": null,
   "id": "ad36b42b",
   "metadata": {},
   "outputs": [],
   "source": [
    "a = np.random.randint(100, size = (4, 1, 5))\n",
    "b = np.random.randint(100, size = (1, 3, 1))\n",
    "a + b"
   ]
  },
  {
   "cell_type": "code",
   "execution_count": null,
   "id": "cbf3ee71",
   "metadata": {},
   "outputs": [],
   "source": [
    "a = np.random.randint(100, size = (4, 3, 5))\n",
    "b = np.random.randint(100, size = (1, 5))\n",
    "a + b"
   ]
  },
  {
   "attachments": {},
   "cell_type": "markdown",
   "id": "68ce0abe",
   "metadata": {},
   "source": [
    "But these operations do NOT work."
   ]
  },
  {
   "cell_type": "code",
   "execution_count": null,
   "id": "12bf7d4c",
   "metadata": {},
   "outputs": [],
   "source": [
    "a = np.random.randint(100, size = (4, 3, 5))\n",
    "b = np.random.randint(100, size = (1, 3, 4))\n",
    "a + b"
   ]
  },
  {
   "cell_type": "code",
   "execution_count": null,
   "id": "7326f94f",
   "metadata": {},
   "outputs": [],
   "source": [
    "a = np.random.randint(100, size = (4, 3, 5))\n",
    "b = np.random.randint(100, size = (2, 5))\n",
    "a + b"
   ]
  },
  {
   "attachments": {},
   "cell_type": "markdown",
   "id": "15c709bc",
   "metadata": {},
   "source": [
    "<div class=\"alert alert-success\">\n",
    "\n",
    "<h3>Playing with arrays</h3>\n",
    "\n",
    "* Create multiple arrays with different dimensions and fill it in different ways\n",
    "* Do some basic operations on your arrays and see if happens what you expected"
   ]
  },
  {
   "cell_type": "code",
   "execution_count": null,
   "id": "f66d854a",
   "metadata": {},
   "outputs": [],
   "source": [
    "# ENter your code here\n",
    "\n",
    "\n",
    "\n",
    "\n",
    "\n",
    "\n",
    "\n",
    "\n",
    "\n",
    "\n"
   ]
  },
  {
   "attachments": {},
   "cell_type": "markdown",
   "id": "d778aa29",
   "metadata": {},
   "source": [
    "### Methods and universal functions"
   ]
  },
  {
   "attachments": {},
   "cell_type": "markdown",
   "id": "0de65eb9",
   "metadata": {},
   "source": [
    "Many unary operations, such as computing the sum of all the elements in the array, are implemented as methods of the ndarray class."
   ]
  },
  {
   "cell_type": "code",
   "execution_count": null,
   "id": "32904e87",
   "metadata": {},
   "outputs": [],
   "source": [
    "a = np.array([[1, 1],\n",
    "              [0, 1]])\n",
    "\n",
    "b = np.array([[2, 0],\n",
    "              [3, 4]])"
   ]
  },
  {
   "cell_type": "code",
   "execution_count": null,
   "id": "4944f175",
   "metadata": {},
   "outputs": [],
   "source": [
    "a.sum()"
   ]
  },
  {
   "cell_type": "code",
   "execution_count": null,
   "id": "8d5dd98a",
   "metadata": {},
   "outputs": [],
   "source": [
    "b.mean()"
   ]
  },
  {
   "cell_type": "code",
   "execution_count": null,
   "id": "42d42eab",
   "metadata": {},
   "outputs": [],
   "source": [
    "a.min()"
   ]
  },
  {
   "cell_type": "code",
   "execution_count": null,
   "id": "8530ee3c",
   "metadata": {},
   "outputs": [],
   "source": [
    "b.max()"
   ]
  },
  {
   "attachments": {},
   "cell_type": "markdown",
   "id": "31a733f6",
   "metadata": {},
   "source": [
    "But if you add the axis parameter you can specify if you want the operation along the columns (0) or rows (1)."
   ]
  },
  {
   "cell_type": "code",
   "execution_count": null,
   "id": "cc04df02",
   "metadata": {},
   "outputs": [],
   "source": [
    "a.sum(axis=0)"
   ]
  },
  {
   "cell_type": "code",
   "execution_count": null,
   "id": "f9b50302",
   "metadata": {},
   "outputs": [],
   "source": [
    "b.mean(axis=1)"
   ]
  },
  {
   "attachments": {},
   "cell_type": "markdown",
   "id": "f5769d3f",
   "metadata": {},
   "source": [
    " "
   ]
  },
  {
   "attachments": {},
   "cell_type": "markdown",
   "id": "a6113034",
   "metadata": {},
   "source": [
    "There are a lot of universal functions provided in NumPy. In short these are called **ufunc**."
   ]
  },
  {
   "cell_type": "code",
   "execution_count": null,
   "id": "d779480a",
   "metadata": {},
   "outputs": [],
   "source": [
    "np.add(a, b)"
   ]
  },
  {
   "cell_type": "code",
   "execution_count": null,
   "id": "26c1f67f",
   "metadata": {},
   "outputs": [],
   "source": [
    "np.concatenate((a, b))"
   ]
  },
  {
   "cell_type": "code",
   "execution_count": null,
   "id": "881dc644",
   "metadata": {},
   "outputs": [],
   "source": [
    "np.sqrt(a)"
   ]
  },
  {
   "cell_type": "code",
   "execution_count": null,
   "id": "ee034cf8",
   "metadata": {},
   "outputs": [],
   "source": [
    "np.square(b)"
   ]
  },
  {
   "attachments": {},
   "cell_type": "markdown",
   "id": "09aa30e6",
   "metadata": {},
   "source": [
    "Of course there are a lot more functions out there. Some om them are below:\n",
    "\n",
    "all, any, apply_along_axis, argmax, argmin, argsort, average, bincount, ceil, clip, conj, corrcoef, cov, cross, cumprod, cumsum, diff, dot, floor, inner, invert, lexsort, max, maximum, mean, median, min, minimum, nonzero, outer, prod, re, round, sort, std, sum, trace, transpose, var, vdot, vectorize, where"
   ]
  },
  {
   "cell_type": "code",
   "execution_count": 14,
   "id": "433c1119",
   "metadata": {},
   "outputs": [
    {
     "name": "stdout",
     "output_type": "stream",
     "text": [
      "[4, 10, 18, 28, 6, 12, 8, 15, 24, 35, 24, 6, 92, 20, 15, 6, 6, 4, 15]\n"
     ]
    }
   ],
   "source": [
    "x = [1, 2, 3, 4,2,3,4,5,6,7,8,3,4,5,3,2,3,4,5]\n",
    "y = [4, 5, 6, 7,3,4,2,3,4,5,3,2,23,4,5,3,2,1,3]\n",
    "z = []\n",
    "\n",
    "for i, j in zip(x, y):\n",
    "  z.append(i * j)\n",
    "print(z)"
   ]
  },
  {
   "cell_type": "code",
   "execution_count": 15,
   "id": "be63af6b",
   "metadata": {},
   "outputs": [
    {
     "name": "stdout",
     "output_type": "stream",
     "text": [
      "[ 4 10 18 28  6 12  8 15 24 35 24  6 92 20 15  6  6  4 15]\n"
     ]
    }
   ],
   "source": [
    "x = np.array(x)\n",
    "y = np.array(y)\n",
    "z = np.multiply(x, y)\n",
    "\n",
    "print(z)\n"
   ]
  },
  {
   "attachments": {},
   "cell_type": "markdown",
   "id": "fd28bc78",
   "metadata": {},
   "source": [
    "<div class=\"alert alert-success\">\n",
    "\n",
    "<h3>Getting to know the ufunc</h3>\n",
    "\n",
    "* Create some new arrays\n",
    "* Apply some methods on your newly created arrays\n",
    "* Apply some new universal functions on them"
   ]
  },
  {
   "cell_type": "code",
   "execution_count": null,
   "id": "8b05dce0",
   "metadata": {},
   "outputs": [],
   "source": [
    "# Enter your code here\n",
    "\n",
    "\n",
    "\n",
    "\n",
    "\n",
    "\n",
    "\n",
    "\n"
   ]
  },
  {
   "attachments": {},
   "cell_type": "markdown",
   "id": "27663e90",
   "metadata": {},
   "source": [
    "### Accessing elements"
   ]
  },
  {
   "cell_type": "code",
   "execution_count": null,
   "id": "d4471f40",
   "metadata": {},
   "outputs": [],
   "source": [
    "arr = np.array([1, 2, 3, 4])"
   ]
  },
  {
   "cell_type": "code",
   "execution_count": null,
   "id": "9c9bc2e7",
   "metadata": {},
   "outputs": [],
   "source": [
    "arr[1]"
   ]
  },
  {
   "cell_type": "code",
   "execution_count": null,
   "id": "ac8eea90",
   "metadata": {},
   "outputs": [],
   "source": [
    "arr[0] + arr[-1]"
   ]
  },
  {
   "cell_type": "code",
   "execution_count": null,
   "id": "fc2c1e94",
   "metadata": {},
   "outputs": [],
   "source": [
    "arr2 = np.array([[1,2,3,4,5], [6,7,8,9,10]])"
   ]
  },
  {
   "cell_type": "code",
   "execution_count": null,
   "id": "40a09b52",
   "metadata": {},
   "outputs": [],
   "source": [
    "print(f'4th element on 1st row: {arr2[0, 3]}')"
   ]
  },
  {
   "cell_type": "code",
   "execution_count": null,
   "id": "d651a0f5",
   "metadata": {},
   "outputs": [],
   "source": [
    "print(f'1st element on 2nd row: {arr2[1, 0]}')"
   ]
  },
  {
   "cell_type": "code",
   "execution_count": null,
   "id": "ab16ffee",
   "metadata": {},
   "outputs": [],
   "source": [
    "arr3 = np.array([[[1, 2, 3], [4, 5, 6]], [[7, 8, 9], [10, 11, 12]]])"
   ]
  },
  {
   "attachments": {},
   "cell_type": "markdown",
   "id": "ea8a4a77",
   "metadata": {},
   "source": [
    "Guess what the result of the code block below is before running the code. Did you get it right? And can you explain it?"
   ]
  },
  {
   "cell_type": "code",
   "execution_count": null,
   "id": "20c998f7",
   "metadata": {},
   "outputs": [],
   "source": [
    "arr3[0][1][2]"
   ]
  },
  {
   "attachments": {},
   "cell_type": "markdown",
   "id": "e0817240",
   "metadata": {},
   "source": [
    "### Slicing"
   ]
  },
  {
   "attachments": {},
   "cell_type": "markdown",
   "id": "281149a5",
   "metadata": {},
   "source": [
    "Just like lists, you can slice arrays the same way."
   ]
  },
  {
   "cell_type": "code",
   "execution_count": null,
   "id": "78637b09",
   "metadata": {},
   "outputs": [],
   "source": [
    "arr = np.arange(1,11)\n",
    "arr"
   ]
  },
  {
   "cell_type": "code",
   "execution_count": null,
   "id": "1fa082f5",
   "metadata": {},
   "outputs": [],
   "source": [
    "arr[1:7]"
   ]
  },
  {
   "cell_type": "code",
   "execution_count": null,
   "id": "2cb2ef41",
   "metadata": {},
   "outputs": [],
   "source": [
    "arr[:2]"
   ]
  },
  {
   "cell_type": "code",
   "execution_count": null,
   "id": "542a3544",
   "metadata": {},
   "outputs": [],
   "source": [
    "arr[8:]"
   ]
  },
  {
   "cell_type": "code",
   "execution_count": null,
   "id": "fac23620",
   "metadata": {},
   "outputs": [],
   "source": [
    "arr[-4:-1]"
   ]
  },
  {
   "cell_type": "code",
   "execution_count": null,
   "id": "be9bb380",
   "metadata": {},
   "outputs": [],
   "source": [
    "arr[1:7:2]"
   ]
  },
  {
   "attachments": {},
   "cell_type": "markdown",
   "id": "ca4b756e",
   "metadata": {},
   "source": [
    "Let's see how it works with 2+ dimensional arrays below."
   ]
  },
  {
   "cell_type": "code",
   "execution_count": null,
   "id": "e0a2b12d",
   "metadata": {},
   "outputs": [],
   "source": [
    "arr2 = np.array([[1,2,3,4,5], [6,7,8,9,10]])"
   ]
  },
  {
   "cell_type": "code",
   "execution_count": null,
   "id": "2b598273",
   "metadata": {},
   "outputs": [],
   "source": [
    "arr2[0, 2:]"
   ]
  },
  {
   "cell_type": "code",
   "execution_count": null,
   "id": "06e855b2",
   "metadata": {},
   "outputs": [],
   "source": [
    "arr2[1, :3]"
   ]
  },
  {
   "cell_type": "code",
   "execution_count": null,
   "id": "716a119f",
   "metadata": {},
   "outputs": [],
   "source": [
    "arr2[:, 3]"
   ]
  },
  {
   "attachments": {},
   "cell_type": "markdown",
   "id": "c66546e7",
   "metadata": {},
   "source": [
    "### Iterating over arrays"
   ]
  },
  {
   "cell_type": "code",
   "execution_count": 16,
   "id": "71eb61ad",
   "metadata": {},
   "outputs": [],
   "source": [
    "arr2 = np.array([[1,2,3,4,5], [6,7,8,9,10]])"
   ]
  },
  {
   "attachments": {},
   "cell_type": "markdown",
   "id": "4052fd03",
   "metadata": {},
   "source": [
    "You can loop over arrays row by row..."
   ]
  },
  {
   "cell_type": "code",
   "execution_count": 17,
   "id": "d6721b4d",
   "metadata": {},
   "outputs": [
    {
     "name": "stdout",
     "output_type": "stream",
     "text": [
      "[1 2 3 4 5]\n",
      "[ 6  7  8  9 10]\n"
     ]
    }
   ],
   "source": [
    "for row in arr2:\n",
    "    print(row)"
   ]
  },
  {
   "attachments": {},
   "cell_type": "markdown",
   "id": "a36826ed",
   "metadata": {},
   "source": [
    "or element by element."
   ]
  },
  {
   "cell_type": "code",
   "execution_count": 18,
   "id": "79b64c5c",
   "metadata": {
    "scrolled": true
   },
   "outputs": [
    {
     "name": "stdout",
     "output_type": "stream",
     "text": [
      "1\n",
      "2\n",
      "3\n",
      "4\n",
      "5\n",
      "6\n",
      "7\n",
      "8\n",
      "9\n",
      "10\n"
     ]
    }
   ],
   "source": [
    "for element in arr2.flat:\n",
    "    print(element)"
   ]
  },
  {
   "attachments": {},
   "cell_type": "markdown",
   "id": "5bbdc601",
   "metadata": {},
   "source": [
    "And we can use list-comprehensions for them as well."
   ]
  },
  {
   "cell_type": "code",
   "execution_count": null,
   "id": "788108ed",
   "metadata": {},
   "outputs": [],
   "source": [
    "[x for x in arr2]"
   ]
  },
  {
   "cell_type": "code",
   "execution_count": null,
   "id": "49c56a40",
   "metadata": {},
   "outputs": [],
   "source": [
    "[x for x in arr2.flat]"
   ]
  },
  {
   "attachments": {},
   "cell_type": "markdown",
   "id": "a562b53b",
   "metadata": {},
   "source": [
    "<div class=\"alert alert-success\">\n",
    "\n",
    "<h3>Access, slice and iterate</h3>\n",
    "\n",
    "* Create some new arrays with different dimensions\n",
    "* Define which value to access and try to access it afterwards\n",
    "* Make some slices of your arrays\n",
    "* Try to iterate over your arrays. What is your preferred way?"
   ]
  },
  {
   "cell_type": "code",
   "execution_count": null,
   "id": "135a33fd",
   "metadata": {},
   "outputs": [],
   "source": [
    "# Enter your code here\n",
    "\n",
    "\n",
    "\n",
    "\n",
    "\n",
    "\n",
    "\n",
    "\n",
    "\n",
    "\n",
    "\n"
   ]
  },
  {
   "attachments": {},
   "cell_type": "markdown",
   "id": "9739f35d",
   "metadata": {},
   "source": [
    "### Copies and Views"
   ]
  },
  {
   "attachments": {},
   "cell_type": "markdown",
   "id": "ae084ac8",
   "metadata": {},
   "source": [
    "When operating and manipulating arrays, their data is sometimes copied into a new array and sometimes not. This is often a source of confusion for beginners. There are three cases:"
   ]
  },
  {
   "attachments": {},
   "cell_type": "markdown",
   "id": "b245d6a4",
   "metadata": {},
   "source": [
    "**No copy at all**\n",
    "\n",
    "Simple assignments make no copy of objects or their data."
   ]
  },
  {
   "cell_type": "code",
   "execution_count": 19,
   "id": "37fa8619",
   "metadata": {},
   "outputs": [
    {
     "data": {
      "text/plain": [
       "array([[4, 3, 3, 0],\n",
       "       [0, 2, 4, 2]])"
      ]
     },
     "execution_count": 19,
     "metadata": {},
     "output_type": "execute_result"
    }
   ],
   "source": [
    "a = np.random.randint(5, size=(2, 4))\n",
    "a"
   ]
  },
  {
   "attachments": {},
   "cell_type": "markdown",
   "id": "44bb14ad",
   "metadata": {},
   "source": [
    "Let's assign the array to a new variable."
   ]
  },
  {
   "cell_type": "code",
   "execution_count": 20,
   "id": "e10fbf7c",
   "metadata": {},
   "outputs": [],
   "source": [
    "b = a"
   ]
  },
  {
   "attachments": {},
   "cell_type": "markdown",
   "id": "9c99c805",
   "metadata": {},
   "source": [
    "And check if they are the same."
   ]
  },
  {
   "cell_type": "code",
   "execution_count": 21,
   "id": "bde0b0ec",
   "metadata": {},
   "outputs": [
    {
     "data": {
      "text/plain": [
       "True"
      ]
     },
     "execution_count": 21,
     "metadata": {},
     "output_type": "execute_result"
    }
   ],
   "source": [
    "b is a"
   ]
  },
  {
   "attachments": {},
   "cell_type": "markdown",
   "id": "038b4d81",
   "metadata": {},
   "source": [
    "As we see above, they are. But what happens when we assign a new value to any existing value in the array."
   ]
  },
  {
   "cell_type": "code",
   "execution_count": 22,
   "id": "d2b6e2d4",
   "metadata": {},
   "outputs": [],
   "source": [
    "b[0, 0] = 99"
   ]
  },
  {
   "cell_type": "code",
   "execution_count": 23,
   "id": "0c5fa124",
   "metadata": {},
   "outputs": [
    {
     "data": {
      "text/plain": [
       "array([[99,  3,  3,  0],\n",
       "       [ 0,  2,  4,  2]])"
      ]
     },
     "execution_count": 23,
     "metadata": {},
     "output_type": "execute_result"
    }
   ],
   "source": [
    "a"
   ]
  },
  {
   "attachments": {},
   "cell_type": "markdown",
   "id": "c2522b32",
   "metadata": {},
   "source": [
    "We assigned the new value to the b-array, but when we call the a-array the value is changed as well. That's because Python passes a reference to the new variable, but makes no copy."
   ]
  },
  {
   "attachments": {},
   "cell_type": "markdown",
   "id": "2241c62f",
   "metadata": {},
   "source": [
    "**View or shallow copy**\n",
    "\n",
    "Different array objects can share the same data. The .view() method creates a new array object that looks at the same data."
   ]
  },
  {
   "attachments": {},
   "cell_type": "markdown",
   "id": "4236ee13",
   "metadata": {},
   "source": [
    "Let's create a view of the array above and check if they are the same."
   ]
  },
  {
   "cell_type": "code",
   "execution_count": 24,
   "id": "a91a8818",
   "metadata": {},
   "outputs": [
    {
     "data": {
      "text/plain": [
       "False"
      ]
     },
     "execution_count": 24,
     "metadata": {},
     "output_type": "execute_result"
    }
   ],
   "source": [
    "c = a.view()\n",
    "c is a"
   ]
  },
  {
   "attachments": {},
   "cell_type": "markdown",
   "id": "da76689a",
   "metadata": {},
   "source": [
    "As we can see, they are not the same. c is a view of a and only shares the same data."
   ]
  },
  {
   "attachments": {},
   "cell_type": "markdown",
   "id": "a5b831e8",
   "metadata": {},
   "source": [
    "With the .base attribute we can check which array the origin of the view is."
   ]
  },
  {
   "cell_type": "code",
   "execution_count": 25,
   "id": "70dbc034",
   "metadata": {},
   "outputs": [
    {
     "data": {
      "text/plain": [
       "array([[99,  3,  3,  0],\n",
       "       [ 0,  2,  4,  2]])"
      ]
     },
     "execution_count": 25,
     "metadata": {},
     "output_type": "execute_result"
    }
   ],
   "source": [
    "c.base"
   ]
  },
  {
   "cell_type": "code",
   "execution_count": 26,
   "id": "31477b58",
   "metadata": {},
   "outputs": [
    {
     "data": {
      "text/plain": [
       "True"
      ]
     },
     "execution_count": 26,
     "metadata": {},
     "output_type": "execute_result"
    }
   ],
   "source": [
    "c.base is a"
   ]
  },
  {
   "attachments": {},
   "cell_type": "markdown",
   "id": "dc098822",
   "metadata": {},
   "source": [
    "We now know for sure that a and c are not the same. Let's check what happens when we reshape the array."
   ]
  },
  {
   "cell_type": "code",
   "execution_count": 27,
   "id": "38439914",
   "metadata": {},
   "outputs": [
    {
     "data": {
      "text/plain": [
       "array([[99,  3,  3,  0],\n",
       "       [ 0,  2,  4,  2]])"
      ]
     },
     "execution_count": 27,
     "metadata": {},
     "output_type": "execute_result"
    }
   ],
   "source": [
    "c = c.reshape((4, 2))\n",
    "a"
   ]
  },
  {
   "cell_type": "code",
   "execution_count": 28,
   "id": "145a16ca",
   "metadata": {},
   "outputs": [
    {
     "data": {
      "text/plain": [
       "array([[99,  3],\n",
       "       [ 3,  0],\n",
       "       [ 0,  2],\n",
       "       [ 4,  2]])"
      ]
     },
     "execution_count": 28,
     "metadata": {},
     "output_type": "execute_result"
    }
   ],
   "source": [
    "c"
   ]
  },
  {
   "attachments": {},
   "cell_type": "markdown",
   "id": "33ff3c21",
   "metadata": {},
   "source": [
    "The shape of c changed from (2,4) to (4,2), but the shape from a stayed the same."
   ]
  },
  {
   "attachments": {},
   "cell_type": "markdown",
   "id": "555fcc9d",
   "metadata": {},
   "source": [
    "Now we know that a and c are not the same, and that the shapes are different. But what happens when we change the data of one of both?"
   ]
  },
  {
   "cell_type": "code",
   "execution_count": 29,
   "id": "ae3dce3c",
   "metadata": {
    "scrolled": true
   },
   "outputs": [
    {
     "data": {
      "text/plain": [
       "array([[ 99, 123,   3,   0],\n",
       "       [  0,   2,   4,   2]])"
      ]
     },
     "execution_count": 29,
     "metadata": {},
     "output_type": "execute_result"
    }
   ],
   "source": [
    "c[0, 1] = 123 \n",
    "a"
   ]
  },
  {
   "cell_type": "code",
   "execution_count": 30,
   "id": "ba6d8758",
   "metadata": {},
   "outputs": [
    {
     "data": {
      "text/plain": [
       "array([[ 99, 123],\n",
       "       [  3,   0],\n",
       "       [  0,   2],\n",
       "       [  4, 789]])"
      ]
     },
     "execution_count": 30,
     "metadata": {},
     "output_type": "execute_result"
    }
   ],
   "source": [
    "a[1,3] = 789\n",
    "c"
   ]
  },
  {
   "attachments": {},
   "cell_type": "markdown",
   "id": "bb983515",
   "metadata": {},
   "source": [
    "As we can see above, if we change the data of either a or c the data of both changes. That's because they share the same data."
   ]
  },
  {
   "attachments": {},
   "cell_type": "markdown",
   "id": "f2ff8aaf",
   "metadata": {},
   "source": [
    "**Deep copy**\n",
    "\n",
    "The .copy()-method makes a complete copy of the array and its data. Let's try that below."
   ]
  },
  {
   "cell_type": "code",
   "execution_count": null,
   "id": "61396a6d",
   "metadata": {},
   "outputs": [],
   "source": [
    "d = a.copy()\n",
    "d is a"
   ]
  },
  {
   "cell_type": "code",
   "execution_count": null,
   "id": "3cf2a825",
   "metadata": {},
   "outputs": [],
   "source": [
    "d.base is a"
   ]
  },
  {
   "cell_type": "code",
   "execution_count": null,
   "id": "51c16206",
   "metadata": {},
   "outputs": [],
   "source": [
    "d[0, 0] = 9999\n",
    "d"
   ]
  },
  {
   "cell_type": "code",
   "execution_count": null,
   "id": "939a0776",
   "metadata": {},
   "outputs": [],
   "source": [
    "a"
   ]
  },
  {
   "attachments": {},
   "cell_type": "markdown",
   "id": "f3ac6a6a",
   "metadata": {},
   "source": [
    "As we can see in the results above, d and a are not the same. In addition, a is also not the base of d and when we change data from d it does not change data from a.\n",
    "\n",
    "Let's now check for all of the four arrays above what happens when we change data from a. Did you expect the outcome?"
   ]
  },
  {
   "cell_type": "code",
   "execution_count": null,
   "id": "259e1200",
   "metadata": {},
   "outputs": [],
   "source": [
    "a[0, 0] = 1"
   ]
  },
  {
   "cell_type": "code",
   "execution_count": null,
   "id": "23baf960",
   "metadata": {},
   "outputs": [],
   "source": [
    "a"
   ]
  },
  {
   "cell_type": "code",
   "execution_count": null,
   "id": "d10e2f47",
   "metadata": {},
   "outputs": [],
   "source": [
    "b"
   ]
  },
  {
   "cell_type": "code",
   "execution_count": null,
   "id": "876d1d54",
   "metadata": {
    "scrolled": true
   },
   "outputs": [],
   "source": [
    "c"
   ]
  },
  {
   "cell_type": "code",
   "execution_count": null,
   "id": "81220b7a",
   "metadata": {},
   "outputs": [],
   "source": [
    "d"
   ]
  },
  {
   "attachments": {},
   "cell_type": "markdown",
   "id": "329220a0",
   "metadata": {},
   "source": [
    "### Vectorization"
   ]
  },
  {
   "attachments": {},
   "cell_type": "markdown",
   "id": "547c6c82",
   "metadata": {},
   "source": [
    "Vectorization is a technique where array operations are used. Instead, we use functions defined by various modules which are highly optimized that reduces the running and execution time of code. Vectorized array operations will be faster than their pure Python equivalents, with the biggest impact in any kind of numerical computations.\n",
    "\n",
    "Python for-loops are slower than their C/C++ counterpart. Python is an interpreted language and most of the implementation is slow. The main reason for this slow computation comes down to the dynamic nature of Python and the lack of compiler level optimizations which incur memory overheads. NumPy being a C implementation of arrays in Python provides vectorized actions on NumPy arrays."
   ]
  },
  {
   "cell_type": "code",
   "execution_count": 36,
   "id": "5e766b9c",
   "metadata": {},
   "outputs": [
    {
     "name": "stdout",
     "output_type": "stream",
     "text": [
      "Summing elements takes 0.012368100 units using for loop\n",
      "Summing elements takes 0.008480300 units using builtin method\n",
      "Summing elements takes 0.000104400 units using numpy\n"
     ]
    }
   ],
   "source": [
    "import numpy as np\n",
    "from timeit import Timer\n",
    " \n",
    "# Creating a large array of size 10**5\n",
    "array = np.random.randint(100, size=10**5)\n",
    " \n",
    "def sum_with_forloop():\n",
    "  sum_array=0\n",
    "  for element in array:\n",
    "    sum_array += element\n",
    " \n",
    "def sum_with_builtin_method():\n",
    "  sum_array = sum(array)\n",
    " \n",
    "def sum_with_numpy():\n",
    "  sum_array = np.sum(array)\n",
    " \n",
    "time_forloop = Timer(sum_with_forloop).timeit(1)\n",
    "time_builtin = Timer(sum_with_builtin_method).timeit(1)\n",
    "time_numpy = Timer(sum_with_numpy).timeit(1)\n",
    " \n",
    "print(\"Summing elements takes %0.9f units using for loop\"%time_forloop)\n",
    "print(\"Summing elements takes %0.9f units using builtin method\"%time_builtin)\n",
    "print(\"Summing elements takes %0.9f units using numpy\"%time_numpy)"
   ]
  },
  {
   "cell_type": "code",
   "execution_count": 37,
   "id": "8f927d43",
   "metadata": {},
   "outputs": [
    {
     "data": {
      "text/plain": [
       "118.46839080701812"
      ]
     },
     "execution_count": 37,
     "metadata": {},
     "output_type": "execute_result"
    }
   ],
   "source": [
    "time_forloop / time_numpy"
   ]
  },
  {
   "cell_type": "code",
   "execution_count": 38,
   "id": "2ee3d35d",
   "metadata": {},
   "outputs": [
    {
     "data": {
      "text/plain": [
       "81.22892720499635"
      ]
     },
     "execution_count": 38,
     "metadata": {},
     "output_type": "execute_result"
    }
   ],
   "source": [
    "time_builtin / time_numpy"
   ]
  },
  {
   "attachments": {},
   "cell_type": "markdown",
   "id": "faa4f328",
   "metadata": {},
   "source": [
    "This means that for such an operation, using vectorization in numpy is more than 100 times faster than the builtin-method sum() and more than 200 times faster than a for loop."
   ]
  },
  {
   "attachments": {},
   "cell_type": "markdown",
   "id": "1a3b2a0c",
   "metadata": {},
   "source": [
    "### NumPy in Pandas"
   ]
  },
  {
   "cell_type": "code",
   "execution_count": 1,
   "id": "5271448d",
   "metadata": {},
   "outputs": [],
   "source": [
    "import pandas as pd"
   ]
  },
  {
   "cell_type": "code",
   "execution_count": null,
   "id": "caa5c3bb",
   "metadata": {},
   "outputs": [],
   "source": [
    "df_new = pd.DataFrame()"
   ]
  },
  {
   "cell_type": "code",
   "execution_count": null,
   "id": "5f72da24",
   "metadata": {},
   "outputs": [],
   "source": [
    "df_new['first_column'] = np.random.randint(1000, size = (10**3))\n",
    "df_new['second_column'] = np.random.randint(1000, size = (10**3))\n",
    "df_new.shape"
   ]
  },
  {
   "cell_type": "code",
   "execution_count": null,
   "id": "9e18466f",
   "metadata": {},
   "outputs": [],
   "source": [
    "df_new['sum_column'] = np.add(df_new.first_column, df_new.second_column)"
   ]
  },
  {
   "cell_type": "code",
   "execution_count": null,
   "id": "45c981e2",
   "metadata": {
    "scrolled": true
   },
   "outputs": [],
   "source": [
    "df_new"
   ]
  },
  {
   "attachments": {},
   "cell_type": "markdown",
   "id": "f547de97",
   "metadata": {},
   "source": [
    "<div class=\"alert alert-success\">\n",
    "\n",
    "# Selfstudy \n",
    "*Exercises from Think Python, picked from H10-12, Allen B. Downey*\n",
    "\n",
    "### H10, Exercise 3  \n",
    "Write a function called middle that takes a list and returns a new list that contains all but the first and last elements. For example:\n",
    "```python\n",
    ">>> t = [1, 2, 3, 4]\n",
    ">>> middle(t)\n",
    ">>> [2, 3]\n",
    " ```\n",
    "    \n",
    "### H10, Exercise 4  \n",
    "Write a function called chop that takes a list, modifies it by removing the first and last elements, and returns None. For example:\n",
    "```python\n",
    ">>> t = [1, 2, 3, 4]\n",
    ">>> chop(t)\n",
    ">>> t\n",
    "[2, 3]\n",
    "```\n",
    "    \n",
    "### H10, Exercise 5   \n",
    "Write a function called is_sorted that takes a list as a parameter and returns True if the list is sorted in ascending order and False otherwise.\n",
    "\n",
    "### H10, Exercise 7  \n",
    "Write a function called has_duplicates that takes a list and returns True if there is any element that appears more than once. It should not modify the original list.\n",
    "\n",
    "### H11, Exercise 1  \n",
    "Write a function that reads the words in _Class2_Words.txt_ (created during class 3) and stores them as keys in a dictionary. It doesn’t matter what the values are. Then you can use the in operator as a fast way to check whether a string is in the dictionary.\n",
    "\n",
    "### H12, Exercise 1  \n",
    "Write a function called most_frequent that takes a string and prints the letters in decreasing order of frequency. \n",
    "\n",
    "Optional: Find text samples from several different languages and see how letter frequency varies between languages. Compare your results with the tables at (http://en.wikipedia.org/wiki/Letter_frequencies)."
   ]
  },
  {
   "attachments": {},
   "cell_type": "markdown",
   "id": "dc34b76c",
   "metadata": {},
   "source": [
    "### More on classes \n",
    "In this exercise we will expand our elevator class.\n",
    "\n",
    "* Create a class named 'Building', containing an 'init' method and an attribute 'elevators'. This is an empty list in which we will store an overview of all elevators in the building.\n",
    "* Create a method in 'Building' to add an elevator to this building, by appending the list of elevators.\n",
    "* Create a method in 'Building' that finds all available elevators. Return a list that contains all elevators that have no passengers.\n",
    "* Add 5 elevators to a building instance. Test your class by calling 2 elevators and finding which elevators are still available"
   ]
  },
  {
   "cell_type": "code",
   "execution_count": 27,
   "id": "aaa01ed0",
   "metadata": {},
   "outputs": [
    {
     "name": "stdout",
     "output_type": "stream",
     "text": [
      "[<__main__.Elevator object at 0x000001223AA85790>, <__main__.Elevator object at 0x000001223AA85A60>, <__main__.Elevator object at 0x000001223AA85820>]\n"
     ]
    }
   ],
   "source": [
    "\n",
    "\n",
    "    "
   ]
  },
  {
   "attachments": {},
   "cell_type": "markdown",
   "id": "44ed41c4",
   "metadata": {},
   "source": [
    "<div class=\"alert alert-success\">\n",
    "    \n",
    "# And...\n",
    "* Continue with your project and apply your newly gained knowledge"
   ]
  },
  {
   "cell_type": "code",
   "execution_count": null,
   "id": "3331a091",
   "metadata": {},
   "outputs": [],
   "source": []
  }
 ],
 "metadata": {
  "kernelspec": {
   "display_name": "venv",
   "language": "python",
   "name": "venv"
  },
  "language_info": {
   "codemirror_mode": {
    "name": "ipython",
    "version": 3
   },
   "file_extension": ".py",
   "mimetype": "text/x-python",
   "name": "python",
   "nbconvert_exporter": "python",
   "pygments_lexer": "ipython3",
   "version": "3.9.13"
  },
  "vscode": {
   "interpreter": {
    "hash": "5f19a547278f0652dfe65f60803b0337a763a630ecdb03a6050c295e1503b5e3"
   }
  }
 },
 "nbformat": 4,
 "nbformat_minor": 5
}
