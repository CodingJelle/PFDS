{
 "cells": [
  {
   "cell_type": "markdown",
   "metadata": {},
   "source": [
    "# Pythonopdracht - Programming for Data Science - Jelle van Barneveld"
   ]
  },
  {
   "cell_type": "markdown",
   "metadata": {},
   "source": [
    "## Contextbeschrijving"
   ]
  },
  {
   "cell_type": "markdown",
   "metadata": {},
   "source": [
    "### Aanleiding"
   ]
  },
  {
   "cell_type": "markdown",
   "metadata": {},
   "source": [
    "Iedere zomer ga ik met ongeveer zeven a acht vrienden op vakantie in Nederland, we huren dan altijd een huisje. Op internet zoeken we een aantal maanden voor de schoolvakantie een huisje dat ons hiervoor geschikt lijkt. Elk van ons controleert deze geschiktheid volgens andere eisen. Grofweg kunnen deze in 2 categorieen worden opgedeeld:\n",
    "- Eisen aan het huisje zelf: denk aan aantallen slaapkamers, WiFi-mogelijkheden, enzovoort. Deze informatie wordt aangeboden door de website natuurhuisje.nl.\n",
    "- Eisen aan de omgeving van het huisje: dit omvat de aanwezigheid van een supermarkt en verschillende activiteiten, bijvoorbeeld pretparken, zwembaden, klimbossen, enzovoort. Deze informatie halen we voor het grootste gedeelte uit Google Maps.\n",
    "\n",
    "Het zoekproces om een huisje te vinden dat aan alle eisen voldoet is tijdrovend: gemiddeld doen we er twee weken over om te beslissen wat het meest geschikte huisje is. Dit wordt met name veroorzaakt door het feit dat we, zoals eerder vermeld, meerdere websites moeten raadplegen. In dit beslisproces moeten we dus continu switchen tussen bijvoorbeeld huisjes- en uitjesinformatie en daarbij zeer alert zijn op het voldoen aan alle voorwaarden."
   ]
  },
  {
   "cell_type": "markdown",
   "metadata": {},
   "source": [
    "### Opdracht"
   ]
  },
  {
   "cell_type": "markdown",
   "metadata": {},
   "source": [
    "Schrijf een script dat gebruikt kan worden om elk natuurhuisje te controleren op beide soorten gestelde eisen. Dit kan uitgesplitst worden in de volgende stappen die op volgorde behandeld zullen worden in dit script.\n",
    "1. Informatie verzamelen van verschillende natuurhuisjes met Web Scraping op natuurhuisje.nl\n",
    "2. Het aantal huisjes per persoonscapaciteit onderzoeken.\n",
    "3. Het aantal supermarkten per woonplaats verzamelen met Web Scraping.\n",
    "4. "
   ]
  },
  {
   "cell_type": "markdown",
   "metadata": {},
   "source": [
    "### Doelstelling"
   ]
  },
  {
   "cell_type": "markdown",
   "metadata": {},
   "source": []
  },
  {
   "cell_type": "markdown",
   "metadata": {},
   "source": [
    "## Bibliotheken importeren"
   ]
  },
  {
   "cell_type": "code",
   "execution_count": 11,
   "metadata": {},
   "outputs": [],
   "source": [
    "from selenium import webdriver\n",
    "from selenium.webdriver.common.keys import Keys\n",
    "from selenium.webdriver.common.by import By\n",
    "from selenium.webdriver.support.ui import WebDriverWait\n",
    "from selenium.webdriver.support import expected_conditions as EC\n",
    "import pandas as pd\n",
    "import numpy as np\n",
    "import undetected_chromedriver as uc\n",
    "import requests"
   ]
  },
  {
   "cell_type": "code",
   "execution_count": 12,
   "metadata": {},
   "outputs": [
    {
     "name": "stderr",
     "output_type": "stream",
     "text": [
      "C:\\Users\\chris\\AppData\\Local\\Temp\\ipykernel_10100\\3957462476.py:2: DeprecationWarning: executable_path has been deprecated, please pass in a Service object\n",
      "  driver = webdriver.Chrome(pad)\n"
     ]
    }
   ],
   "source": [
    "pad = \"C:\\Program Files (x86)\\chromedriver.exe\"\n",
    "driver = webdriver.Chrome(pad)"
   ]
  },
  {
   "cell_type": "code",
   "execution_count": 13,
   "metadata": {},
   "outputs": [],
   "source": [
    "# driver = uc.Chrome()"
   ]
  },
  {
   "cell_type": "code",
   "execution_count": 14,
   "metadata": {},
   "outputs": [],
   "source": [
    "def selecteer_huiselementen(driver, te_beschouwen_substrings):\n",
    "    search = driver.find_elements('xpath', \"//article[@class ='card card--horizontal card--house-search']\")\n",
    "    totale_inhoud = []\n",
    "\n",
    "    for search_info in search: #Voor elk huisje...\n",
    "        vieze_list_info = search_info.text.split(\"\\n\")\n",
    "        schone_list_info = []\n",
    "        \n",
    "        for vieze_info in vieze_list_info: #Voor elk informatie-element per huisje...\n",
    "            \n",
    "            for te_beschouwen_substring in te_beschouwen_substrings: #Voor elk relevantie-criterium per informatie-element per huisje...\n",
    "                \n",
    "                if(te_beschouwen_substring in vieze_info):\n",
    "                    schone_list_info.append(vieze_info) #Álleen relevante tekst op de webpagina (die ook in het df gaat komen)\n",
    "        \n",
    "        totale_inhoud.append(schone_list_info)\n",
    "        \n",
    "        #TODO: in deze óf de volgende functie (doorloop_zoekresultatenlijst) het doorklikken naar individuele huisjes\n",
    "        #werkend krijgen. Gebruik Detailinformatie huisjes.ipynb\n",
    "#         naam_in_link = schone_list_info[0]\n",
    "#         print(naam_in_link)\n",
    "        \n",
    "#         huisjesdriver = driver #Nodig omdat elk tabblad het vorige weggooit\n",
    "#         link = huisjesdriver.find_element(By.LINK_TEXT , naam_in_link)\n",
    "#         link.click()\n",
    "        \n",
    "#         try:\n",
    "#             volledige_pagina = WebDriverWait(driver, 10).until(EC.presence_of_element_located((By.TAG_NAME , 'body')))\n",
    "#             driver.back()\n",
    "#         except:\n",
    "#             print(\"Geen zoekresultaten gevonden\")\n",
    "        \n",
    "    return totale_inhoud"
   ]
  },
  {
   "cell_type": "code",
   "execution_count": 15,
   "metadata": {},
   "outputs": [],
   "source": [
    "def doorloop_zoekresultatenlijst(driver):\n",
    "    aantal_paginas = 1 #TODO: deze parameter iteratief aanpassen\n",
    "    aantal_resultaten_per_pagina = 20 #Deze staat vast op natuurhuisje.nl\n",
    "    totaal_aantal_huisjes = aantal_paginas * aantal_resultaten_per_pagina\n",
    "    aantal_verwerkte_huisjes = 0\n",
    "    totale_inhoud = []\n",
    "    \n",
    "    #TODO\n",
    "    \n",
    "    while(aantal_verwerkte_huisjes < totaal_aantal_huisjes):\n",
    "        url = \"https://www.natuurhuisje.nl/vakantiehuizen/nederland?skip=\" + str(aantal_verwerkte_huisjes)\n",
    "        driver.get(url)\n",
    "        \n",
    "#         try:\n",
    "        alle_zoekresultaten = WebDriverWait(driver, 20).until(EC.presence_of_element_located((By.CLASS_NAME, 'search__result-list')))\n",
    "            \n",
    "        te_beschouwen_substrings = ['Natuurhuisje', 'land', 'personen', 'Slaapkamers']\n",
    "        totale_inhoud += selecteer_huiselementen(driver, te_beschouwen_substrings)\n",
    "            \n",
    "#         except:\n",
    "#             print(\"Geen zoekresultaten gevonden\")\n",
    "        \n",
    "        aantal_verwerkte_huisjes += 20\n",
    "        print(str(aantal_verwerkte_huisjes / 20) + \" pagina's verwerkt\")\n",
    "    \n",
    "    return totale_inhoud"
   ]
  },
  {
   "cell_type": "code",
   "execution_count": 16,
   "metadata": {},
   "outputs": [
    {
     "name": "stdout",
     "output_type": "stream",
     "text": [
      "1.0 pagina's verwerkt\n"
     ]
    },
    {
     "data": {
      "text/plain": [
       "20"
      ]
     },
     "execution_count": 16,
     "metadata": {},
     "output_type": "execute_result"
    }
   ],
   "source": [
    "totale_inhoud = doorloop_zoekresultatenlijst(driver)\n",
    "len(totale_inhoud)"
   ]
  },
  {
   "cell_type": "code",
   "execution_count": 17,
   "metadata": {},
   "outputs": [
    {
     "data": {
      "text/plain": [
       "[['Natuurhuisje in Mussel',\n",
       "  'Groningen, Nederland',\n",
       "  '2 personen',\n",
       "  '1 Slaapkamers'],\n",
       " ['Natuurhuisje in Terschuur',\n",
       "  'Gelderland, Nederland',\n",
       "  '2 personen',\n",
       "  '1 Slaapkamers'],\n",
       " ['Natuurhuisje in Epen', 'Limburg, Nederland', '4 personen', '2 Slaapkamers'],\n",
       " ['Natuurhuisje in Overdinkel',\n",
       "  'Overijssel, Nederland',\n",
       "  '2 personen',\n",
       "  '1 Slaapkamers'],\n",
       " ['Natuurhuisje in Heeten',\n",
       "  'Overijssel, Nederland',\n",
       "  '9 personen',\n",
       "  '4 Slaapkamers'],\n",
       " ['Natuurhuisje in Egmond aan den Hoef',\n",
       "  'Noord-Holland, Nederland',\n",
       "  '2 personen',\n",
       "  '1 Slaapkamers'],\n",
       " ['Natuurhuisje in Lekkerkerk',\n",
       "  'Zuid-Holland, Nederland',\n",
       "  '2 personen',\n",
       "  '1 Slaapkamers'],\n",
       " ['Natuurhuisje in Fluitenberg',\n",
       "  'Drenthe, Nederland',\n",
       "  '2 personen',\n",
       "  '1 Slaapkamers'],\n",
       " ['Natuurhuisje in Sevenum',\n",
       "  'Limburg, Nederland',\n",
       "  '2 personen',\n",
       "  '1 Slaapkamers'],\n",
       " ['Natuurhuisje in Milheeze',\n",
       "  'Noord-Brabant, Nederland',\n",
       "  '2 personen',\n",
       "  '1 Slaapkamers'],\n",
       " ['Natuurhuisje in de Lutte',\n",
       "  'Overijssel, Nederland',\n",
       "  '4 personen',\n",
       "  '1 Slaapkamers'],\n",
       " ['Natuurhuisje in Nijbroek',\n",
       "  'Gelderland, Nederland',\n",
       "  '4 personen',\n",
       "  '2 Slaapkamers'],\n",
       " ['Natuurhuisje in Bronkhorst',\n",
       "  'Gelderland, Nederland',\n",
       "  '2 personen',\n",
       "  '1 Slaapkamers'],\n",
       " ['Natuurhuisje in Odoornerveen', 'Drenthe, Nederland', '2 personen'],\n",
       " ['Natuurhuisje in Swolgen',\n",
       "  'Limburg, Nederland',\n",
       "  '6 personen',\n",
       "  '3 Slaapkamers'],\n",
       " ['Natuurhuisje in Helvoirt',\n",
       "  'Noord-Brabant, Nederland',\n",
       "  '2 personen',\n",
       "  '1 Slaapkamers'],\n",
       " ['Natuurhuisje in Echten',\n",
       "  'Drenthe, Nederland',\n",
       "  '2 personen',\n",
       "  '1 Slaapkamers'],\n",
       " ['Natuurhuisje in Fluitenberg',\n",
       "  'Drenthe, Nederland',\n",
       "  '2 personen',\n",
       "  '1 Slaapkamers'],\n",
       " ['Natuurhuisje in Oosterwolde',\n",
       "  'Friesland, Nederland',\n",
       "  '2 personen',\n",
       "  '1 Slaapkamers'],\n",
       " ['Natuurhuisje in Overschild',\n",
       "  'Groningen, Nederland',\n",
       "  '2 personen',\n",
       "  '1 Slaapkamers']]"
      ]
     },
     "execution_count": 17,
     "metadata": {},
     "output_type": "execute_result"
    }
   ],
   "source": [
    "totale_inhoud"
   ]
  },
  {
   "cell_type": "code",
   "execution_count": 8,
   "metadata": {
    "scrolled": false
   },
   "outputs": [
    {
     "data": {
      "text/plain": [
       "[['Natuurhuisje in Mussel',\n",
       "  'Groningen, Nederland',\n",
       "  '2 personen',\n",
       "  '1 Slaapkamers'],\n",
       " ['Natuurhuisje in Terschuur',\n",
       "  'Gelderland, Nederland',\n",
       "  '2 personen',\n",
       "  '1 Slaapkamers'],\n",
       " ['Natuurhuisje in Epen', 'Limburg, Nederland', '4 personen', '2 Slaapkamers'],\n",
       " ['Natuurhuisje in Overdinkel',\n",
       "  'Overijssel, Nederland',\n",
       "  '2 personen',\n",
       "  '1 Slaapkamers'],\n",
       " ['Natuurhuisje in Heeten',\n",
       "  'Overijssel, Nederland',\n",
       "  '9 personen',\n",
       "  '4 Slaapkamers'],\n",
       " ['Natuurhuisje in Egmond aan den Hoef',\n",
       "  'Noord-Holland, Nederland',\n",
       "  '2 personen',\n",
       "  '1 Slaapkamers'],\n",
       " ['Natuurhuisje in Lekkerkerk',\n",
       "  'Zuid-Holland, Nederland',\n",
       "  '2 personen',\n",
       "  '1 Slaapkamers'],\n",
       " ['Natuurhuisje in Fluitenberg',\n",
       "  'Drenthe, Nederland',\n",
       "  '2 personen',\n",
       "  '1 Slaapkamers'],\n",
       " ['Natuurhuisje in Sevenum',\n",
       "  'Limburg, Nederland',\n",
       "  '2 personen',\n",
       "  '1 Slaapkamers'],\n",
       " ['Natuurhuisje in Milheeze',\n",
       "  'Noord-Brabant, Nederland',\n",
       "  '2 personen',\n",
       "  '1 Slaapkamers'],\n",
       " ['Natuurhuisje in de Lutte',\n",
       "  'Overijssel, Nederland',\n",
       "  '4 personen',\n",
       "  '1 Slaapkamers'],\n",
       " ['Natuurhuisje in Nijbroek',\n",
       "  'Gelderland, Nederland',\n",
       "  '4 personen',\n",
       "  '2 Slaapkamers'],\n",
       " ['Natuurhuisje in Bronkhorst',\n",
       "  'Gelderland, Nederland',\n",
       "  '2 personen',\n",
       "  '1 Slaapkamers'],\n",
       " ['Natuurhuisje in Swolgen',\n",
       "  'Limburg, Nederland',\n",
       "  '6 personen',\n",
       "  '3 Slaapkamers'],\n",
       " ['Natuurhuisje in Helvoirt',\n",
       "  'Noord-Brabant, Nederland',\n",
       "  '2 personen',\n",
       "  '1 Slaapkamers'],\n",
       " ['Natuurhuisje in Echten',\n",
       "  'Drenthe, Nederland',\n",
       "  '2 personen',\n",
       "  '1 Slaapkamers'],\n",
       " ['Natuurhuisje in Fluitenberg',\n",
       "  'Drenthe, Nederland',\n",
       "  '2 personen',\n",
       "  '1 Slaapkamers'],\n",
       " ['Natuurhuisje in Oosterwolde',\n",
       "  'Friesland, Nederland',\n",
       "  '2 personen',\n",
       "  '1 Slaapkamers'],\n",
       " ['Natuurhuisje in Overschild',\n",
       "  'Groningen, Nederland',\n",
       "  '2 personen',\n",
       "  '1 Slaapkamers']]"
      ]
     },
     "execution_count": 8,
     "metadata": {},
     "output_type": "execute_result"
    }
   ],
   "source": [
    "for i, lijst in enumerate(totale_inhoud):\n",
    "    \n",
    "    if(len(lijst) != 4): #Kleiner dan 4: bepaalde informatie ontbreekt. Groter dan 4: onnodige informatie\n",
    "        del(totale_inhoud[i])\n",
    "        #TODO: even een voorlopige oplossing. Later nog even kijken of we kunnen detecteren op welke index precies 'onbekend'\n",
    "        #moet komen te staan\n",
    "\n",
    "totale_inhoud"
   ]
  },
  {
   "cell_type": "code",
   "execution_count": 9,
   "metadata": {},
   "outputs": [
    {
     "data": {
      "text/html": [
       "<div>\n",
       "<style scoped>\n",
       "    .dataframe tbody tr th:only-of-type {\n",
       "        vertical-align: middle;\n",
       "    }\n",
       "\n",
       "    .dataframe tbody tr th {\n",
       "        vertical-align: top;\n",
       "    }\n",
       "\n",
       "    .dataframe thead th {\n",
       "        text-align: right;\n",
       "    }\n",
       "</style>\n",
       "<table border=\"1\" class=\"dataframe\">\n",
       "  <thead>\n",
       "    <tr style=\"text-align: right;\">\n",
       "      <th></th>\n",
       "      <th>Woonplaats</th>\n",
       "      <th>Provincie</th>\n",
       "      <th>Aantal personen</th>\n",
       "      <th>Aantal slaapkamers</th>\n",
       "    </tr>\n",
       "  </thead>\n",
       "  <tbody>\n",
       "    <tr>\n",
       "      <th>0</th>\n",
       "      <td>Natuurhuisje in Mussel</td>\n",
       "      <td>Groningen, Nederland</td>\n",
       "      <td>2 personen</td>\n",
       "      <td>1 Slaapkamers</td>\n",
       "    </tr>\n",
       "    <tr>\n",
       "      <th>1</th>\n",
       "      <td>Natuurhuisje in Terschuur</td>\n",
       "      <td>Gelderland, Nederland</td>\n",
       "      <td>2 personen</td>\n",
       "      <td>1 Slaapkamers</td>\n",
       "    </tr>\n",
       "    <tr>\n",
       "      <th>2</th>\n",
       "      <td>Natuurhuisje in Epen</td>\n",
       "      <td>Limburg, Nederland</td>\n",
       "      <td>4 personen</td>\n",
       "      <td>2 Slaapkamers</td>\n",
       "    </tr>\n",
       "    <tr>\n",
       "      <th>3</th>\n",
       "      <td>Natuurhuisje in Overdinkel</td>\n",
       "      <td>Overijssel, Nederland</td>\n",
       "      <td>2 personen</td>\n",
       "      <td>1 Slaapkamers</td>\n",
       "    </tr>\n",
       "    <tr>\n",
       "      <th>4</th>\n",
       "      <td>Natuurhuisje in Heeten</td>\n",
       "      <td>Overijssel, Nederland</td>\n",
       "      <td>9 personen</td>\n",
       "      <td>4 Slaapkamers</td>\n",
       "    </tr>\n",
       "    <tr>\n",
       "      <th>5</th>\n",
       "      <td>Natuurhuisje in Egmond aan den Hoef</td>\n",
       "      <td>Noord-Holland, Nederland</td>\n",
       "      <td>2 personen</td>\n",
       "      <td>1 Slaapkamers</td>\n",
       "    </tr>\n",
       "    <tr>\n",
       "      <th>6</th>\n",
       "      <td>Natuurhuisje in Lekkerkerk</td>\n",
       "      <td>Zuid-Holland, Nederland</td>\n",
       "      <td>2 personen</td>\n",
       "      <td>1 Slaapkamers</td>\n",
       "    </tr>\n",
       "    <tr>\n",
       "      <th>7</th>\n",
       "      <td>Natuurhuisje in Fluitenberg</td>\n",
       "      <td>Drenthe, Nederland</td>\n",
       "      <td>2 personen</td>\n",
       "      <td>1 Slaapkamers</td>\n",
       "    </tr>\n",
       "    <tr>\n",
       "      <th>8</th>\n",
       "      <td>Natuurhuisje in Sevenum</td>\n",
       "      <td>Limburg, Nederland</td>\n",
       "      <td>2 personen</td>\n",
       "      <td>1 Slaapkamers</td>\n",
       "    </tr>\n",
       "    <tr>\n",
       "      <th>9</th>\n",
       "      <td>Natuurhuisje in Milheeze</td>\n",
       "      <td>Noord-Brabant, Nederland</td>\n",
       "      <td>2 personen</td>\n",
       "      <td>1 Slaapkamers</td>\n",
       "    </tr>\n",
       "    <tr>\n",
       "      <th>10</th>\n",
       "      <td>Natuurhuisje in de Lutte</td>\n",
       "      <td>Overijssel, Nederland</td>\n",
       "      <td>4 personen</td>\n",
       "      <td>1 Slaapkamers</td>\n",
       "    </tr>\n",
       "    <tr>\n",
       "      <th>11</th>\n",
       "      <td>Natuurhuisje in Nijbroek</td>\n",
       "      <td>Gelderland, Nederland</td>\n",
       "      <td>4 personen</td>\n",
       "      <td>2 Slaapkamers</td>\n",
       "    </tr>\n",
       "    <tr>\n",
       "      <th>12</th>\n",
       "      <td>Natuurhuisje in Bronkhorst</td>\n",
       "      <td>Gelderland, Nederland</td>\n",
       "      <td>2 personen</td>\n",
       "      <td>1 Slaapkamers</td>\n",
       "    </tr>\n",
       "    <tr>\n",
       "      <th>13</th>\n",
       "      <td>Natuurhuisje in Swolgen</td>\n",
       "      <td>Limburg, Nederland</td>\n",
       "      <td>6 personen</td>\n",
       "      <td>3 Slaapkamers</td>\n",
       "    </tr>\n",
       "    <tr>\n",
       "      <th>14</th>\n",
       "      <td>Natuurhuisje in Helvoirt</td>\n",
       "      <td>Noord-Brabant, Nederland</td>\n",
       "      <td>2 personen</td>\n",
       "      <td>1 Slaapkamers</td>\n",
       "    </tr>\n",
       "    <tr>\n",
       "      <th>15</th>\n",
       "      <td>Natuurhuisje in Echten</td>\n",
       "      <td>Drenthe, Nederland</td>\n",
       "      <td>2 personen</td>\n",
       "      <td>1 Slaapkamers</td>\n",
       "    </tr>\n",
       "    <tr>\n",
       "      <th>16</th>\n",
       "      <td>Natuurhuisje in Fluitenberg</td>\n",
       "      <td>Drenthe, Nederland</td>\n",
       "      <td>2 personen</td>\n",
       "      <td>1 Slaapkamers</td>\n",
       "    </tr>\n",
       "    <tr>\n",
       "      <th>17</th>\n",
       "      <td>Natuurhuisje in Oosterwolde</td>\n",
       "      <td>Friesland, Nederland</td>\n",
       "      <td>2 personen</td>\n",
       "      <td>1 Slaapkamers</td>\n",
       "    </tr>\n",
       "    <tr>\n",
       "      <th>18</th>\n",
       "      <td>Natuurhuisje in Overschild</td>\n",
       "      <td>Groningen, Nederland</td>\n",
       "      <td>2 personen</td>\n",
       "      <td>1 Slaapkamers</td>\n",
       "    </tr>\n",
       "  </tbody>\n",
       "</table>\n",
       "</div>"
      ],
      "text/plain": [
       "                             Woonplaats                 Provincie  \\\n",
       "0                Natuurhuisje in Mussel      Groningen, Nederland   \n",
       "1             Natuurhuisje in Terschuur     Gelderland, Nederland   \n",
       "2                  Natuurhuisje in Epen        Limburg, Nederland   \n",
       "3            Natuurhuisje in Overdinkel     Overijssel, Nederland   \n",
       "4                Natuurhuisje in Heeten     Overijssel, Nederland   \n",
       "5   Natuurhuisje in Egmond aan den Hoef  Noord-Holland, Nederland   \n",
       "6            Natuurhuisje in Lekkerkerk   Zuid-Holland, Nederland   \n",
       "7           Natuurhuisje in Fluitenberg        Drenthe, Nederland   \n",
       "8               Natuurhuisje in Sevenum        Limburg, Nederland   \n",
       "9              Natuurhuisje in Milheeze  Noord-Brabant, Nederland   \n",
       "10             Natuurhuisje in de Lutte     Overijssel, Nederland   \n",
       "11             Natuurhuisje in Nijbroek     Gelderland, Nederland   \n",
       "12           Natuurhuisje in Bronkhorst     Gelderland, Nederland   \n",
       "13              Natuurhuisje in Swolgen        Limburg, Nederland   \n",
       "14             Natuurhuisje in Helvoirt  Noord-Brabant, Nederland   \n",
       "15               Natuurhuisje in Echten        Drenthe, Nederland   \n",
       "16          Natuurhuisje in Fluitenberg        Drenthe, Nederland   \n",
       "17          Natuurhuisje in Oosterwolde      Friesland, Nederland   \n",
       "18           Natuurhuisje in Overschild      Groningen, Nederland   \n",
       "\n",
       "   Aantal personen Aantal slaapkamers  \n",
       "0       2 personen      1 Slaapkamers  \n",
       "1       2 personen      1 Slaapkamers  \n",
       "2       4 personen      2 Slaapkamers  \n",
       "3       2 personen      1 Slaapkamers  \n",
       "4       9 personen      4 Slaapkamers  \n",
       "5       2 personen      1 Slaapkamers  \n",
       "6       2 personen      1 Slaapkamers  \n",
       "7       2 personen      1 Slaapkamers  \n",
       "8       2 personen      1 Slaapkamers  \n",
       "9       2 personen      1 Slaapkamers  \n",
       "10      4 personen      1 Slaapkamers  \n",
       "11      4 personen      2 Slaapkamers  \n",
       "12      2 personen      1 Slaapkamers  \n",
       "13      6 personen      3 Slaapkamers  \n",
       "14      2 personen      1 Slaapkamers  \n",
       "15      2 personen      1 Slaapkamers  \n",
       "16      2 personen      1 Slaapkamers  \n",
       "17      2 personen      1 Slaapkamers  \n",
       "18      2 personen      1 Slaapkamers  "
      ]
     },
     "execution_count": 9,
     "metadata": {},
     "output_type": "execute_result"
    }
   ],
   "source": [
    "df = pd.DataFrame(totale_inhoud, columns = ['Woonplaats', 'Provincie', 'Aantal personen', 'Aantal slaapkamers'])\n",
    "df"
   ]
  },
  {
   "cell_type": "code",
   "execution_count": null,
   "metadata": {},
   "outputs": [],
   "source": [
    "df['Woonplaats'] = df['Woonplaats'].str.replace('Natuurhuisje in', '', regex=True)\n",
    "df['Provincie'] = df['Provincie'].str.replace(', Nederland', '', regex=True)\n",
    "df"
   ]
  },
  {
   "cell_type": "code",
   "execution_count": null,
   "metadata": {},
   "outputs": [],
   "source": [
    "df['Aantal personen'] = df['Aantal personen'].str[0]\n",
    "df['Aantal slaapkamers'] = df['Aantal slaapkamers'].str[0]\n",
    "df"
   ]
  },
  {
   "cell_type": "code",
   "execution_count": null,
   "metadata": {},
   "outputs": [],
   "source": [
    "df['Woonplaats'] = df['Woonplaats'].str.replace('Natuurhuisje in', '', regex=True)\n",
    "df"
   ]
  },
  {
   "cell_type": "code",
   "execution_count": null,
   "metadata": {},
   "outputs": [],
   "source": [
    "#TODO: hoezo is dit nodig? Kennelijk werkt de del hierboven niet!\n",
    "df = df[pd.to_numeric(df['Aantal personen'], errors='coerce').notnull()]\n",
    "df = df[pd.to_numeric(df['Aantal slaapkamers'], errors='coerce').notnull()]"
   ]
  },
  {
   "cell_type": "code",
   "execution_count": null,
   "metadata": {},
   "outputs": [],
   "source": [
    "df['Aantal personen'] = df['Aantal personen'].astype(int)\n",
    "df['Aantal slaapkamers'] = df['Aantal slaapkamers'].astype(int)\n",
    "df.dtypes"
   ]
  },
  {
   "cell_type": "code",
   "execution_count": null,
   "metadata": {},
   "outputs": [],
   "source": [
    "grouped = df.groupby(['Woonplaats', 'Provincie'])[['Aantal personen', 'Aantal slaapkamers']].agg([np.min, np.max]).reset_index().reset_index()\n",
    "grouped = grouped.drop(columns = 'index', axis = 1)\n",
    "grouped"
   ]
  },
  {
   "cell_type": "code",
   "execution_count": null,
   "metadata": {},
   "outputs": [],
   "source": [
    "grouped.columns = [\n",
    "    'Woonplaats',\n",
    "    'Provincie',\n",
    "    'Minimum aantal personen',\n",
    "    'Maximum aantal personen',\n",
    "    'Minimum aantal slaapkamers',\n",
    "    'Maximum aantal slaapkamers'\n",
    "]\n",
    "\n",
    "grouped"
   ]
  },
  {
   "cell_type": "markdown",
   "metadata": {},
   "source": [
    "## Supermarkten TODO"
   ]
  },
  {
   "cell_type": "code",
   "execution_count": null,
   "metadata": {},
   "outputs": [],
   "source": []
  },
  {
   "cell_type": "markdown",
   "metadata": {},
   "source": [
    "## Pretparken"
   ]
  },
  {
   "cell_type": "code",
   "execution_count": null,
   "metadata": {},
   "outputs": [],
   "source": [
    "pretparken = pd.read_html('https://nl.wikipedia.org/wiki/Lijst_van_attractieparken_in_Nederland')[0]\n",
    "pretparken"
   ]
  },
  {
   "cell_type": "code",
   "execution_count": null,
   "metadata": {},
   "outputs": [],
   "source": [
    "def bereken_reistijd_auto(huisjeplaats, pretparkplaats):\n",
    "    url = format(f\"http://www.besteroutes.com/afstand/?from={huisjeplaats}&to={pretparkplaats}\")\n",
    "    \n",
    "    header = {\n",
    "      \"User-Agent\": \"Mozilla/5.0 (X11; Linux x86_64) AppleWebKit/537.36 (KHTML, like Gecko) Chrome/50.0.2661.75 Safari/537.36\",\n",
    "      \"X-Requested-With\": \"XMLHttpRequest\"\n",
    "    }\n",
    "\n",
    "    r = requests.get(url, headers=header)\n",
    "    df = pd.read_html(r.text)[0]\n",
    "    return df.iloc[2][1]"
   ]
  },
  {
   "cell_type": "code",
   "execution_count": null,
   "metadata": {},
   "outputs": [],
   "source": [
    "huisje_pretpark_inhoud = []\n",
    "\n",
    "for huisjeplaats in grouped['Woonplaats']:\n",
    "    \n",
    "    for(pretparkplaats) in pretparken['Plaats']:\n",
    "        \n",
    "        if(huisjeplaats != pretparkplaats):\n",
    "            huisje_pretpark_inhoud.append([huisjeplaats, pretparkplaats, bereken_reistijd_auto(huisjeplaats, pretparkplaats)])\n",
    "            #TODO naam van het pretpark zelf nog toevoegen (ook aan kolommen in pd.DataFrame())\n",
    "        \n",
    "huisje_pretpark_inhoud"
   ]
  },
  {
   "cell_type": "code",
   "execution_count": null,
   "metadata": {},
   "outputs": [],
   "source": [
    "huisje_pretpark_inhoud"
   ]
  },
  {
   "cell_type": "code",
   "execution_count": null,
   "metadata": {},
   "outputs": [],
   "source": [
    "df = pd.DataFrame(huisje_pretpark_inhoud, columns = ['Huisjeplaats', 'Pretparkplaats', 'Afstand'])\n",
    "df"
   ]
  }
 ],
 "metadata": {
  "kernelspec": {
   "display_name": "Python 3 (ipykernel)",
   "language": "python",
   "name": "python3"
  },
  "language_info": {
   "codemirror_mode": {
    "name": "ipython",
    "version": 3
   },
   "file_extension": ".py",
   "mimetype": "text/x-python",
   "name": "python",
   "nbconvert_exporter": "python",
   "pygments_lexer": "ipython3",
   "version": "3.10.9"
  }
 },
 "nbformat": 4,
 "nbformat_minor": 4
}
