{
 "cells": [
  {
   "attachments": {},
   "cell_type": "markdown",
   "metadata": {},
   "source": [
    "# Masterclass Programming for Data Science\n",
    "\n",
    "## Masterclass 5\n",
    "\n",
    "### Tuesday, 30 May 2023"
   ]
  },
  {
   "attachments": {},
   "cell_type": "markdown",
   "metadata": {},
   "source": [
    "## Agenda for today\n",
    "\n",
    "**5.0 Recap previous class and homework** \n",
    "\n",
    "**5.1 API**\n",
    "\n",
    "**5.2 Data-wrangling III (data-transformation)**\n",
    "* Combining datasets\n",
    "* Aggregation / Grouping\n",
    "* Pivot / Melt\n",
    "\n",
    "**5.3 Visualizations**\n",
    "* Matplotlib\n",
    "* Seaborn\n",
    "* Bokeh\n",
    "\n",
    "**5.4 Error Handling**"
   ]
  },
  {
   "attachments": {},
   "cell_type": "markdown",
   "metadata": {},
   "source": [
    "# 5.0 Recap\n",
    "\n",
    "## Topics previous class\n",
    "\n",
    "**4.1 Object Oriented Programming (OOP) & Classes**\n",
    "\n",
    "**4.2 NumPy & Vectorization**\n",
    "\n"
   ]
  },
  {
   "cell_type": "code",
   "execution_count": null,
   "metadata": {},
   "outputs": [],
   "source": [
    "#Let's start with our basic imports\n",
    "import pandas as pd\n",
    "import numpy as np\n",
    "import os\n",
    "import random\n",
    "#Ususally imports of seperate functions follow imports of full packages\n",
    "#Group imports to blocks of use cases for even more clarity\n",
    "from IPython.display import Image "
   ]
  },
  {
   "attachments": {},
   "cell_type": "markdown",
   "metadata": {},
   "source": [
    "## 5.1 Requesting data from APIs"
   ]
  },
  {
   "attachments": {},
   "cell_type": "markdown",
   "metadata": {},
   "source": [
    "Trough restling with data, you will often come accross API's. These Application Programming Interfaces are often just \"access points\" to get the data you want. The trick is to understand that just like with Human readable interfaces, you have to ask for the right dataset so that the API can fetch that for you. Using python, we can use the <code>requests</code> package to request the correct data from an API. "
   ]
  },
  {
   "cell_type": "code",
   "execution_count": null,
   "metadata": {},
   "outputs": [],
   "source": [
    "import requests"
   ]
  },
  {
   "attachments": {},
   "cell_type": "markdown",
   "metadata": {},
   "source": [
    "Three main types of requests exist:\n",
    "1. Get, when you want the API to get you something with the parameters you specify\n",
    "2. Post, when you want the API to create something with the parameters you specify\n",
    "3. Put, when you want the API to replace something with the parameters you specify\n",
    "4. Delete, when you want the API to delete something with the parameters you specify\n",
    "    \n",
    "Each of these can be called using seperate methods form the <code>requests</code> package"
   ]
  },
  {
   "cell_type": "code",
   "execution_count": null,
   "metadata": {},
   "outputs": [],
   "source": [
    "#requests.get?\n",
    "#requests.post?\n",
    "#requests.post?"
   ]
  },
  {
   "attachments": {},
   "cell_type": "markdown",
   "metadata": {},
   "source": [
    "Looks straigtforward! We should pass in an URL to talk to, and optionaly ad some parameters"
   ]
  },
  {
   "cell_type": "code",
   "execution_count": null,
   "metadata": {},
   "outputs": [],
   "source": [
    "#open-notify.org provides a free api to get NASA data\n",
    "response = requests.get('http://api.open-notify.org/get-me-some-data') \n",
    "response #This contains the servers response"
   ]
  },
  {
   "cell_type": "code",
   "execution_count": null,
   "metadata": {},
   "outputs": [],
   "source": [
    "response.status_code"
   ]
  },
  {
   "attachments": {},
   "cell_type": "markdown",
   "metadata": {},
   "source": [
    "The main response you get from an API is usually the status code. Just like with websites a 404 response code is not good news! It means that the requested resource does not exist. It is very important to send you request to the right \"endpoint\", something usually specified in the API documentation. See for example: http://open-notify.org/Open-Notify-API/People-In-Space/"
   ]
  },
  {
   "cell_type": "code",
   "execution_count": null,
   "metadata": {},
   "outputs": [],
   "source": [
    "response = requests.get('http://api.open-notify.org/astros.json')\n",
    "response.status_code #This looks better!"
   ]
  },
  {
   "cell_type": "code",
   "execution_count": null,
   "metadata": {},
   "outputs": [],
   "source": [
    "help(response) #What else can we call?"
   ]
  },
  {
   "cell_type": "code",
   "execution_count": null,
   "metadata": {},
   "outputs": [],
   "source": [
    "#response.text #This looks interesting\n",
    "response.json() #This looks even better!"
   ]
  },
  {
   "attachments": {},
   "cell_type": "markdown",
   "metadata": {},
   "source": []
  },
  {
   "cell_type": "code",
   "execution_count": null,
   "metadata": {},
   "outputs": [],
   "source": [
    "type(response.json()) #Python interprets json files as dictionaries (use the json library for more specific operations)"
   ]
  },
  {
   "cell_type": "code",
   "execution_count": null,
   "metadata": {},
   "outputs": [],
   "source": [
    "#So we can get our results\n",
    "people= response.json()['people']\n",
    "people"
   ]
  },
  {
   "cell_type": "code",
   "execution_count": null,
   "metadata": {},
   "outputs": [],
   "source": [
    "#Putting it all together, this code will always give us a dataframe of all people currently in space!\n",
    "pd.DataFrame(requests.get('http://api.open-notify.org/astros.json').json()['people'])"
   ]
  },
  {
   "cell_type": "code",
   "execution_count": null,
   "metadata": {},
   "outputs": [],
   "source": [
    "#Example with parameters\n",
    "response = requests.get(\"https://api.open-meteo.com/v1/forecast\")\n",
    "response\n",
    "response.json() \n",
    "#We need to specify parameters! "
   ]
  },
  {
   "attachments": {},
   "cell_type": "markdown",
   "metadata": {},
   "source": [
    "https://open-meteo.com/en/docs"
   ]
  },
  {
   "cell_type": "code",
   "execution_count": null,
   "metadata": {},
   "outputs": [],
   "source": [
    "# Set up the parameters we want to pass to the API.\n",
    "# This is the latitude and longitude of Hogeschool Utrecht\n",
    "parameters = {\"latitude\": 52.08, \"longitude\": -5.16, \"current_weather\": 'true', 'hourly': \"temperature_2m\"}\n",
    "\n",
    "# hourly: A list of weather variables which should be returned. Values can be comma separated, or multiple &hourly= parameter in the URL can be used.\n",
    "# temperature_2m: Air temperature at 2 meters above ground\n",
    "\n",
    "# Make a get request with the parameters.\n",
    "response = requests.get(\"https://api.open-meteo.com/v1/forecast\", params=parameters)\n",
    "# Print the content of the response (the data the server returned)\n",
    "pd.DataFrame(response.json()['hourly']) #The temperature at the Hogeschool Utrecht for the coming hours! "
   ]
  },
  {
   "attachments": {},
   "cell_type": "markdown",
   "metadata": {},
   "source": [
    "<div class=\"alert alert-success\">\n",
    "\n",
    "# Exercise 1\n",
    "\n",
    "- Use the open-notify API to find the current location of the ISS space station. \n",
    "You can find the information over here: http://open-notify.org/Open-Notify-API/ISS-Location-Now/\n",
    "\n",
    "Too easy?\n",
    "- Use a cool API in your own project\n"
   ]
  },
  {
   "cell_type": "code",
   "execution_count": null,
   "metadata": {},
   "outputs": [],
   "source": [
    "# find the current location off the ISS space station"
   ]
  },
  {
   "attachments": {},
   "cell_type": "markdown",
   "metadata": {},
   "source": [
    "# 5.2 Data-wrangling III (data-transformation)"
   ]
  },
  {
   "attachments": {},
   "cell_type": "markdown",
   "metadata": {},
   "source": [
    "## 5.2.1 Combining datasets\n",
    "\n",
    "In data-analysis often the really useful insights come from combining datasets. Pandas includes functions and methods to perform this sort of data wrangling fast and straightforward by the next options:\n",
    "* Concat\n",
    "* Append # Deprecated since version 1.4.0: Use concat() instead. \n",
    "* Merge\n",
    "* Join\n",
    "\n",
    "_Based on next paragraphs of chapter 3 in Python Datascience Handbook:_\n",
    "* [Combining Datasets: Concat and Append](https://jakevdp.github.io/PythonDataScienceHandbook/03.06-concat-and-append.html)\n",
    "* [Combining Datasets: Merge and Join](https://jakevdp.github.io/PythonDataScienceHandbook/03.07-merge-and-join.html)"
   ]
  },
  {
   "attachments": {},
   "cell_type": "markdown",
   "metadata": {},
   "source": [
    "### Concat & Append\n",
    "\n",
    "Pandas has a function `pd.concat()` for simple concatenation of data with multiple options for more sophisticated data wrangling."
   ]
  },
  {
   "cell_type": "code",
   "execution_count": null,
   "metadata": {},
   "outputs": [],
   "source": [
    "# List information about function\n",
    "pd.concat?"
   ]
  },
  {
   "cell_type": "code",
   "execution_count": null,
   "metadata": {
    "scrolled": true
   },
   "outputs": [],
   "source": [
    "# Create some simple dataframes to experiment with pandas (also usefull for real-life projects!)\n",
    "df_students1 = pd.DataFrame({'Name':['Piet','Henk','Sanne'],'Grade':random.sample(range(1,10),3)})\n",
    "df_students2 = pd.DataFrame({'Name':['Julia','Quinten','Victoria'],'Grade':random.sample(range(1,10),3)})\n",
    "\n",
    "df_students1"
   ]
  },
  {
   "cell_type": "code",
   "execution_count": null,
   "metadata": {},
   "outputs": [],
   "source": [
    "# Create special class to display multiple dataframes \n",
    "# !! No need to understand the working, content isn't part of the masterclass !!\n",
    "class display(object):\n",
    "    \"\"\"Display HTML representation of multiple objects\"\"\"\n",
    "    template = \"\"\"<div style=\"float: left; padding: 10px;\">\n",
    "    <p style='font-family:\"Courier New\", Courier, monospace'>{0}</p>{1}\n",
    "    </div>\"\"\"\n",
    "    def __init__(self, *args):\n",
    "        self.args = args\n",
    "        \n",
    "    def _repr_html_(self):\n",
    "        return '\\n'.join(self.template.format(a, eval(a)._repr_html_())\n",
    "                         for a in self.args)\n",
    "    \n",
    "    def __repr__(self):\n",
    "        return '\\n\\n'.join(a + '\\n' + repr(eval(a))\n",
    "                           for a in self.args)  "
   ]
  },
  {
   "cell_type": "code",
   "execution_count": null,
   "metadata": {},
   "outputs": [],
   "source": [
    "# Show both dataframes\n",
    "display('df_students1', 'df_students2')"
   ]
  },
  {
   "cell_type": "code",
   "execution_count": null,
   "metadata": {},
   "outputs": [],
   "source": [
    "# Now use pd.concat() to combine them\n",
    "df_students_total = pd.concat([df_students1, df_students2])\n",
    "\n",
    "display('df_students1', 'df_students2', 'df_students_total')"
   ]
  },
  {
   "attachments": {},
   "cell_type": "markdown",
   "metadata": {},
   "source": [
    "As we can see, the indices in the resulting dataframe are repeated. Often this is undesirable (for many operations a unique index is required!). `pd.concat()` gives a few ways to handle it. Most easy is to specify the argument `ignore_index=True`."
   ]
  },
  {
   "cell_type": "code",
   "execution_count": null,
   "metadata": {},
   "outputs": [],
   "source": [
    "# Use ignore_index=True to prevent index repeating\n",
    "df_students_total = pd.concat([df_students1, df_students2], ignore_index=True)\n",
    "\n",
    "display('df_students1', 'df_students2', 'df_students_total')"
   ]
  },
  {
   "attachments": {},
   "cell_type": "markdown",
   "metadata": {},
   "source": [
    "By default concatenation takes place row-wise (`axis=0`), but the functions gives the possibility to specify the axis along which the concatenation should take place."
   ]
  },
  {
   "cell_type": "code",
   "execution_count": null,
   "metadata": {},
   "outputs": [],
   "source": [
    "df_students1_info = pd.DataFrame({'Gender':['male','male','female'],'Age':random.sample(range(20,40),3)})\n",
    "display('df_students1', 'df_students1_info')"
   ]
  },
  {
   "cell_type": "code",
   "execution_count": null,
   "metadata": {
    "scrolled": false
   },
   "outputs": [],
   "source": [
    "# Specify axis to switch the dimension of the operation\n",
    "df_students1_combi = pd.concat([df_students1, df_students1_info], axis=1)\n",
    "display('df_students1', 'df_students1_info','df_students1_combi')"
   ]
  },
  {
   "attachments": {},
   "cell_type": "markdown",
   "metadata": {},
   "source": [
    "Keep in mind!\n",
    "* Unlike the list-method append(), in `Pandas` the method doesn't modify the original dataframe but creates a new object\n",
    "* Thereby it creates a new index and data buffer and thereby isn't very efficient.\n",
    "\n",
    "So in case of multiple append-operations, it's generally better to use `pd.concat()`"
   ]
  },
  {
   "attachments": {},
   "cell_type": "markdown",
   "metadata": {},
   "source": [
    "### Merge & Join\n",
    "\n",
    "One essential feature offered by Pandas is its high-performance, in-memory join and merge operations. If you have ever worked with databases, you should be familiar with this type of data interaction. The main interface for this is the `pd.merge()` function."
   ]
  },
  {
   "attachments": {},
   "cell_type": "markdown",
   "metadata": {},
   "source": [
    "**Categories of joins**\n",
    "\n",
    "There are three categories of joins (cardinality):\n",
    "* One-to-one\n",
    "* Many-to-one\n",
    "* Many-to-many"
   ]
  },
  {
   "cell_type": "code",
   "execution_count": null,
   "metadata": {},
   "outputs": [],
   "source": [
    "# One-to-one join: very similar to column-wise concatenation\n",
    "df_students1 = pd.DataFrame({'Name':['Piet','Henk','Sanne'],'Grade':random.sample(range(1,10),3)})\n",
    "df_students1_info = pd.DataFrame({'Name':['Sanne','Henk','Piet'],'Gender':['female','male','male'],'Age':random.sample(range(20,40),3)})\n",
    "\n",
    "display('df_students1', 'df_students1_info')\n"
   ]
  },
  {
   "cell_type": "code",
   "execution_count": null,
   "metadata": {},
   "outputs": [],
   "source": [
    "df_students1_combi = pd.merge(df_students1, df_students1_info)\n",
    "df_students1_combi"
   ]
  },
  {
   "attachments": {},
   "cell_type": "markdown",
   "metadata": {},
   "source": [
    "The `pd.merge()` function recognises that both dataframes have a 'Name'-column and automatically join the dataframes based on that column, the so called **key**.\n",
    "\n",
    "Order isn't important and by default the index is ignored."
   ]
  },
  {
   "cell_type": "code",
   "execution_count": null,
   "metadata": {},
   "outputs": [],
   "source": [
    "# Many-to-one join: when one of the key-columns contains duplicate entries\n",
    "df_students1 = pd.DataFrame({'Name':['Piet','Henk','Sanne'], 'Subject':['Biology','Math','Biology'],'Grade':random.sample(range(1,10),3)})\n",
    "df_subject_info = pd.DataFrame({'Subject':['Biology','Math'],'Tutor':['Alexander','Christine']})\n",
    "\n",
    "display('df_students1', 'df_subject_info')"
   ]
  },
  {
   "cell_type": "code",
   "execution_count": null,
   "metadata": {},
   "outputs": [],
   "source": [
    "df_students_subject = pd.merge(df_students1, df_subject_info)\n",
    "df_students_subject"
   ]
  },
  {
   "cell_type": "code",
   "execution_count": null,
   "metadata": {},
   "outputs": [],
   "source": [
    "# Many-to-many join: when both of the key-columns contains duplicate entries\n",
    "df_students1 = pd.DataFrame({'Name':['Piet','Henk','Sanne'], 'Subject':['Biology','Math','Math']})\n",
    "df_subject_info = pd.DataFrame({'Subject':['Biology','Math','Math'],'Topic':['Photo-synthesis','Linear algebra','Statistics']})\n",
    "\n",
    "display('df_students1', 'df_subject_info')"
   ]
  },
  {
   "cell_type": "code",
   "execution_count": null,
   "metadata": {},
   "outputs": [],
   "source": [
    "df_students_subject = pd.merge(df_students1, df_subject_info)\n",
    "df_students_subject"
   ]
  },
  {
   "attachments": {},
   "cell_type": "markdown",
   "metadata": {},
   "source": [
    "**Specification of the key-columns**\n",
    "\n",
    "In the examples above both dataframes always contain at least one matchin column-name: Name, Subject.\n",
    "However, often this is not the case when using different datasets. So, `pd.merge()` provides different possibilities to specify the columns (keys) for merging."
   ]
  },
  {
   "cell_type": "code",
   "execution_count": null,
   "metadata": {},
   "outputs": [],
   "source": [
    "# Two dataframes without matching column-names\n",
    "df_students1 = pd.DataFrame({'Name':['Piet','Henk','Sanne'],'Grade':random.sample(range(1,10),3)})\n",
    "df_students1_info = pd.DataFrame({'Student':['Sanne','Henk','Piet'],'Gender':['female','male','male'],'Age':random.sample(range(20,40),3)})\n",
    "\n",
    "display('df_students1', 'df_students1_info')"
   ]
  },
  {
   "cell_type": "code",
   "execution_count": null,
   "metadata": {},
   "outputs": [],
   "source": [
    "# Try to merge them\n",
    "df_students1_combi = pd.merge(df_students1, df_students1_info)\n",
    "df_students1_combi"
   ]
  },
  {
   "cell_type": "code",
   "execution_count": null,
   "metadata": {},
   "outputs": [],
   "source": [
    "# We assume that Name and Student are about the same persons\n",
    "# So, specify these columns explicitly as keys by specifying the on-argument\n",
    "df_students1_combi = pd.merge(df_students1, df_students1_info, left_on='Name', right_on='Student')\n",
    "df_students1_combi"
   ]
  },
  {
   "cell_type": "code",
   "execution_count": null,
   "metadata": {},
   "outputs": [],
   "source": [
    "# Because both columns Name and Student contain the same data, you can drop one of them\n",
    "df_students1_combi = pd.merge(df_students1, df_students1_info, left_on='Name', right_on='Student').drop('Name', axis=1)\n",
    "df_students1_combi"
   ]
  },
  {
   "attachments": {},
   "cell_type": "markdown",
   "metadata": {},
   "source": [
    "We also have the possibility to join on the index. Usefull when the structure of the data contains index-columns with keys."
   ]
  },
  {
   "cell_type": "code",
   "execution_count": null,
   "metadata": {},
   "outputs": [],
   "source": [
    "# For this example we first create a dataframe with index-columns containing keys\n",
    "# This example directly shows how you can set the index\n",
    "\n",
    "## Recall the previous dataframes\n",
    "df_students1 = pd.DataFrame({'Name':['Piet','Henk','Sanne'],'Grade':random.sample(range(1,10),3)})\n",
    "df_students1_info = pd.DataFrame({'Student':['Sanne','Henk','Piet'],'Gender':['female','male','male'],'Age':random.sample(range(20,40),3)})\n",
    "\n",
    "display('df_students1', 'df_students1_info')"
   ]
  },
  {
   "cell_type": "code",
   "execution_count": null,
   "metadata": {},
   "outputs": [],
   "source": [
    "# Set the students-name as index by set_index() method\n",
    "df_students1.set_index('Name')"
   ]
  },
  {
   "cell_type": "code",
   "execution_count": null,
   "metadata": {},
   "outputs": [],
   "source": [
    "# This doesn't modify the original dataframe, so re-assign the dataframe\n",
    "df_students1_reindex = df_students1.set_index('Name')\n",
    "df_students1_reindex"
   ]
  },
  {
   "cell_type": "code",
   "execution_count": null,
   "metadata": {},
   "outputs": [],
   "source": [
    "# You could also use the argument inplace=True in many methods\n",
    "df_students1_info.set_index('Student', inplace=True) #  it will directly modify and overwrite your original DataFrame\n",
    "df_students1_info"
   ]
  },
  {
   "cell_type": "code",
   "execution_count": null,
   "metadata": {},
   "outputs": [],
   "source": [
    "# Now the two dataframes have the name & student-column as index\n",
    "display('df_students1_reindex', 'df_students1_info')"
   ]
  },
  {
   "cell_type": "code",
   "execution_count": null,
   "metadata": {},
   "outputs": [],
   "source": [
    "# Merge them based on the index\n",
    "df_students1_combi = pd.merge(df_students1_reindex, df_students1_info, left_index=True, right_index=True)\n",
    "df_students1_combi"
   ]
  },
  {
   "cell_type": "code",
   "execution_count": null,
   "metadata": {},
   "outputs": [],
   "source": [
    "df_students1_combi['oude_index'] = df_students1_combi.index\n",
    "df_students1_combi"
   ]
  },
  {
   "attachments": {},
   "cell_type": "markdown",
   "metadata": {},
   "source": [
    "Also the combination of an index and a column is possible: `left_index=True, right_on='Student'`"
   ]
  },
  {
   "attachments": {},
   "cell_type": "markdown",
   "metadata": {},
   "source": [
    "**Set Arithmetics for Joins**\n",
    "\n",
    "In all previous examples we worked with dataframes that contain all the required data.\n",
    "But often this is not the case, then there's need to specify the type of join."
   ]
  },
  {
   "cell_type": "code",
   "execution_count": null,
   "metadata": {},
   "outputs": [],
   "source": [
    "# See this example: all information is available in both dataframes: all subjects from the left dataframe are in the right dataframe\n",
    "df_students1 = pd.DataFrame({'Name':['Piet','Henk','Sanne'], 'Subject':['Biology','Math','Biology'],'Grade':random.sample(range(1,10),3)})\n",
    "df_subject_info = pd.DataFrame({'Subject':['Biology','Math'],'Tutor':['Alexander','Christine']})\n",
    "df_students_subject = pd.merge(df_students1, df_subject_info)\n",
    "\n",
    "display('df_students1', 'df_subject_info', 'df_students_subject')"
   ]
  },
  {
   "cell_type": "code",
   "execution_count": null,
   "metadata": {},
   "outputs": [],
   "source": [
    "# But what happens when there's a subject missing in the right dataframe?\n",
    "df_students1 = pd.DataFrame({'Name':['Piet','Henk','Sanne'], 'Subject':['Biology','Math','Biology'],'Grade':random.sample(range(1,10),3)})\n",
    "df_subject_info = pd.DataFrame({'Subject':['Math'],'Tutor':['Christine']})\n",
    "df_students_subject = pd.merge(df_students1, df_subject_info)\n",
    "\n",
    "display('df_students1', 'df_subject_info', 'df_students_subject')"
   ]
  },
  {
   "attachments": {},
   "cell_type": "markdown",
   "metadata": {},
   "source": [
    "Now, only the rows with common entries in column 'subject' are returned.\n",
    "\n",
    "By default Pandas returns the intersection (**inner-join**).\n",
    "\n",
    "But, for sure, in pandas (as in SQL) there are different possibilities for joining data. You can specify this by the `how` keyword. Options are:"
   ]
  },
  {
   "attachments": {},
   "cell_type": "markdown",
   "metadata": {},
   "source": [
    "<img src=\"https://data36.com/wp-content/uploads/2018/08/4-pandas-merge-inner-outer-left-right-768x579.png\" align=\"left\"/>"
   ]
  },
  {
   "cell_type": "code",
   "execution_count": null,
   "metadata": {},
   "outputs": [],
   "source": [
    "# Repeat the example where we want to keep all rows from the left dataframe (left-join)\n",
    "df_students1 = pd.DataFrame({'Name':['Piet','Henk','Sanne'], 'Subject':['Biology','Math','Biology'],'Grade':random.sample(range(1,10),3)})\n",
    "df_subject_info = pd.DataFrame({'Subject':['Math'],'Tutor':['Christine']})\n",
    "\n",
    "# Now specify that we want a left-join to keep all rows from df_students1 (check order of dataframes in method!)\n",
    "df_students_subject = pd.merge(df_students1, df_subject_info, how='outer')\n",
    "\n",
    "display('df_students1', 'df_subject_info', 'df_students_subject')"
   ]
  },
  {
   "attachments": {},
   "cell_type": "markdown",
   "metadata": {},
   "source": [
    "**Overlapping column-names that are not used as keys**"
   ]
  },
  {
   "cell_type": "code",
   "execution_count": null,
   "metadata": {},
   "outputs": [],
   "source": [
    "# Work with a dataframe that also contains a grade for the tutor\n",
    "df_students1 = pd.DataFrame({'Name':['Piet','Henk','Sanne'], 'Subject':['Biology','Math','Biology'],'Grade':random.sample(range(1,10),3)})\n",
    "df_subject_info = pd.DataFrame({'Subject':['Biology','Math'],'Tutor':['Alexander','Christine'],'Grade':random.sample(range(1,10),2)})\n",
    "\n",
    "# Merge the dataframes, but only on the subject-column\n",
    "df_students_subject = pd.merge(df_students1, df_subject_info, on='Subject')\n",
    "\n",
    "display('df_students1', 'df_subject_info', 'df_students_subject')"
   ]
  },
  {
   "attachments": {},
   "cell_type": "markdown",
   "metadata": {},
   "source": [
    "Because we have now two conflicting column-names in the result, the merge-funtion automatically adds a suffix to the column-names of the output to make them unique."
   ]
  },
  {
   "attachments": {},
   "cell_type": "markdown",
   "metadata": {},
   "source": [
    "<div class=\"alert alert-success\">\n",
    "\n",
    "### Exercise time 2!\n",
    "    \n",
    "_[Exercise from Plus2Net.com](https://www.plus2net.com/python/pandas-dataframe-exercise.php)_\n",
    "* Get your data! Look at the page behind the url. \n",
    "    * There are 3 hyperlinks to the datasets (customer.csv, products.csv, sales.csv). \n",
    "    * Read these files into a dataframe. Try to get them, without downloading, directly from the data-set urls (Google for examples)\n",
    "* Create a new dataframe sales2 that contains all the original salesdata and append to it a new row with a unique (not in the table yet) sale_id, customer_id and set the next columns:\n",
    "    * product_id = 3\n",
    "    * store = 'DEF'\n",
    "    * qty = 3\n",
    "* Create an inner, outer, left and right join of the customers and sales. Explain the differences.\n",
    "* Create, based on the datasets, a dataframe containing all the customers from the modified sales-dataframe with the next columns (rename columns when necessary):\n",
    "    * customer_id\n",
    "    * customer_name\n",
    "    * sale_id\n",
    "    * p_id\n",
    "    * product\n",
    "    * qty\n",
    "    * store\n",
    "\n",
    "    "
   ]
  },
  {
   "cell_type": "code",
   "execution_count": null,
   "metadata": {},
   "outputs": [],
   "source": [
    "pd.read_csv('https://www.plus2net.com/python/download/customer.csv')"
   ]
  },
  {
   "attachments": {},
   "cell_type": "markdown",
   "metadata": {},
   "source": [
    "## 5.2.2 Aggregation / Grouping of data\n",
    "\n",
    "_Based on paragraph of chapter 3 in Python Datascience Handbook: [Aggregation and Grouping](https://jakevdp.github.io/PythonDataScienceHandbook/03.08-aggregation-and-grouping.html)_\n",
    "\n",
    "An essential piece of analysis of large data is efficient summarization: computing aggregations like sum(), mean(), median(), min(), and max(), in which a single number gives insight into the nature of a potentially large dataset.\n",
    "\n",
    "We already have seen the .describe() method to compute several common aggregates. "
   ]
  },
  {
   "cell_type": "code",
   "execution_count": null,
   "metadata": {
    "scrolled": true
   },
   "outputs": [],
   "source": [
    "df_airlines = pd.read_csv(\"https://raw.githubusercontent.com/fivethirtyeight/data/master/airline-safety/airline-safety.csv\")\n",
    "df_airlines.describe()"
   ]
  },
  {
   "attachments": {},
   "cell_type": "markdown",
   "metadata": {},
   "source": [
    "Aggregation are really usefull, but they are often not specific enough. Often we want to aggregate data conditionally on some label or index. This is implemented in the next level of data aggregation: the `groupby` function.\n",
    "\n",
    "'group by' is a direct SQL-command, but it covers the broader theory of Hadley Wickham: _split, apply, combine_. The figure below shows this trits for a summation:"
   ]
  },
  {
   "attachments": {},
   "cell_type": "markdown",
   "metadata": {},
   "source": [
    "<img src=\"https://jakevdp.github.io/PythonDataScienceHandbook/figures/03.08-split-apply-combine.png\" align=\"left\"/>"
   ]
  },
  {
   "attachments": {},
   "cell_type": "markdown",
   "metadata": {},
   "source": [
    "* **split** = breaking up and grouping based on a specific key value\n",
    "* **apply** = computation (aggregation, transformation, filtering) within the groups\n",
    "* **combine** = merge results\n",
    "\n",
    "Pandas `groupby` can do all these steps with one expression!"
   ]
  },
  {
   "cell_type": "code",
   "execution_count": null,
   "metadata": {},
   "outputs": [],
   "source": [
    "# Example\n",
    "df = pd.DataFrame({'Personeelsnummer': range(1,7),\n",
    "                   'Afdeling': ['Financien','P&O','ICT','ICT','P&O','Kwaliteit'], \n",
    "                   'Contractomvang': [1, 0.8, 0.3 ,0.8, 1, 0.9]},columns=['Personeelsnummer', 'Afdeling', 'Contractomvang'])\n",
    "df"
   ]
  },
  {
   "cell_type": "code",
   "execution_count": null,
   "metadata": {},
   "outputs": [],
   "source": [
    "# Group by specific key\n",
    "df.groupby('Afdeling')"
   ]
  },
  {
   "cell_type": "code",
   "execution_count": null,
   "metadata": {},
   "outputs": [],
   "source": [
    "#Get one grouping out of the groupby object\n",
    "df.groupby('Afdeling').get_group(\"P&O\")"
   ]
  },
  {
   "attachments": {},
   "cell_type": "markdown",
   "metadata": {},
   "source": [
    "Previous code doesn't perform a computation as you can see in the result.\n",
    "\n",
    "But the resulting `groupby` object is very usefull, as you can treat it as a collection of dataframes.\n",
    "\n",
    "On this result you can simply apply all common Pandas or Numpy aggregation functions as sum, mean, etc."
   ]
  },
  {
   "cell_type": "code",
   "execution_count": null,
   "metadata": {},
   "outputs": [],
   "source": [
    "# Apply sum-aggregation to all columns\n",
    "df.groupby('Afdeling').sum()"
   ]
  },
  {
   "cell_type": "code",
   "execution_count": null,
   "metadata": {
    "scrolled": false
   },
   "outputs": [],
   "source": [
    "# Apply sum-aggregation to a specific column\n",
    "df.groupby('Afdeling')['Contractomvang'].sum()"
   ]
  },
  {
   "cell_type": "code",
   "execution_count": null,
   "metadata": {
    "scrolled": false
   },
   "outputs": [],
   "source": [
    "# And use reset_index() to get a dataframe\n",
    "df.groupby('Afdeling')['Contractomvang'].sum().reset_index()"
   ]
  },
  {
   "attachments": {},
   "cell_type": "markdown",
   "metadata": {},
   "source": [
    "**Aggregation**\n",
    "\n",
    "In the `groupby` aggregations shown before we computed just one aggregation: sum().\n",
    "\n",
    "But often we would like to directly compute multiple aggregates at once. \n",
    "\n",
    "That's possible by ysing the `aggregate()` method.\n"
   ]
  },
  {
   "cell_type": "code",
   "execution_count": null,
   "metadata": {
    "scrolled": true
   },
   "outputs": [],
   "source": [
    "# Two operations to get both head-count and FTE per Afdeling for all columns\n",
    "df.groupby('Afdeling').aggregate(['sum', 'count'])"
   ]
  },
  {
   "cell_type": "code",
   "execution_count": null,
   "metadata": {
    "scrolled": true
   },
   "outputs": [],
   "source": [
    "# Two operations to get both head-count and FTE per Afdeling for specific column\n",
    "df.groupby('Afdeling')['Contractomvang'].aggregate(['sum', 'count'])"
   ]
  },
  {
   "cell_type": "code",
   "execution_count": null,
   "metadata": {
    "scrolled": false
   },
   "outputs": [],
   "source": [
    "# Or another form to get a multilevel-index\n",
    "df.groupby('Afdeling').aggregate({'Contractomvang':['sum', 'count']})"
   ]
  },
  {
   "cell_type": "code",
   "execution_count": null,
   "metadata": {
    "scrolled": true
   },
   "outputs": [],
   "source": [
    "# Another possibility\n",
    "df.groupby('Afdeling').aggregate({'Personeelsnummer':'count', 'Contractomvang':'sum'})"
   ]
  },
  {
   "attachments": {},
   "cell_type": "markdown",
   "metadata": {},
   "source": [
    "**Filtering**\n",
    "\n",
    "Filtering aggregation by `filter()` method can be used when you want to select / drop data based om group properties."
   ]
  },
  {
   "cell_type": "code",
   "execution_count": null,
   "metadata": {},
   "outputs": [],
   "source": [
    "# Example: keep only afdelingen with more then 1 FTE\n",
    "## Write function (or use lambda)\n",
    "def filter_func(x):\n",
    "    return x.Contractomvang.sum() > 1\n",
    "\n",
    "df_grouped = df.groupby('Afdeling')['Contractomvang'].sum().reset_index()\n",
    "df_filter = df.groupby('Afdeling').filter(filter_func)\n",
    "\n",
    "display('df','df_grouped','df_filter')"
   ]
  },
  {
   "attachments": {},
   "cell_type": "markdown",
   "metadata": {},
   "source": [
    "**Transformation**\n",
    "\n",
    "Aggregation gives us a reduced version of the data. Often we want to combine an aggregated value with the original (ungrouped) data. This is possible by te `transform()` method that returns an output in the same shape as the input."
   ]
  },
  {
   "cell_type": "code",
   "execution_count": null,
   "metadata": {},
   "outputs": [],
   "source": [
    "# Example: we want to express the contractsize of a specific person as a percentage of the total size of a department\n",
    "df_analysis = df.copy()\n",
    "\n",
    "# First step: calculate total per department\n",
    "df_analysis['Total_afdeling'] = df_analysis.groupby('Afdeling')['Contractomvang'].transform('sum')\n",
    "\n",
    "# Second step: calculate percentage\n",
    "df_analysis['Percentage'] = 100 * df_analysis.Contractomvang / df_analysis.Total_afdeling\n",
    "df_analysis"
   ]
  },
  {
   "cell_type": "code",
   "execution_count": null,
   "metadata": {},
   "outputs": [],
   "source": [
    "# Or directly\n",
    "df_analysis['Percentage2'] = 100 * df_analysis.Contractomvang / df_analysis.groupby('Afdeling')['Contractomvang'].transform('sum')\n",
    "df_analysis"
   ]
  },
  {
   "cell_type": "code",
   "execution_count": null,
   "metadata": {
    "scrolled": true
   },
   "outputs": [],
   "source": [
    "# Or using lambda\n",
    "df.groupby('Afdeling')['Contractomvang'].transform(lambda x: x/x.sum())"
   ]
  },
  {
   "attachments": {},
   "cell_type": "markdown",
   "metadata": {},
   "source": [
    "<div class=\"alert alert-success\">\n",
    "\n",
    "### Exercise time 3!\n",
    "    \n",
    "_[Go on with the Exercise from Plus2Net.com](https://www.plus2net.com/python/pandas-dataframe-exercise.php)_\n",
    "* Calculate per product, the total number of products sold\n",
    "* Calculate the total sales per customer: quantity and value in one aggregation\n",
    "* Calculate per store:\n",
    "    * The average value of sales per customer\n",
    "    * The share per product of the total sales for that store"
   ]
  },
  {
   "cell_type": "code",
   "execution_count": null,
   "metadata": {},
   "outputs": [],
   "source": [
    "# write your code here! "
   ]
  },
  {
   "attachments": {},
   "cell_type": "markdown",
   "metadata": {},
   "source": [
    "## 5.2.3 Pivot Tables / Melt\n",
    "\n",
    "Based on paragraph of chapter 3 in Python Datascience Handbook: [Pivot Tables](https://jakevdp.github.io/PythonDataScienceHandbook/03.09-pivot-tables.html)\n",
    "\n",
    "\n",
    "_Further it's usefull to read the next article: [Tidy data](https://vita.had.co.nz/papers/tidy-data.pdf)_\n",
    "\n",
    "\n",
    "**Pivotting** is:\n",
    "* Actually a multidimensional version of `groupby`\n",
    "* Also useful for switching between rows and columns"
   ]
  },
  {
   "cell_type": "code",
   "execution_count": null,
   "metadata": {},
   "outputs": [],
   "source": [
    "import seaborn as sns\n",
    "titanic = sns.load_dataset('titanic')\n",
    "titanic.head()"
   ]
  },
  {
   "cell_type": "code",
   "execution_count": null,
   "metadata": {},
   "outputs": [],
   "source": [
    "# Get the survival rate per sex and class\n",
    "titanic.groupby(['sex','class'])[['survived']].mean()"
   ]
  },
  {
   "attachments": {},
   "cell_type": "markdown",
   "metadata": {},
   "source": [
    "As you can see `groupby` walk through the split-apply-combine via one-dimensional axis: there's one column with the result of the aggregation.\n",
    "\n",
    "We can do the same operation with the `pivot_table()` method."
   ]
  },
  {
   "cell_type": "code",
   "execution_count": null,
   "metadata": {},
   "outputs": [],
   "source": [
    "# Using pivot_table()\n",
    "titanic.pivot_table('survived', index='sex', columns='class')"
   ]
  },
  {
   "attachments": {},
   "cell_type": "markdown",
   "metadata": {},
   "source": [
    "As you can see, we've got a multidimensional result now.\n",
    "\n",
    "We can also create a multilevel-index object by pivot_table()."
   ]
  },
  {
   "cell_type": "code",
   "execution_count": null,
   "metadata": {
    "scrolled": true
   },
   "outputs": [],
   "source": [
    "# Creating a multilevel-index object\n",
    "titanic.pivot_table('survived', index=['sex','embark_town'], columns=['class','deck'])"
   ]
  },
  {
   "attachments": {},
   "cell_type": "markdown",
   "metadata": {},
   "source": [
    "Sometimes it's usefull to have the group-totals as well. This is possible by setting the argument `margins = True`"
   ]
  },
  {
   "cell_type": "code",
   "execution_count": null,
   "metadata": {},
   "outputs": [],
   "source": [
    "# Show totals\n",
    "titanic.pivot_table('survived', index='sex', columns='class', margins=True)"
   ]
  },
  {
   "cell_type": "code",
   "execution_count": null,
   "metadata": {},
   "outputs": [],
   "source": [
    "titanic.melt()"
   ]
  },
  {
   "attachments": {},
   "cell_type": "markdown",
   "metadata": {},
   "source": [
    "**Melt**\n",
    "\n",
    "Really usefull to transform messy data (values on columns) to tidy data.\n",
    "\n",
    "Especially when you want to visualize the data, tidy data is key!"
   ]
  },
  {
   "cell_type": "code",
   "execution_count": null,
   "metadata": {
    "scrolled": true
   },
   "outputs": [],
   "source": [
    "# Remember the airlines dataframe?\n",
    "df_airlines = pd.read_csv(\"https://raw.githubusercontent.com/fivethirtyeight/data/master/airline-safety/airline-safety.csv\")\n",
    "df_airlines.head()"
   ]
  },
  {
   "attachments": {},
   "cell_type": "markdown",
   "metadata": {},
   "source": [
    "In the column names, period-info is nested ('85-99','00-14').\n",
    "We would like to get the total number of incidents and accidents for all periods.\n",
    "Using the given datastructure, that's quite cumbersome!\n",
    "\n",
    "Pandas `melt()` method can help us! \n",
    "But we're in class 5 now.. let's see if you can do it yourself!\n",
    "In the exercise below we give you some hints."
   ]
  },
  {
   "attachments": {},
   "cell_type": "markdown",
   "metadata": {},
   "source": [
    "<div class=\"alert alert-success\">\n",
    "\n",
    "### Exercise time 4!\n",
    "    \n",
    "* Create two lists by using a list-comprehension:\n",
    "    * A list 'value_col' of all columns with the period as a suffix (list-comprehension)\n",
    "    * A list 'id_col' containing all the other columns in the dataframe\n",
    "* Create a new dataframe 'df_airlines_melt' by using the pandas `melt()` method [check documentation]\n",
    "* Create in this dataframe a new column 'period' and fill this column with the suffix of the column 'variable'\n",
    "* Remove this suffix in the column 'variable'\n",
    "* Now, calculate the totals per airline, per variable without the period-details.\n",
    "* Bonus: swap the variable-column back to separate columns, using pivot_table()"
   ]
  },
  {
   "cell_type": "code",
   "execution_count": null,
   "metadata": {},
   "outputs": [],
   "source": [
    "import numpy as np\n",
    "import pandas as pd\n",
    "import matplotlib.pyplot as plt\n",
    "\n",
    "from os import listdir\n",
    "#Don't forget to tell jupyter that plots should be visualized inline\n",
    "%matplotlib inline"
   ]
  },
  {
   "attachments": {},
   "cell_type": "markdown",
   "metadata": {},
   "source": [
    "# 5.3 Visualizations"
   ]
  },
  {
   "attachments": {},
   "cell_type": "markdown",
   "metadata": {},
   "source": [
    "Data visualization is a major part of most data related projects. Visualizations are required to comunicate and develop insights, since our human brains cannot easily understand complex relationships when confronted with tabular data. In previous decades, we have developed techniques to communicate those insights as efficiently as possible to newspaper space and ink. Now that data visualization options are becoming more numerous, the same techniques can be used to communicate intended insights in the most elegant way. "
   ]
  },
  {
   "cell_type": "code",
   "execution_count": null,
   "metadata": {},
   "outputs": [],
   "source": [
    "#Classic example of a very good visualization\n",
    "from IPython.display import Image as img\n",
    "img('https://cdn8.openculture.com/2019/07/11094725/Minard-1-e1562863679105.png') \n",
    "# This “figurative map” by Charles Joseph Minard displays a wide variety of information about the advance of Napoleon’s army into Russia and its subsequent retreat."
   ]
  },
  {
   "cell_type": "code",
   "execution_count": null,
   "metadata": {},
   "outputs": [],
   "source": [
    "# An example of a proper choice for multiple line chart\n",
    "img('https://images.thoughtbot.com/analyzing-minards-visualization-of-napoleons-1812-march/playfair_timeseries.png')"
   ]
  },
  {
   "attachments": {},
   "cell_type": "markdown",
   "metadata": {},
   "source": [
    "#An example of a misues for multiple line chart"
   ]
  },
  {
   "attachments": {
    "image.png": {
     "image/png": "[encoded data removed]"
    }
   },
   "cell_type": "markdown",
   "metadata": {},
   "source": [
    "![image.png](attachment:image.png)"
   ]
  },
  {
   "attachments": {
    "image.png": {
     "image/png": "[encoded data removed]"
    }
   },
   "cell_type": "markdown",
   "metadata": {},
   "source": [
    "![image.png](attachment:image.png)"
   ]
  },
  {
   "attachments": {},
   "cell_type": "markdown",
   "metadata": {},
   "source": [
    "Many years of research have led us towards libraries of visualizations which are very good at transfering a certain narative. This makes it extra important to select the proper visualization, since visualizations can also very easily be used to create a false narative. Make sure that your visualization supports the narative that you have indeed found in the data."
   ]
  },
  {
   "attachments": {},
   "cell_type": "markdown",
   "metadata": {},
   "source": [
    "Before creating a visualization, you should ask yourself what narrative you wish to communicate or what insight you wish to research. The visual follows the data. See also https://www.data-to-viz.com/ for more examples."
   ]
  },
  {
   "cell_type": "code",
   "execution_count": null,
   "metadata": {},
   "outputs": [],
   "source": [
    "import requests\n",
    "from ipywidgets import Image\n",
    "Image(value=requests.get('https://extremepresentation.typepad.com/.a/6a00d8341bfd2e53ef0263ec2ab026200c-pi').content)\n",
    "#Normal image visualisation did not work for some reason. Thanks google for alternatives!"
   ]
  },
  {
   "attachments": {},
   "cell_type": "markdown",
   "metadata": {},
   "source": [
    "We already saw that the visualization type should follow the data and the narrative that you want to show in the data. The tool that you use to create the visualization should also follow the data and visalization goal. Altough python is certainly capable of creating very complex visualizations, it is not it's biggest strength. Often, we use other software for visualization since it fit's our goals better:\n",
    "\n",
    "Visualizations in python:\n",
    "- Quick plots during data analysis to check for outliers, distributions or possible relationships\n",
    "- Export of static plots that should always look the same but have to be created on-the-fly\n",
    "- Communicating insights between collegues that also use python\n",
    "\n",
    "Visualizations in excel:\n",
    "- Visuals that should be adjustable by all collegues\n",
    "- Visuals that have to be created once\n",
    "- Visuals that should be easily recognizeable by end users\n",
    "- Visuals that should fit corporate MS office style/template\n",
    "\n",
    "Visualizations in BI tools:\n",
    "- Visuals that should be interactive for end users"
   ]
  },
  {
   "attachments": {},
   "cell_type": "markdown",
   "metadata": {},
   "source": [
    "# Visualizations in Python"
   ]
  },
  {
   "attachments": {},
   "cell_type": "markdown",
   "metadata": {},
   "source": [
    "Python provides many libraries for datavisualisation. Almost all types of data-representation and charts are possible to generate within Python. Even interactive visualisations.\n",
    "\n",
    "Within the scope of this class we discuss 4 types of visualisations:\n",
    "* Pandas styles for table visualisations\n",
    "* Matplotlib for quick and basic plots\n",
    "* Seaborn for nicer and more complex graphics\n",
    "* Bokeh for interactive plots (javascript engine with export to HTML)\n",
    "\n",
    "So, many ways to get there. In the end it's up to you to choose!"
   ]
  },
  {
   "attachments": {},
   "cell_type": "markdown",
   "metadata": {},
   "source": [
    "## 5.3.1 Pandas styles & profiling\n",
    "\n",
    "Usefull to make nice table visualisations to get much more information then only the raw data.\n",
    "* Number formatting\n",
    "* Highlighting data\n",
    "* And many, many other options..!\n",
    "\n",
    "Look at the [documentation](https://pandas.pydata.org/pandas-docs/stable/user_guide/style.html) to get more options."
   ]
  },
  {
   "attachments": {},
   "cell_type": "markdown",
   "metadata": {},
   "source": [
    "For the examples, let's first create a dataframe to use!"
   ]
  },
  {
   "cell_type": "code",
   "execution_count": null,
   "metadata": {},
   "outputs": [],
   "source": [
    "import pandas as pd\n",
    "# Read the data\n",
    "df_airlines = pd.read_csv(\"https://raw.githubusercontent.com/fivethirtyeight/data/master/airline-safety/airline-safety.csv\")\n",
    "df_airlines.head()"
   ]
  },
  {
   "cell_type": "code",
   "execution_count": null,
   "metadata": {},
   "outputs": [],
   "source": [
    "# Add some new variables\n",
    "## Fatalities as fraction from the available seat_km per week (millions!)\n",
    "df_airlines['fatalities_85_99_frac'] = df_airlines.fatalities_85_99 / (df_airlines.avail_seat_km_per_week/1e6)\n",
    "### Check outcomes\n",
    "df_airlines.describe()"
   ]
  },
  {
   "cell_type": "code",
   "execution_count": null,
   "metadata": {},
   "outputs": [],
   "source": [
    "# Add categorical variable if calculated percentage > 5%: airline = dangerous\n",
    "df_airlines['Dangerous'] = df_airlines.fatalities_85_99_frac.apply(lambda x: 1 if x>0.05 else 0)\n",
    "df_airlines.head()"
   ]
  },
  {
   "attachments": {},
   "cell_type": "markdown",
   "metadata": {},
   "source": [
    "**Formatting with symbols**\n",
    "\n",
    "Back to Pandas styles.  Let's add symbols to the data by using `format()` and a format-dictionairy."
   ]
  },
  {
   "cell_type": "code",
   "execution_count": null,
   "metadata": {},
   "outputs": [],
   "source": [
    "# Format some variables\n",
    "## the added variable (percentage) to give us a representation with a percentage symbol\n",
    "## the variable avail_seat_km_per_week variable with a currency symbol (ok, that doesn't make sense, but just as an example)\n",
    "format_dict = {'avail_seat_km_per_week':'${0:,.2f}','fatalities_85_99_frac':'{:.2%}'}\n",
    "df_airlines.head().style.format(format_dict)"
   ]
  },
  {
   "attachments": {},
   "cell_type": "markdown",
   "metadata": {},
   "source": [
    "This only impacts the display, not the data itselve!\n",
    "\n",
    "**Highlighting**\n",
    "\n",
    "By using `.highlight_min()` and `.highlight_max()` after the `style` method, you can easily add conditional color-formatting."
   ]
  },
  {
   "cell_type": "code",
   "execution_count": null,
   "metadata": {},
   "outputs": [],
   "source": [
    "# Highlight the max and min values\n",
    "df_airlines.head().style.highlight_min(color='blue').highlight_max(color='red')"
   ]
  },
  {
   "attachments": {},
   "cell_type": "markdown",
   "metadata": {},
   "source": [
    "You can specify the colors with a [predefined python-colorname](https://python-graph-gallery.com/python-colors/) or with a hex-code.\n",
    "\n",
    "Or use a gradient with `.background_gradient()` whereby it's also possible to specify specific columns."
   ]
  },
  {
   "cell_type": "code",
   "execution_count": null,
   "metadata": {},
   "outputs": [],
   "source": [
    "# Highlight specific columns with a gradient\n",
    "df_airlines.head().style.background_gradient(subset=['avail_seat_km_per_week', 'incidents_85_99'], cmap='BuGn')"
   ]
  },
  {
   "attachments": {},
   "cell_type": "markdown",
   "metadata": {},
   "source": [
    "We can also use bars, simpy by adding `.bar()` after style.."
   ]
  },
  {
   "cell_type": "code",
   "execution_count": null,
   "metadata": {},
   "outputs": [],
   "source": [
    "# Highlight specific columns with a bar representing the size\n",
    "df_airlines.head().style.bar(subset=['avail_seat_km_per_week', 'incidents_85_99'], color='red')"
   ]
  },
  {
   "cell_type": "code",
   "execution_count": null,
   "metadata": {},
   "outputs": [],
   "source": [
    "# In combination with sort_values\n",
    "df_airlines.head(20).sort_values('avail_seat_km_per_week', ascending=False).style.bar(subset=['avail_seat_km_per_week', 'incidents_85_99'], color='green')"
   ]
  },
  {
   "attachments": {},
   "cell_type": "markdown",
   "metadata": {},
   "source": [
    "<div class=\"alert alert-success\">\n",
    "\n",
    "# Exercise time 5!\n",
    "* Import the tips-dataset from seaborn: `tips = sns.load_dataset(\"tips\")`\n",
    "* Add a column tip_percentage with the tip as percentage from the total_bill \n",
    "* Format the columns (unit-symbols): dollars and percentage\n",
    "* Play with conditional formatting of this column with colors, bars, etc"
   ]
  },
  {
   "cell_type": "code",
   "execution_count": null,
   "metadata": {},
   "outputs": [],
   "source": [
    "import seaborn as sns\n",
    "tips = sns.load_dataset(\"tips\")\n",
    "tips"
   ]
  },
  {
   "attachments": {},
   "cell_type": "markdown",
   "metadata": {},
   "source": [
    "## 5.3.2 Matplotlib\n",
    "\n",
    "Pythons most basic library for visualizing data.\n",
    "\n",
    "Base structure of 2 components:\n",
    "* Figure: the layout on which all other parts are drawn\n",
    "* Axes: chart-area boundaries"
   ]
  },
  {
   "cell_type": "code",
   "execution_count": null,
   "metadata": {},
   "outputs": [],
   "source": [
    "# Let's use a dataset from FiveThirtyEight (FTE) about the gender-gap / percentage of female bachelor degrees per subject \n",
    "url = 'https://raw.githubusercontent.com/johnashu/datacamp/abb93eede7ed3d520de78e61fb6cb671156e8e93/percent-bachelors-degrees-women-usa.csv' #So we can get our results\n",
    "women_majors = pd.read_csv(url)\n",
    "women_majors.head()"
   ]
  },
  {
   "cell_type": "code",
   "execution_count": null,
   "metadata": {},
   "outputs": [],
   "source": [
    "# Start importing this library using the `plt` convention\n",
    "import matplotlib.pyplot as plt\n",
    "\n",
    "# We want to plot the figures in line, so let's do some magic\n",
    "%matplotlib inline\n",
    "\n",
    "# You should use plt.show() after the plt.functions when you work in the terminal of with a script!\n",
    "\n",
    "# OK, lets make a simple plot of this dataset for just one subject (Agriculture)\n",
    "plt.plot(women_majors.Year, women_majors.Agriculture)\n",
    "plt.show()"
   ]
  },
  {
   "attachments": {},
   "cell_type": "markdown",
   "metadata": {},
   "source": [
    "It's possible to make the graphs of multiple variables in just one graph. Usefull for comparison!"
   ]
  },
  {
   "cell_type": "code",
   "execution_count": null,
   "metadata": {},
   "outputs": [],
   "source": [
    "# Compare three subjects: Agriculture, Architecture, Art and Performance\n",
    "plt.plot(women_majors.Year, women_majors.Agriculture)\n",
    "plt.plot(women_majors.Year, women_majors.Architecture)\n",
    "plt.plot(women_majors.Year, women_majors['Art and Performance']) # See the difference in the syntax?\n",
    "plt.show()"
   ]
  },
  {
   "attachments": {},
   "cell_type": "markdown",
   "metadata": {},
   "source": [
    "OK, nice. But what is this plot about when you only get this figure?\n",
    "\n",
    "Let's add some extra information:\n",
    "* Labels\n",
    "* Title\n",
    "* Grid\n",
    "* Legend"
   ]
  },
  {
   "cell_type": "code",
   "execution_count": null,
   "metadata": {},
   "outputs": [],
   "source": [
    "# Compare three subjects: Agriculture, Architecture, Art and Performance\n",
    "plt.plot(women_majors.Year, women_majors.Agriculture)\n",
    "plt.plot(women_majors.Year, women_majors.Architecture)\n",
    "plt.plot(women_majors.Year, women_majors['Art and Performance']) # See the difference in the syntax?\n",
    "\n",
    "plt.xlabel('Year')\n",
    "plt.ylabel('Percentage of women in bachelor degrees')\n",
    "plt.title('The gender-gap in transitory')\n",
    "plt.grid(True)"
   ]
  },
  {
   "attachments": {},
   "cell_type": "markdown",
   "metadata": {},
   "source": [
    "Ah nice! But what line represents each subject?\n",
    "\n",
    "A legend will do the job! \n",
    "\n",
    "We can directly add a legend by `.legend()` but first we need to specify in each plot statement what the legend-lable has to be."
   ]
  },
  {
   "cell_type": "code",
   "execution_count": null,
   "metadata": {},
   "outputs": [],
   "source": [
    "# Compare three subjects: Agriculture, Architecture, Art and Performance\n",
    "plt.plot(women_majors.Year, women_majors.Agriculture, label='Agriculture')\n",
    "plt.plot(women_majors.Year, women_majors.Architecture, label='Architecture')\n",
    "plt.plot(women_majors.Year, women_majors['Art and Performance'], label='Art and Performance') # See the difference in the syntax?\n",
    "\n",
    "plt.xlabel('Year')\n",
    "plt.ylabel('Percentage of women in bachelor degrees')\n",
    "plt.title('The gender-gap in transitory')\n",
    "plt.grid(True)\n",
    "plt.legend()"
   ]
  },
  {
   "attachments": {},
   "cell_type": "markdown",
   "metadata": {},
   "source": [
    "**Subplots**\n",
    "\n",
    "It's also possible to draw multiple plots in just one figure by using `fig, axes = plt.subplots()`\n",
    "\n",
    "You can define per axes-dimensions (2D) what plot you want.\n",
    "\n",
    "Even different types of plots are possible (e.g. mix of lineplots, barcharts, etc)"
   ]
  },
  {
   "cell_type": "code",
   "execution_count": null,
   "metadata": {},
   "outputs": [],
   "source": [
    "# Let's create a figure with 2 by 2 subplots\n",
    "fig, axes = plt.subplots(2,2)\n",
    "axes[0, 0].plot(women_majors.Year, women_majors.Agriculture, label='Agriculture')\n",
    "axes[0, 1].bar(women_majors.Year, women_majors.Architecture, label='Architecture')\n",
    "axes[1, 0].hist(women_majors['Art and Performance'], label='Art and Performance')\n",
    "axes[1, 1].scatter(women_majors.Year, women_majors['Art and Performance'], label='Art and Performance')"
   ]
  },
  {
   "attachments": {},
   "cell_type": "markdown",
   "metadata": {},
   "source": [
    "It's also possible to add text to the plot. This is quite usefull to mark special events or to customize the plots.b\n",
    "\n",
    "You have to specify the coördinations of the text position. These coördinations use the same units as the graph."
   ]
  },
  {
   "cell_type": "code",
   "execution_count": null,
   "metadata": {},
   "outputs": [],
   "source": [
    "# Compare three subjects: Agriculture, Architecture, Art and Performance\n",
    "plt.plot(women_majors.Year, women_majors.Agriculture, label='Agriculture')\n",
    "plt.plot(women_majors.Year, women_majors.Architecture, label='Architecture')\n",
    "plt.plot(women_majors.Year, women_majors['Art and Performance'], label='Art and Performance') # See the difference in the syntax?\n",
    "\n",
    "# Add additional info\n",
    "plt.xlabel('Year')\n",
    "plt.ylabel('Percentage of women in bachelor degrees')\n",
    "plt.title('The gender-gap in transitory')\n",
    "plt.grid(True)\n",
    "plt.legend()\n",
    "\n",
    "# Add text to the plot: source in the upper-middle and an annotation for a remarkakle event\n",
    "plt.text(x=1985, y=25, s='Source: FiveThirtyEight (538)') #Coordinates use the same units as the graph\n",
    "plt.annotate('What happened?', xy=(1990, 41), xytext=(1985, 50), arrowprops={'facecolor':'red', 'shrink':0.05})"
   ]
  },
  {
   "attachments": {},
   "cell_type": "markdown",
   "metadata": {},
   "source": [
    "Just some basic features and plot-examples, but Matplotlib has many, many more. See the [documentation](https://matplotlib.org/gallery/index.html) for more examples and options."
   ]
  },
  {
   "attachments": {},
   "cell_type": "markdown",
   "metadata": {},
   "source": [
    "<div class=\"alert alert-success\">\n",
    "\n",
    "# Exercise time 6!\n",
    "* Load the airlines data and filter the top-10 airlines with the most incidents in total for the periods 1985-1999 and 2000-2014.\n",
    "* Create a grouped bar chart with the ten airlines on the x-axis, the number of incidents on the y-as and the periods (1985-1999 and 2000-2014) as groups. _Hint: check documentation link above!_\n",
    "* Add the basic elements: title, axis-labels, legend, but also a subtitle.\n",
    "* Change position of the legend\n",
    "* Optional: \n",
    "    * Add textlabels with values above each bar\n",
    "    * Create a second plot with a stacked bar per airline with the number of incidents over the two periods stacked"
   ]
  },
  {
   "cell_type": "code",
   "execution_count": null,
   "metadata": {},
   "outputs": [],
   "source": [
    "# Read the data\n",
    "df_airlines = pd.read_csv(\"https://raw.githubusercontent.com/fivethirtyeight/data/master/airline-safety/airline-safety.csv\")\n",
    "\n",
    "\n",
    "\n",
    "\n",
    "\n",
    "\n",
    "\n"
   ]
  },
  {
   "attachments": {},
   "cell_type": "markdown",
   "metadata": {},
   "source": [
    "## 5.3.3 Seaborn\n",
    "\n",
    "Seaborn is based on Matplotlib but gives us some help to creater nicer graphics with less code.\n",
    "\n",
    "To make this happen, import the Seaborn library (with convention to call it sns) and initialize the 'Seaborn-style' by `sns.set()`."
   ]
  },
  {
   "cell_type": "code",
   "execution_count": null,
   "metadata": {},
   "outputs": [],
   "source": [
    "# Import and initialize seaborn\n",
    "import seaborn as sns\n",
    "sns.set()\n",
    "\n",
    "# Remember the Titanic-dataset? Indeed, Seaborn library contains datasets that we can directly load\n",
    "tips = sns.load_dataset(\"tips\")\n",
    "tips.head()"
   ]
  },
  {
   "cell_type": "code",
   "execution_count": null,
   "metadata": {},
   "outputs": [],
   "source": [
    "# Let's make a scatterplot of the tip vs. total_bill\n",
    "sns.scatterplot(tips[[\"total_bill\", \"tip\"]], x = \"total_bill\", y = \"tip\")\n",
    "plt.show() #Build upon matplotlib"
   ]
  },
  {
   "attachments": {},
   "cell_type": "markdown",
   "metadata": {},
   "source": [
    "Great! We directly have axis-labels and a grid without coding this..\n",
    "\n",
    "Let's add more information in the figure to show the power of Seaborn!\n",
    "\n",
    "We are interested if there's a difference between the time of the visit: Lunch vs. Diner. Let's create two separate plot in one figure by using `sns.relplot()`."
   ]
  },
  {
   "cell_type": "code",
   "execution_count": null,
   "metadata": {},
   "outputs": [],
   "source": [
    "# Create separate plots for Lunch and Dinner\n",
    "sns.relplot(x=\"total_bill\", y=\"tip\", col=\"time\", data=tips)"
   ]
  },
  {
   "attachments": {},
   "cell_type": "markdown",
   "metadata": {},
   "source": [
    "Ah interesting.. is there maybe a difference between men and women?"
   ]
  },
  {
   "cell_type": "code",
   "execution_count": null,
   "metadata": {},
   "outputs": [],
   "source": [
    "# Color the dots, based on gender\n",
    "sns.relplot(x=\"total_bill\", y=\"tip\", col=\"time\", hue='sex', data=tips)"
   ]
  },
  {
   "attachments": {},
   "cell_type": "markdown",
   "metadata": {},
   "source": [
    "Maybe also the number of people per bill are interesting as well?"
   ]
  },
  {
   "cell_type": "code",
   "execution_count": null,
   "metadata": {},
   "outputs": [],
   "source": [
    "# Make the size of the dots representing the size of the group\n",
    "sns.relplot(x=\"total_bill\", y=\"tip\", col=\"time\", hue='sex', size='size', data=tips)"
   ]
  },
  {
   "attachments": {},
   "cell_type": "markdown",
   "metadata": {},
   "source": [
    "**Heatmap**\n",
    "\n",
    "Very usefull to get a quick oversight of the correlations in a dataset"
   ]
  },
  {
   "cell_type": "code",
   "execution_count": null,
   "metadata": {},
   "outputs": [],
   "source": [
    "sns.heatmap(tips[['total_bill', 'tip', 'size']].corr(), annot=True, fmt='.2f')"
   ]
  },
  {
   "attachments": {},
   "cell_type": "markdown",
   "metadata": {},
   "source": [
    "**Pairplot**\n",
    "\n",
    "Usefull to see the relations in a dataset."
   ]
  },
  {
   "cell_type": "code",
   "execution_count": null,
   "metadata": {},
   "outputs": [],
   "source": [
    "sns.pairplot(tips)"
   ]
  },
  {
   "cell_type": "code",
   "execution_count": null,
   "metadata": {},
   "outputs": [],
   "source": [
    "# And add also the categorical info\n",
    "sns.pairplot(tips, hue='sex')"
   ]
  },
  {
   "attachments": {},
   "cell_type": "markdown",
   "metadata": {},
   "source": [
    "**Joint plot**\n",
    "\n",
    "Combination of histogram and distribution plot of two variables."
   ]
  },
  {
   "cell_type": "code",
   "execution_count": null,
   "metadata": {},
   "outputs": [],
   "source": [
    "sns.jointplot(x=\"total_bill\", y=\"tip\", data=tips)\n",
    "plt.show()"
   ]
  },
  {
   "attachments": {},
   "cell_type": "markdown",
   "metadata": {},
   "source": [
    "And again.. this is just a preview. Seaborn has many, many more. See the [documentation](https://seaborn.pydata.org/examples/index.html) for more examples and options."
   ]
  },
  {
   "attachments": {},
   "cell_type": "markdown",
   "metadata": {},
   "source": [
    "<div class=\"alert alert-success\">\n",
    "\n",
    "# Exercise time 7!\n",
    "* Load the dataset 'exercise' from seaborn. This datasets contains for different people (id) the heart-pulse on 3 times and information about their diet.\n",
    "* Create a grouped boxplot with the pulse on the y-axis, the time on the x-axis and the kind of activity as groups. Hint: use `sns.catplot()` and play around with the different kinds of plots as described in the documentation.\n",
    "* Update the previous plot to get a so-called facetgrid with two figures for the separate diets.\n"
   ]
  },
  {
   "cell_type": "code",
   "execution_count": null,
   "metadata": {},
   "outputs": [],
   "source": [
    "exercise = sns.load_dataset(\"exercise\", index_col=0)\n",
    "\n",
    "exercise.head(5)\n",
    "\n",
    "\n",
    "\n"
   ]
  },
  {
   "attachments": {},
   "cell_type": "markdown",
   "metadata": {},
   "source": [
    "**Pandas profiling**\n",
    "\n",
    "Descriptive 2.0\n",
    "\n",
    "Get a report of your dataset with only 3 rows of code!\n",
    "\n",
    "!! You have to install the pandas_profiling library !!\n",
    "\n",
    "More information about Pandas Profiling in this [article](https://towardsdatascience.com/exploratory-data-analysis-with-pandas-profiling-de3aae2ddff3)"
   ]
  },
  {
   "cell_type": "code",
   "execution_count": null,
   "metadata": {},
   "outputs": [],
   "source": [
    "#Running this code will install pandas_profiling in the python version you are currently using:\n",
    "#This will take some time...\n",
    "\n",
    "#import sys\n",
    "#!{sys.executable} -m pip install pandas_profiling"
   ]
  },
  {
   "cell_type": "code",
   "execution_count": null,
   "metadata": {},
   "outputs": [],
   "source": [
    "from pandas_profiling import ProfileReport\n",
    "prof = ProfileReport(exercise)\n",
    "prof"
   ]
  },
  {
   "attachments": {},
   "cell_type": "markdown",
   "metadata": {},
   "source": [
    "## 5.3.4 Bokeh"
   ]
  },
  {
   "attachments": {},
   "cell_type": "markdown",
   "metadata": {},
   "source": [
    "Over the years lots of python libraries have been created that extend python plotting capabilities even further. The most challgening aspect that packages tackle is creating interactive visualizations. For demonstration purposes we use the <code>bokeh</code> library in this class, which is implemented in javascript. Once again, we do not have time to show all capabilities of the package. "
   ]
  },
  {
   "cell_type": "code",
   "execution_count": null,
   "metadata": {},
   "outputs": [],
   "source": [
    "from bokeh.plotting import figure, output_file, output_notebook, show, reset_output, gridplot\n",
    "#Bokeh comes in two flavours: bokeh.plotting (easier) and bokeh.models (more options), we will use bokeh.plotting\n",
    "#If you do not have bokeh in your distribution, install it trough anaconda navigator or prompt\n",
    "output_notebook()"
   ]
  },
  {
   "cell_type": "code",
   "execution_count": null,
   "metadata": {},
   "outputs": [],
   "source": [
    "# prepare some data.\n",
    "# Bokeh likes to work with lists, or lists of lists\n",
    "x = [1, 2, 3, 4, 5]\n",
    "y = [6, 7, 2, 4, 5]\n",
    "\n",
    "# create a new figure with a title\n",
    "p = figure(title=\"simple line example\")\n",
    "\n",
    "# add a line with specified line thickness\n",
    "p.line(x, y, line_width=2)\n",
    "\n",
    "# show the results\n",
    "show(p)"
   ]
  },
  {
   "cell_type": "code",
   "execution_count": null,
   "metadata": {},
   "outputs": [],
   "source": [
    "x = [1,2,4]\n",
    "y = [1,2,3]\n",
    "\n",
    "#bokeh always starts with defining a figure\n",
    "p = figure()\n",
    "\n",
    "#Many different visualizations to add to the figure\n",
    "p.scatter(x,y,legend_label='scatter')\n",
    "p.circle(x,y,legend_label='circle')\n",
    "p.line(x,y,legend_label='line')\n",
    "p.step(x,y,legend_label='step')\n",
    "\n",
    "#With many different options\n",
    "p.multi_line([[1, 3, 2], [3, 4, 6, 6]], [[2, 1, 4], [4, 7, 8, 5]],\n",
    "             color=[\"firebrick\", \"navy\"], alpha=[0.8, 0.3], line_width=4)\n",
    "p.vbar(x=[1, 2, 3], width=0.5, bottom=0,\n",
    "       top=[1.2, 2.5, 3.7], color=\"firebrick\")\n",
    "p.hbar(y=[1, 2, 3], height=0.5, left=0,\n",
    "       right=[1.2, 2.5, 3.7], color=\"navy\")\n",
    "p.rect(x=[2, 4, 5], y=[1, 2, 3], width=0.2, height=40, color=\"#CAB2D6\",\n",
    "       angle=3.1415/3, height_units=\"screen\",legend_label='rectangle')\n",
    "\n",
    "show(p)\n"
   ]
  },
  {
   "cell_type": "code",
   "execution_count": null,
   "metadata": {},
   "outputs": [],
   "source": [
    "#More complex examples\n",
    "p = figure()\n",
    "p.multi_polygons(xs=[[[ [1, 1, 2, 2], [1.2, 1.6, 1.6], [1.8, 1.8, 1.6] ], [ [3, 4, 3] ]]],\n",
    "                 ys=[[[ [4, 3, 3, 4], [3.2, 3.2, 3.6], [3.4, 3.8, 3.8] ], [ [1, 1, 3] ]]])\n",
    "\n",
    "show(p)\n"
   ]
  },
  {
   "cell_type": "code",
   "execution_count": null,
   "metadata": {},
   "outputs": [],
   "source": [
    "#Bokeh can also easily handle categorical data\n",
    "factors = [\"a\", \"b\", \"c\", \"d\", \"e\", \"f\", \"g\", \"h\"]\n",
    "x = [50, 40, 65, 10, 25, 37, 80, 60]\n",
    "\n",
    "#And save the output as html so everyone can open it!\n",
    "output_file(\"categorical.html\")\n",
    "\n",
    "p = figure(y_range=factors)\n",
    "\n",
    "p.circle(x, factors, size=15, fill_color=\"orange\", line_color=\"green\", line_width=3)\n",
    "\n",
    "show(p)\n",
    "\n",
    "reset_output() #makes sure that you don't overwrite your output\n",
    "output_notebook() #And that following plots will once again be only showed in the notebook"
   ]
  },
  {
   "cell_type": "code",
   "execution_count": null,
   "metadata": {},
   "outputs": [],
   "source": [
    "#Change toolbar functionality in the figure function\n",
    "p = figure(title=None, toolbar_location=\"below\")\n",
    "\n",
    "p.circle([1, 2, 3, 4, 5], [2, 5, 8, 2, 7], size=10)\n",
    "\n",
    "show(p)\n"
   ]
  },
  {
   "cell_type": "code",
   "execution_count": null,
   "metadata": {},
   "outputs": [],
   "source": [
    "#Or make only certain tools useable for end users\n",
    "p = figure(tools=\"pan,tap,box_select,redo,save,hover\", active_drag=\"pan\") # You can also add multiple tools with a comma-separated string containing tool shortcut name\n",
    "p.circle([1, 2, 3, 4, 5], [2, 5, 8, 2, 7], size=10)\n",
    "\n",
    "show(p)\n",
    "#See https://docs.bokeh.org/en/latest/docs/user_guide/tools.html for all tools"
   ]
  },
  {
   "attachments": {},
   "cell_type": "markdown",
   "metadata": {},
   "source": [
    "See the bokeh userguide for more examples!\n",
    "https://docs.bokeh.org/en/latest/docs/user_guide.html#userguide"
   ]
  },
  {
   "attachments": {},
   "cell_type": "markdown",
   "metadata": {},
   "source": [
    "**Summary**"
   ]
  },
  {
   "cell_type": "code",
   "execution_count": null,
   "metadata": {},
   "outputs": [],
   "source": [
    "sns.reset_orig() #Styling resetten"
   ]
  },
  {
   "attachments": {},
   "cell_type": "markdown",
   "metadata": {},
   "source": [
    "Matplotlib"
   ]
  },
  {
   "cell_type": "code",
   "execution_count": null,
   "metadata": {},
   "outputs": [],
   "source": [
    "x = [1, 2, 3, 4, 5]\n",
    "y = [6, 7, 2, 4, 5]\n",
    "\n",
    "plt.plot(x,y)\n",
    "plt.show()"
   ]
  },
  {
   "attachments": {},
   "cell_type": "markdown",
   "metadata": {},
   "source": [
    "Seaborn"
   ]
  },
  {
   "cell_type": "code",
   "execution_count": null,
   "metadata": {},
   "outputs": [],
   "source": [
    "sns.set()\n",
    "sns.lineplot(x = x, y = y)\n",
    "plt.show()"
   ]
  },
  {
   "attachments": {},
   "cell_type": "markdown",
   "metadata": {},
   "source": [
    "Bokeh"
   ]
  },
  {
   "cell_type": "code",
   "execution_count": null,
   "metadata": {},
   "outputs": [],
   "source": [
    "p = figure()\n",
    "p.line(x,y)\n",
    "show(p)"
   ]
  },
  {
   "attachments": {},
   "cell_type": "markdown",
   "metadata": {},
   "source": [
    "# 5.4 Error handling"
   ]
  },
  {
   "attachments": {},
   "cell_type": "markdown",
   "metadata": {},
   "source": [
    "While playing around with the previous notebooks you will no doubt have come accross errors in python. Let's dive into these a bit deeper! Roughly three types of errors exist:\n",
    "- Jupyter notebook errors: Something goes wrong between your jupyter notebook view and the underlying python executor (kernel)\n",
    "- Syntax errors: Python does not understand the code you are trying to have it execute and will thus not execute it entirely.\n",
    "- Exceptions: Python is executing the code but sees something unexeptable, so it will halt execution.\n",
    "- Semantic errors: The code runs without errors or exceptions but returns something unexpected."
   ]
  },
  {
   "attachments": {},
   "cell_type": "markdown",
   "metadata": {},
   "source": [
    "Although all errors are different, two steps will always help you to undertand them:\n",
    "    \n",
    "1. Google is your best friend! A google search of the problem you have will lead you to others that have experienced this problem before.\n",
    "2. Divide and conquer. Change long and unclear codes or actions into smaller bits to see where the problem lies exactly. Make sure all lines of code execute only a single action and use lots of print statements to see in which line the error lies."
   ]
  },
  {
   "attachments": {},
   "cell_type": "markdown",
   "metadata": {},
   "source": [
    "## 5.4.1 Jupyter notebooks"
   ]
  },
  {
   "attachments": {},
   "cell_type": "markdown",
   "metadata": {},
   "source": [
    "Jupyter notebooks, for our use-case, are just web-interfaces that allow us to run python code in between blocks of text. The execution of the python code is performed in the background by so-called kernels. Sometimes we crash these kernels or lose connection with them. We can use our web-interface to restart or reconnect to our kernel is such cases.\n",
    "\n",
    "Errors with jupyter are characterized by not being able to run python at all or never recieving the results of our code. When restarting the kernel does not solve your issue, restarting jupyter notebook might offer the solution. Otherwise google is your best friend."
   ]
  },
  {
   "attachments": {},
   "cell_type": "markdown",
   "metadata": {},
   "source": [
    "## 5.4.2 Syntax errors"
   ]
  },
  {
   "attachments": {},
   "cell_type": "markdown",
   "metadata": {},
   "source": [
    "Every language follows specific rules. In programming languages this is called the <code>syntax</code>. A <code>SyntaxError</code> therefore is a way for python to let you know that you did wrote code that does not fit within the <code>syntax</code> rules of the python language. \n",
    "\n",
    "Most high level programming languages, python included, do not just execute your python code the way we read it. Before execution, writting code is translated into something called <code>byte code</code> for quicker execution. Therefore <code>SyntaxErrors</code> are returned during translation, before anyting is properly executed. <code>SyntaxErrors</code> are therfore the first feedback you will recieve and will halt python from excecuting any code."
   ]
  },
  {
   "cell_type": "code",
   "execution_count": null,
   "metadata": {},
   "outputs": [],
   "source": [
    "# A syntaxerror will show you the file and line where the error occured\n",
    "# In this line, a caret \"^\" will show you the location where the error occured\n",
    "for i in range(1,2)\n",
    "print i"
   ]
  },
  {
   "cell_type": "code",
   "execution_count": null,
   "metadata": {},
   "outputs": [],
   "source": [
    "#When possible, the error message will tell you what is wrong\n",
    "5 = \"test\""
   ]
  },
  {
   "cell_type": "code",
   "execution_count": null,
   "metadata": {},
   "outputs": [],
   "source": [
    "# An indentationError is a special kind of syntax error\n",
    "# So is the taberror, for inconsitent use of spaces and tabs (more rare)\n",
    "for i in range(1,2):\n",
    "print i"
   ]
  },
  {
   "attachments": {},
   "cell_type": "markdown",
   "metadata": {},
   "source": [
    "Syntax errors are very common and can follow from:\n",
    "- Misspelling words or signs (such as variables, operations or keywords)\n",
    "- Missing these altogether\n",
    "- Misusing parenthesis, brackets or quotes\n",
    "- Different python versions\n",
    "\n",
    "Most often these happen when writing quick code.The divide and conquer tactic ususally helps to fix these. You can pre-empt using the tactic by running all code seperately before improving or combining it. Quick google searchers can also refresh your memory for the proper syntax."
   ]
  },
  {
   "attachments": {},
   "cell_type": "markdown",
   "metadata": {},
   "source": [
    "## 5.4.3 Exceptions"
   ]
  },
  {
   "attachments": {},
   "cell_type": "markdown",
   "metadata": {},
   "source": [
    "A broader group of errors are so called exceptions. The occur during the execution of your code and can therefore only happen when no <code>SyntaxError</code> is found in your code. (yay!) The following table shows an overview of exception errorcodes and causes."
   ]
  },
  {
   "cell_type": "code",
   "execution_count": null,
   "metadata": {},
   "outputs": [],
   "source": [
    "import pandas as pd\n",
    "pd.set_option('max_colwidth',80) #Setting an option so Pandas will show wider columns\n",
    "errors = pd.read_html('https://www.programiz.com/python-programming/exceptions')[0] #An overview of the exceptions python can raise.\n",
    "errors[(errors.Exception != 'TabError') & (errors.Exception != 'SyntaxError') & (errors.Exception != 'SyntaxError')]\n",
    "errors"
   ]
  },
  {
   "cell_type": "code",
   "execution_count": null,
   "metadata": {},
   "outputs": [],
   "source": [
    "#For example:\n",
    "1/0"
   ]
  },
  {
   "cell_type": "code",
   "execution_count": null,
   "metadata": {},
   "outputs": [],
   "source": [
    "#or\n",
    "l = [1,2,3]\n",
    "l[15]"
   ]
  },
  {
   "cell_type": "code",
   "execution_count": null,
   "metadata": {},
   "outputs": [],
   "source": [
    "#Exceptions also show a traceback\n",
    "def firstfunc(x):\n",
    "    return x**2\n",
    "\n",
    "def secondfunc(x):\n",
    "    return firstfunc(x)\n",
    "\n",
    "secondfunc('test')"
   ]
  },
  {
   "cell_type": "code",
   "execution_count": null,
   "metadata": {},
   "outputs": [],
   "source": [
    "#Traceback can be very long in big packages like pandas\n",
    "pd.DataFrame([1,2,1,2.3], index=['A'])"
   ]
  },
  {
   "attachments": {},
   "cell_type": "markdown",
   "metadata": {},
   "source": [
    "### 5.4.3.1 Dealing with exceptions"
   ]
  },
  {
   "attachments": {},
   "cell_type": "markdown",
   "metadata": {},
   "source": [
    "When exceptions are raised by python, it stops excecuting the code. However, since we know the whole code is syntactically correct, we can also tell python to ignore the exception and continue excecuting (other) code. For this purpose, we use the keywords <code>try</code> and <code>except</code> as follows:\n",
    "\n",
    "```python\n",
    "try:\n",
    "   #Excecute this code\n",
    "except:\n",
    "   #Execute this code when an error occurs\n",
    "```"
   ]
  },
  {
   "cell_type": "code",
   "execution_count": null,
   "metadata": {},
   "outputs": [],
   "source": [
    "#For example:\n",
    "excel_dfs = []\n",
    "for file in os.listdir():\n",
    "    try:\n",
    "        df = pd.read_excel(file)\n",
    "        excel_dfs.append(file)\n",
    "        print(file + \" was added to list as dataframe\")\n",
    "    except:\n",
    "        print(\"! \" + file + \" could not be added using pd.read_excel()\")\n",
    "excel_dfs"
   ]
  },
  {
   "cell_type": "code",
   "execution_count": null,
   "metadata": {},
   "outputs": [],
   "source": [
    "#Else statement also works:\n",
    "excel_dfs = []\n",
    "for file in os.listdir():\n",
    "    try:\n",
    "        df = pd.read_excel(file)\n",
    "        excel_dfs.append(file)\n",
    "    except Exception as e: #You can also catch the exception with this line\n",
    "        print(\"! \" + file + \" could not be added using pd.read_excel()\")\n",
    "        print(\"! details: \"+str(e)) \n",
    "    else:\n",
    "        print(file + \" was added to list as excel dataframe\")\n",
    "excel_dfs"
   ]
  },
  {
   "attachments": {},
   "cell_type": "markdown",
   "metadata": {},
   "source": [
    "We can also except only specific errors. This allows us to execute specific kinds of code when specific kinds of errors occur:"
   ]
  },
  {
   "cell_type": "code",
   "execution_count": null,
   "metadata": {},
   "outputs": [],
   "source": [
    "try:\n",
    "    print(x)\n",
    "except NameError:\n",
    "    print(\"Variable x is not defined\")\n",
    "except:\n",
    "    print(\"Something else went wrong while printing variable x\")\n",
    "    \n",
    "y = {1:2}\n",
    "try:\n",
    "    print(y+1)\n",
    "except NameError:\n",
    "    print(\"Variable y is not defined\")\n",
    "except:\n",
    "    print(\"Something else went wrong while printing variable y\")\n"
   ]
  },
  {
   "cell_type": "code",
   "execution_count": null,
   "metadata": {},
   "outputs": [],
   "source": [
    "#Very helpfull! Catching the error\n",
    "y = {1:2}\n",
    "try:\n",
    "    print(y+1)\n",
    "except NameError as namerr:\n",
    "    print(\"Variable y is not defined\")\n",
    "    print(namerr)\n",
    "except Exception as othererr:\n",
    "    print(\"Something else went wrong\")\n",
    "    print(othererr)\n"
   ]
  },
  {
   "attachments": {},
   "cell_type": "markdown",
   "metadata": {},
   "source": [
    "Somtimes we want python to just continue when a certain exception occurs. We can use the <code>pass</code> keyword to just pass on. This keyword is often used for functions that do nothing (yet), since python will want not accept empty lines."
   ]
  },
  {
   "cell_type": "code",
   "execution_count": null,
   "metadata": {},
   "outputs": [],
   "source": [
    "while True:\n",
    "    try:\n",
    "        x = int(input(\"Please enter a number: \"))\n",
    "        break\n",
    "    except ValueError:\n",
    "        pass"
   ]
  },
  {
   "attachments": {},
   "cell_type": "markdown",
   "metadata": {},
   "source": [
    "Python gives us a bit more flexibility in handling exceptions by allowing us to also use <code>else</code> and <code>finally</code> with our try/except blocks.\n",
    "\n",
    "```python\n",
    "try:\n",
    "   #Excecute this code\n",
    "except:\n",
    "   #Execute this code when an exception occurs\n",
    "else:\n",
    "   #Execute this code when no exception occurs\n",
    "finally:\n",
    "   #Execute this code regardless of errors\n",
    "\n",
    "#Execute this code regardless of errors\n",
    "```"
   ]
  },
  {
   "cell_type": "code",
   "execution_count": null,
   "metadata": {},
   "outputs": [],
   "source": [
    "y=1\n",
    "try:\n",
    "    print(y+1)\n",
    "except NameError as namerr:\n",
    "    print(\"Variable y is not defined\")\n",
    "    print(namerr)\n",
    "except Exception as othererr:\n",
    "    print(\"Something else went wrong\")\n",
    "    print(othererr)\n",
    "else:\n",
    "    print(\"doing something with Y now...\")\n",
    "    z = 1+y\n",
    "finally:\n",
    "    print(\"Finished try/except lines for y\")"
   ]
  },
  {
   "attachments": {},
   "cell_type": "markdown",
   "metadata": {},
   "source": [
    "### 5.4.3.2 Raising your own exceptions"
   ]
  },
  {
   "attachments": {},
   "cell_type": "markdown",
   "metadata": {},
   "source": [
    "Exceptions can also be raised by the user. this can be very usefull when writing functions for others to use. You can use the keyword <code>raise</code> to either raise a general exception or a specific one (so that others can properly catch it in their try/except statement). "
   ]
  },
  {
   "cell_type": "code",
   "execution_count": null,
   "metadata": {},
   "outputs": [],
   "source": [
    "x = -1\n",
    "if x < 0:\n",
    "    raise Exception(\"Sorry, no numbers below zero\")\n",
    "    "
   ]
  },
  {
   "cell_type": "code",
   "execution_count": null,
   "metadata": {},
   "outputs": [],
   "source": [
    "def double(x):\n",
    "    \"\"\"This function returns the double of input (x).\n",
    "    Only accepts integers and floats as input.\n",
    "    Will raise a TypeError when other datatypes are used as input\"\"\"\n",
    "    if type(x) != int and type(x) != float:\n",
    "        raise TypeError(\"Only integers or floats allowed in doubler function\")\n",
    "    return x+x"
   ]
  },
  {
   "cell_type": "code",
   "execution_count": null,
   "metadata": {},
   "outputs": [],
   "source": [
    "print(double(5))\n",
    "double(\"test\")"
   ]
  },
  {
   "attachments": {},
   "cell_type": "markdown",
   "metadata": {},
   "source": [
    "<div class=\"alert alert-success\">\n",
    "\n",
    "# Exercise time 8!\n",
    "- I want to count the number of likes, comments and photos of all my blogposts using the data in the blog_post dictionary but my code doesn't work! Use the provided for loop but add try/except clauses to deal with exceptions.\n",
    "- Rewrite your working code to a function that can calculate the number of likes, comments and photo's for others as well. Make sure the proper exceptions are raised if users try to call the function with faulty data.\n",
    "\n",
    "Tip: For proper calcuations, the code should react differently when different errors occur.\n",
    "\n",
    "Tip: print() statements can help to show you where in a loop an errors occurs."
   ]
  },
  {
   "cell_type": "code",
   "execution_count": null,
   "metadata": {},
   "outputs": [],
   "source": [
    "blog_posts = [{'Photos': 3, 'Likes': 21, 'Comments': 2}, \n",
    "              {'Likes': 13, 'Comments': 2, 'Shares': 1}, \n",
    "              {'Photos': 5, 'Likes': 33, 'Comments': 8, 'Shares': 3}, \n",
    "              {'Comments': 4, 'Shares': '2'}, \n",
    "              {'Photos': 8, 'Comments': 'none', 'Shares': 1}, \n",
    "              {'Photos': 3, 'Likes': 19, 'Comments': 3}]"
   ]
  },
  {
   "cell_type": "code",
   "execution_count": null,
   "metadata": {},
   "outputs": [],
   "source": [
    "#For first exercise:\n",
    "total_likes = 0\n",
    "total_comments = 0\n",
    "total_photos = 0\n",
    "\n",
    "for post in blog_posts:\n",
    "    \n",
    "    total_likes = total_likes + post['Likes']\n",
    "\n",
    "    total_comments = total_likes + post['Comments']\n",
    "    \n",
    "    total_photos = total_photos + post['Photos']\n",
    "\n",
    "total_likes   "
   ]
  },
  {
   "cell_type": "code",
   "execution_count": null,
   "metadata": {},
   "outputs": [],
   "source": [
    "# Enter your code here\n",
    "\n",
    "\n",
    "\n"
   ]
  },
  {
   "attachments": {},
   "cell_type": "markdown",
   "metadata": {},
   "source": [
    "## 5.4.4 Semantic errors"
   ]
  },
  {
   "attachments": {},
   "cell_type": "markdown",
   "metadata": {},
   "source": [
    "Semantic errors are often the hardest errors to find in your code. These occur when your code compiles and runs without errors, but still does not return you the values you want. These often have the same cause as syntax errors: a quick typo or a partial understanding of the meaning of the written code. As with other errors, use the two error strategies:\n",
    "\n",
    "1. Google is your best friend! A google search of the problem you have will lead you to others that have experienced this problem before.\n",
    "2. Divide and conquer. Change long and unclear codes or actions into smaller bits to see where the problem lies exactly. Make sure all lines of code execute only a single action and use lots of print statements to see in which line the error lies."
   ]
  },
  {
   "cell_type": "code",
   "execution_count": null,
   "metadata": {},
   "outputs": [],
   "source": [
    "num1 = input('Enter a number:')\n",
    "num2 = input('Enter another number:')\n",
    "sum = num1 + num2\n",
    "\n",
    "print('The sum of', num1, 'and', num2, 'is', sum)\n",
    "# The result is not wat we want. The error is that the programs performs concatenation instead of addition. \n",
    "# Failed to write the code to converts the input to integers. \n"
   ]
  },
  {
   "attachments": {},
   "cell_type": "markdown",
   "metadata": {},
   "source": [
    "Please see appendix A of think python for more help on debugging:\n",
    "http://openbookproject.net/thinkcs/python/english3e/app_a.html"
   ]
  },
  {
   "attachments": {},
   "cell_type": "markdown",
   "metadata": {},
   "source": [
    "<div class=\"alert alert-success\">\n",
    "\n",
    "# Selfstudy\n",
    "\n",
    "Work on your own project"
   ]
  },
  {
   "cell_type": "code",
   "execution_count": null,
   "metadata": {},
   "outputs": [],
   "source": [
    "# Try what you have learned here on your own project.\n",
    "\n",
    "\n",
    "\n"
   ]
  }
 ],
 "metadata": {
  "kernelspec": {
   "display_name": "Python 3",
   "language": "python",
   "name": "python3"
  },
  "language_info": {
   "codemirror_mode": {
    "name": "ipython",
    "version": 3
   },
   "file_extension": ".py",
   "mimetype": "text/x-python",
   "name": "python",
   "nbconvert_exporter": "python",
   "pygments_lexer": "ipython3",
   "version": "3.9.0"
  },
  "vscode": {
   "interpreter": {
    "hash": "e1c78b63cdf961d615569b1c5521c70aec1452b4d257a3b29c52e02962242c3b"
   }
  }
 },
 "nbformat": 4,
 "nbformat_minor": 4
}
